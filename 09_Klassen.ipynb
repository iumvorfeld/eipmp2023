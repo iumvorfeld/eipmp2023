{
 "cells": [
  {
   "cell_type": "markdown",
   "metadata": {
    "id": "t_vXugrFIEpr"
   },
   "source": [
    "Fangen wir mit einem einfachen Beispiel an: "
   ]
  },
  {
   "cell_type": "code",
   "execution_count": 9,
   "metadata": {
    "colab": {
     "base_uri": "https://localhost:8080/"
    },
    "executionInfo": {
     "elapsed": 31,
     "status": "ok",
     "timestamp": 1682456431808,
     "user": {
      "displayName": "Martin Vorfeld",
      "userId": "07400220766875012330"
     },
     "user_tz": -120
    },
    "id": "gfh0x6gXIoDE",
    "outputId": "62db785d-c493-4948-a73c-afdf7c7cb2d4"
   },
   "outputs": [
    {
     "name": "stdout",
     "output_type": "stream",
     "text": [
      "<class '__main__.Gebaeude'>\n",
      "<__main__.Gebaeude object at 0x7f69bf9cd0d0>\n",
      "1\n",
      "1\n",
      "2\n",
      "3\n"
     ]
    }
   ],
   "source": [
    "class Gebaeude:\n",
    "  etagen = 1\n",
    "  anzahl_tueren = 1\n",
    "  #get(ter) und set(ter)-Funktionen sind möglich\n",
    "  #aber in Python unüblich\n",
    "  def set_etagen(self, anzahl):\n",
    "    self.etagen = anzahl\n",
    "  def get_etagen(self):\n",
    "    return self.etagen\n",
    "#hier legen wir eine Instanz an\n",
    "g1 = Gebaeude()\n",
    "g2 = Gebaeude()#noch eine Instanz\n",
    "print(type(g1))\n",
    "print(g1)\n",
    "#In vielen anderen Programmiersprachen verpöhnt\n",
    "#Direkter Zugriff in der Python Weg\n",
    "print(g1.etagen)\n",
    "print(g1.get_etagen())\n",
    "g1.etagen = 2\n",
    "print(g1.etagen)\n",
    "g1.set_etagen(3)\n",
    "print(g1.etagen)"
   ]
  },
  {
   "cell_type": "markdown",
   "metadata": {
    "id": "HorJox9kN-mK"
   },
   "source": [
    "Diese Klasse ist nun etwas Praxistauglicher\n",
    "- mit der Init-Funktion werden die Eigenschaften beim Anlegen der Instanz gefüllt\n",
    "- __str__ definiert den lesbaren \"Namen\", den die Klasse(ninstanz) hat. Dieser wird beim Aufruf von print() ausgelesen. Wenn nicht vorhanden: Ausgabe einer kryptischen Objekt-ID"
   ]
  },
  {
   "cell_type": "code",
   "execution_count": 1,
   "metadata": {
    "colab": {
     "base_uri": "https://localhost:8080/"
    },
    "executionInfo": {
     "elapsed": 301,
     "status": "ok",
     "timestamp": 1682457252370,
     "user": {
      "displayName": "Martin Vorfeld",
      "userId": "07400220766875012330"
     },
     "user_tz": -120
    },
    "id": "dOUzSrApDOeX",
    "outputId": "c3255a44-e158-497f-86f2-7afed3069d7b"
   },
   "outputs": [
    {
     "name": "stdout",
     "output_type": "stream",
     "text": [
      "<class '__main__.Fahrzeug'>\n",
      "Fahrrad ist umweltfreundlich\n",
      "50 km gefahren\n",
      "55 km gefahren\n"
     ]
    }
   ],
   "source": [
    "class Fahrzeug:\n",
    "  def __init__(self, name, km, raeder, sitze):\n",
    "    self.name = name\n",
    "    self.km = km\n",
    "    self.raeder = raeder\n",
    "    self.sitze = sitze\n",
    "  \n",
    "  def __str__(self):\n",
    "    return f\"{self.name} ist umweltfreundlich\"\n",
    "\n",
    "  def fuege_km_hinzu(self, k):\n",
    "    self.km+=k\n",
    "\n",
    "  def print_km_anzahl(self):\n",
    "    print(self.km, \"km gefahren\")\n",
    "\n",
    "f = Fahrzeug(\"Fahrrad\", 50, 2, 1)\n",
    "print(type(f))\n",
    "print(f)\n",
    "f.print_km_anzahl()\n",
    "f.fuege_km_hinzu(5)\n",
    "f.print_km_anzahl()"
   ]
  },
  {
   "cell_type": "markdown",
   "metadata": {
    "id": "C0rzcl7ZH_WV"
   },
   "source": [
    "Aus der Klasse Fahrzeug kann man nun z.B. eine Klasse \"Auto\" ableiten, die als weitere Eigenschaft die Anzahl Türen  hat"
   ]
  },
  {
   "cell_type": "code",
   "execution_count": 3,
   "metadata": {
    "colab": {
     "base_uri": "https://localhost:8080/"
    },
    "executionInfo": {
     "elapsed": 275,
     "status": "ok",
     "timestamp": 1682457626888,
     "user": {
      "displayName": "Martin Vorfeld",
      "userId": "07400220766875012330"
     },
     "user_tz": -120
    },
    "id": "Q2vmFNwlSKCg",
    "outputId": "1d272907-0e0d-471e-989e-4d3b64f259d5"
   },
   "outputs": [
    {
     "name": "stdout",
     "output_type": "stream",
     "text": [
      "('VW', 5)\n"
     ]
    }
   ],
   "source": [
    "class Auto(Fahrzeug):\n",
    "  tueren = 0\n",
    "  def set_tueren(self, t):\n",
    "    self.tueren = t\n",
    "  def get_tueren(self):\n",
    "    return self.tueren\n",
    "  def __str__(self):\n",
    "    return f\"{self.name, self.tueren}\"\n",
    "a = Auto(\"VW\", 1000, 4, 5)\n",
    "a.set_tueren(5)\n",
    "\n",
    "print(a)"
   ]
  },
  {
   "cell_type": "markdown",
   "metadata": {},
   "source": [
    "Wie man sieht wurde keine eigene __init__ - Methode angelegt. Dafür wurde __str__ überschrieben und die Anzahl der Türen mit get+set ergänzt"
   ]
  },
  {
   "cell_type": "code",
   "execution_count": null,
   "metadata": {},
   "outputs": [],
   "source": [
    "Eine Klasse kann auch von mehreren Klassen erben. \n",
    "Wichtig: Wenn beide Klassen die gleichen Methoden haben, wird standardmäßig die Methode der zuerst vererbten Klasse genutzt\n",
    "Beispiel mit Problemen:"
   ]
  },
  {
   "cell_type": "code",
   "execution_count": 12,
   "metadata": {},
   "outputs": [
    {
     "name": "stdout",
     "output_type": "stream",
     "text": [
      "Ich bin ein Säugetier\n"
     ]
    },
    {
     "ename": "AttributeError",
     "evalue": "'Schnabeltier' object has no attribute 'info2'",
     "output_type": "error",
     "traceback": [
      "\u001b[1;31m---------------------------------------------------------------------------\u001b[0m",
      "\u001b[1;31mAttributeError\u001b[0m                            Traceback (most recent call last)",
      "\u001b[1;32m~\\AppData\\Local\\Temp\\ipykernel_9524\\724008418.py\u001b[0m in \u001b[0;36m<module>\u001b[1;34m\u001b[0m\n\u001b[0;32m     10\u001b[0m \u001b[0mS\u001b[0m \u001b[1;33m=\u001b[0m \u001b[0mSchnabeltier\u001b[0m\u001b[1;33m(\u001b[0m\u001b[1;33m)\u001b[0m\u001b[1;33m\u001b[0m\u001b[1;33m\u001b[0m\u001b[0m\n\u001b[0;32m     11\u001b[0m \u001b[0mprint\u001b[0m\u001b[1;33m(\u001b[0m\u001b[0mS\u001b[0m\u001b[1;33m.\u001b[0m\u001b[0minfo\u001b[0m\u001b[1;33m)\u001b[0m\u001b[1;33m\u001b[0m\u001b[1;33m\u001b[0m\u001b[0m\n\u001b[1;32m---> 12\u001b[1;33m \u001b[0mprint\u001b[0m\u001b[1;33m(\u001b[0m\u001b[0mS\u001b[0m\u001b[1;33m.\u001b[0m\u001b[0minfo2\u001b[0m\u001b[1;33m)\u001b[0m\u001b[1;33m\u001b[0m\u001b[1;33m\u001b[0m\u001b[0m\n\u001b[0m",
      "\u001b[1;31mAttributeError\u001b[0m: 'Schnabeltier' object has no attribute 'info2'"
     ]
    }
   ],
   "source": [
    "class Saeugetier():\n",
    "    def __init__(self):\n",
    "        self.info = \"Ich bin ein Säugetier\"\n",
    "class Vogel():\n",
    "    def __init__(self):\n",
    "        self.info2 = \"Ich bin ein Vogel\"\n",
    "class Schnabeltier(Saeugetier, Vogel):\n",
    "    pass\n",
    "\n",
    "S = Schnabeltier()\n",
    "print(S.info)\n",
    "print(S.info2)"
   ]
  },
  {
   "cell_type": "code",
   "execution_count": 20,
   "metadata": {},
   "outputs": [
    {
     "name": "stdout",
     "output_type": "stream",
     "text": [
      "Ich bin ein Vogel\n"
     ]
    }
   ],
   "source": [
    "class Saeugetier():\n",
    "    def __init__(self):\n",
    "        self.info = \"Ich bin ein Säugetier\"\n",
    "class Vogel():\n",
    "    def __init__(self):\n",
    "        self.info2 = \"Ich bin ein Vogel\"\n",
    "class Schnabeltier(Saeugetier, Vogel):\n",
    "    def __init__(self):\n",
    "        #Aufruf beider init-Funktionen\n",
    "        Saeugetier.__init__(self)\n",
    "        Vogel.__init__(self)\n",
    "     \n",
    "\n",
    "S = Schnabeltier()\n",
    "print(S.info)\n",
    "print(S.info2)\n",
    "\n"
   ]
  },
  {
   "cell_type": "markdown",
   "metadata": {},
   "source": [
    "Wie man sieht, muss man bei Mehrfachvererbung nur sehr aufpassen, dass die \"Elternklassen\" sich nicht gegenseitig überschneiden."
   ]
  },
  {
   "cell_type": "markdown",
   "metadata": {},
   "source": [
    "asdasdasd"
   ]
  },
  {
   "cell_type": "code",
   "execution_count": null,
   "metadata": {},
   "outputs": [],
   "source": []
  }
 ],
 "metadata": {
  "colab": {
   "authorship_tag": "ABX9TyP5lnNI12isuvldRUVSkqVc",
   "provenance": []
  },
  "kernelspec": {
   "display_name": "Python 3 (ipykernel)",
   "language": "python",
   "name": "python3"
  },
  "language_info": {
   "codemirror_mode": {
    "name": "ipython",
    "version": 3
   },
   "file_extension": ".py",
   "mimetype": "text/x-python",
   "name": "python",
   "nbconvert_exporter": "python",
   "pygments_lexer": "ipython3",
   "version": "3.10.9"
  }
 },
 "nbformat": 4,
 "nbformat_minor": 4
}
