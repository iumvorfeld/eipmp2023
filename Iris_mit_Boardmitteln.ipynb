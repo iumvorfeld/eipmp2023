{
 "cells": [
  {
   "cell_type": "markdown",
   "id": "0fd48845-baac-43f8-b00c-7b76a970d288",
   "metadata": {},
   "source": [
    "Klassendefinition mit allem was nötig ist (gerne ergänzen)"
   ]
  },
  {
   "cell_type": "code",
   "execution_count": 27,
   "id": "48a9ab32-afa2-4f54-8f69-b9e78cb1526e",
   "metadata": {},
   "outputs": [
    {
     "ename": "TypeError",
     "evalue": "Iris.__init__() takes from 5 to 6 positional arguments but 7 were given",
     "output_type": "error",
     "traceback": [
      "\u001b[1;31m---------------------------------------------------------------------------\u001b[0m",
      "\u001b[1;31mTypeError\u001b[0m                                 Traceback (most recent call last)",
      "Cell \u001b[1;32mIn[27], line 13\u001b[0m\n\u001b[0;32m     10\u001b[0m     \u001b[38;5;28;01mdef\u001b[39;00m \u001b[38;5;21m__str__\u001b[39m(\u001b[38;5;28mself\u001b[39m):\n\u001b[0;32m     11\u001b[0m         \u001b[38;5;28;01mreturn\u001b[39;00m \u001b[38;5;124mf\u001b[39m\u001b[38;5;124m\"\u001b[39m\u001b[38;5;124mIris-Art: \u001b[39m\u001b[38;5;132;01m{\u001b[39;00m\u001b[38;5;28mself\u001b[39m\u001b[38;5;241m.\u001b[39mart\u001b[38;5;132;01m}\u001b[39;00m\u001b[38;5;130;01m\\n\u001b[39;00m\u001b[38;5;124mBlattlänge: \u001b[39m\u001b[38;5;132;01m{\u001b[39;00m\u001b[38;5;28mself\u001b[39m\u001b[38;5;241m.\u001b[39mblatt_länge\u001b[38;5;132;01m}\u001b[39;00m\u001b[38;5;124m mm\u001b[39m\u001b[38;5;130;01m\\n\u001b[39;00m\u001b[38;5;124mBlattbreite: \u001b[39m\u001b[38;5;132;01m{\u001b[39;00m\u001b[38;5;28mself\u001b[39m\u001b[38;5;241m.\u001b[39mblatt_breite\u001b[38;5;132;01m}\u001b[39;00m\u001b[38;5;124m mm\u001b[39m\u001b[38;5;130;01m\\n\u001b[39;00m\u001b[38;5;124mBlütenlänge: \u001b[39m\u001b[38;5;132;01m{\u001b[39;00m\u001b[38;5;28mself\u001b[39m\u001b[38;5;241m.\u001b[39mblüte_länge\u001b[38;5;132;01m}\u001b[39;00m\u001b[38;5;124m mm\u001b[39m\u001b[38;5;130;01m\\n\u001b[39;00m\u001b[38;5;124mBlütenbreite: \u001b[39m\u001b[38;5;132;01m{\u001b[39;00m\u001b[38;5;28mself\u001b[39m\u001b[38;5;241m.\u001b[39mblüte_breite\u001b[38;5;132;01m}\u001b[39;00m\u001b[38;5;124m mm\u001b[39m\u001b[38;5;124m\"\u001b[39m\n\u001b[1;32m---> 13\u001b[0m bla \u001b[38;5;241m=\u001b[39m \u001b[43mIris\u001b[49m\u001b[43m(\u001b[49m\u001b[38;5;241;43m1\u001b[39;49m\u001b[43m,\u001b[49m\u001b[38;5;241;43m2\u001b[39;49m\u001b[43m,\u001b[49m\u001b[38;5;241;43m3\u001b[39;49m\u001b[43m,\u001b[49m\u001b[38;5;241;43m4\u001b[39;49m\u001b[43m,\u001b[49m\u001b[38;5;241;43m5\u001b[39;49m\u001b[43m,\u001b[49m\u001b[38;5;241;43m6\u001b[39;49m\u001b[43m)\u001b[49m\n\u001b[0;32m     14\u001b[0m \u001b[38;5;28mprint\u001b[39m(bla)\n",
      "\u001b[1;31mTypeError\u001b[0m: Iris.__init__() takes from 5 to 6 positional arguments but 7 were given"
     ]
    }
   ],
   "source": [
    "# Klassen definieren\n",
    "class Iris:\n",
    "    def __init__(self, blatt_länge, blatt_breite, blüte_länge, blüte_breite, art=\"unbekannt\"):\n",
    "        self.blatt_länge = blatt_länge\n",
    "        self.blatt_breite = blatt_breite\n",
    "        self.blüte_länge = blüte_länge\n",
    "        self.blüte_breite = blüte_breite\n",
    "        self.art = art\n",
    "\n",
    "    def __str__(self):\n",
    "        return f\"Iris-Art: {self.art}\\nBlattlänge: {self.blatt_länge} mm\\nBlattbreite: {self.blatt_breite} mm\\nBlütenlänge: {self.blüte_länge} mm\\nBlütenbreite: {self.blüte_breite} mm\"\n",
    "\n",
    "bla = Iris(1,2,3,4,5,6)\n",
    "print(bla)"
   ]
  },
  {
   "cell_type": "markdown",
   "id": "018b6374-d125-477b-b244-e15505447f94",
   "metadata": {},
   "source": [
    "Wir legen eine Liste von Klasseninstanzen an. Das auslesen der Datei lagern wir in eine Datei aus..."
   ]
  },
  {
   "cell_type": "code",
   "execution_count": 19,
   "id": "be26d931-de86-49b2-ae25-388b58cfd5a7",
   "metadata": {},
   "outputs": [
    {
     "name": "stdout",
     "output_type": "stream",
     "text": [
      "Iris-Art: Iris-virginica\n",
      "\n",
      "Blattlänge: 7.9 mm\n",
      "Blattbreite: 3.8 mm\n",
      "Blütenlänge: 6.4 mm\n",
      "Blütenbreite: 2.0 mm 7.9\n"
     ]
    }
   ],
   "source": [
    "def load_datensatz():\n",
    "    file = open(\"iris.data\",\"r\")\n",
    "    liste_von_klassen = []\n",
    "    for line in file:\n",
    "        liste = line.split(\",\")\n",
    "        #print(liste)\n",
    "        Iris_Element = Iris(float(liste[0]), float(liste[1]), float(liste[2]), float(liste[3]), liste[4])\n",
    "        liste_von_klassen.append(Iris_Element)\n",
    "    file.close()\n",
    "    #print(liste_von_klassen[37])\n",
    "    return liste_von_klassen\n",
    "\n",
    "alle_iris = load_datensatz()\n",
    "max_laenge = 0\n",
    "gefundenes_element = -1\n",
    "for i in alle_iris:\n",
    "    aktuelle_blattlaenge = i.blatt_länge\n",
    "    if aktuelle_blattlaenge > max_laenge:\n",
    "        max_laenge = aktuelle_blattlaenge\n",
    "        gefundenes_element = i\n",
    "print(gefundenes_element, max_laenge)"
   ]
  },
  {
   "cell_type": "code",
   "execution_count": null,
   "id": "d57c3710-1e5a-4a07-abef-7050f55ac9df",
   "metadata": {},
   "outputs": [],
   "source": [
    "Wenn wir wirklich nur die maximale Blattlänge finden wollen, brauchen wir die Klassenstruktur nicht:"
   ]
  },
  {
   "cell_type": "code",
   "execution_count": 21,
   "id": "bc6638de-06e8-42de-a521-94b241a09de1",
   "metadata": {},
   "outputs": [
    {
     "name": "stdout",
     "output_type": "stream",
     "text": [
      "[4.3, 4.4, 4.4, 4.4, 4.5, 4.6, 4.6, 4.6, 4.6, 4.7, 4.7, 4.8, 4.8, 4.8, 4.8, 4.8, 4.9, 4.9, 4.9, 4.9, 4.9, 4.9, 5.0, 5.0, 5.0, 5.0, 5.0, 5.0, 5.0, 5.0, 5.0, 5.0, 5.1, 5.1, 5.1, 5.1, 5.1, 5.1, 5.1, 5.1, 5.1, 5.2, 5.2, 5.2, 5.2, 5.3, 5.4, 5.4, 5.4, 5.4, 5.4, 5.4, 5.5, 5.5, 5.5, 5.5, 5.5, 5.5, 5.5, 5.6, 5.6, 5.6, 5.6, 5.6, 5.6, 5.7, 5.7, 5.7, 5.7, 5.7, 5.7, 5.7, 5.7, 5.8, 5.8, 5.8, 5.8, 5.8, 5.8, 5.8, 5.9, 5.9, 5.9, 6.0, 6.0, 6.0, 6.0, 6.0, 6.0, 6.1, 6.1, 6.1, 6.1, 6.1, 6.1, 6.2, 6.2, 6.2, 6.2, 6.3, 6.3, 6.3, 6.3, 6.3, 6.3, 6.3, 6.3, 6.3, 6.4, 6.4, 6.4, 6.4, 6.4, 6.4, 6.4, 6.5, 6.5, 6.5, 6.5, 6.5, 6.6, 6.6, 6.7, 6.7, 6.7, 6.7, 6.7, 6.7, 6.7, 6.7, 6.8, 6.8, 6.8, 6.9, 6.9, 6.9, 6.9, 7.0, 7.1, 7.2, 7.2, 7.2, 7.3, 7.4, 7.6, 7.7, 7.7, 7.7, 7.7, 7.9]\n"
     ]
    }
   ],
   "source": [
    "def load_datensatz():\n",
    "    file = open(\"iris.data\",\"r\")\n",
    "    blatt_laengen = []\n",
    "    for line in file:\n",
    "        liste = line.split(\",\")\n",
    "        #print(liste)\n",
    "        blatt_laengen.append(float(liste[0]))\n",
    "    file.close()\n",
    "    return blatt_laengen\n",
    "\n",
    "bl = load_datensatz()\n",
    "sortierte_laengen = sorted(bl)\n",
    "print(sortierte_laengen)"
   ]
  },
  {
   "cell_type": "code",
   "execution_count": null,
   "id": "9fadf075-efb7-4540-8515-2a512badfa0e",
   "metadata": {},
   "outputs": [],
   "source": []
  }
 ],
 "metadata": {
  "kernelspec": {
   "display_name": "Python 3 (ipykernel)",
   "language": "python",
   "name": "python3"
  },
  "language_info": {
   "codemirror_mode": {
    "name": "ipython",
    "version": 3
   },
   "file_extension": ".py",
   "mimetype": "text/x-python",
   "name": "python",
   "nbconvert_exporter": "python",
   "pygments_lexer": "ipython3",
   "version": "3.10.9"
  }
 },
 "nbformat": 4,
 "nbformat_minor": 5
}
