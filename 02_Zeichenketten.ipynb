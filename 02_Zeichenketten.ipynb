{
 "cells": [
  {
   "cell_type": "markdown",
   "id": "28da28f2",
   "metadata": {},
   "source": [
    "# Schauen wir uns Zeichenketten an"
   ]
  },
  {
   "cell_type": "code",
   "execution_count": 1,
   "id": "ae188139",
   "metadata": {},
   "outputs": [
    {
     "name": "stdout",
     "output_type": "stream",
     "text": [
      "Das ist eine Zeichenkette <class 'str'>\n"
     ]
    }
   ],
   "source": [
    "str = \"Das ist eine Zeichenkette\"\n",
    "print(str, type(str))\n"
   ]
  },
  {
   "cell_type": "code",
   "execution_count": 3,
   "id": "363e89ae",
   "metadata": {},
   "outputs": [
    {
     "name": "stdout",
     "output_type": "stream",
     "text": [
      "Das ist auch eine Zeichenkette <class 'str'>\n"
     ]
    }
   ],
   "source": [
    "str = 'Das ist auch eine Zeichenkette'\n",
    "print(str, type(str))"
   ]
  },
  {
   "cell_type": "markdown",
   "id": "3c03b6ea",
   "metadata": {},
   "source": [
    "Was macht man, wenn man nun Anführungszeichen ausgeben will? Entweder einfache und doppelte Anführungszeichen kombinieren:"
   ]
  },
  {
   "cell_type": "code",
   "execution_count": 5,
   "id": "24ccf1ac",
   "metadata": {},
   "outputs": [
    {
     "ename": "SyntaxError",
     "evalue": "invalid syntax. Perhaps you forgot a comma? (4038567237.py, line 2)",
     "output_type": "error",
     "traceback": [
      "\u001b[1;36m  Cell \u001b[1;32mIn[5], line 2\u001b[1;36m\u001b[0m\n\u001b[1;33m    print(\"Wer kennt dieses \"Anführungszeichen\"?\")\u001b[0m\n\u001b[1;37m          ^\u001b[0m\n\u001b[1;31mSyntaxError\u001b[0m\u001b[1;31m:\u001b[0m invalid syntax. Perhaps you forgot a comma?\n"
     ]
    }
   ],
   "source": [
    "print('Wer kennt dieses \"Anführungszeichen\"?')\n",
    "print(\"Wer kennt dieses 'Anführungszeichen'?\")"
   ]
  },
  {
   "cell_type": "code",
   "execution_count": null,
   "id": "a616eb5c",
   "metadata": {},
   "outputs": [],
   "source": [
    "Alternativ muss man das Anführungszeichen \"escapen\". Das funktioniert mit einem Backslash:"
   ]
  },
  {
   "cell_type": "code",
   "execution_count": 10,
   "id": "046e4bfa",
   "metadata": {},
   "outputs": [
    {
     "ename": "SyntaxError",
     "evalue": "unterminated string literal (detected at line 2) (2774175930.py, line 2)",
     "output_type": "error",
     "traceback": [
      "\u001b[1;36m  Cell \u001b[1;32mIn[10], line 2\u001b[1;36m\u001b[0m\n\u001b[1;33m    print(\"Wer kennt dieses \\\"Anführungszeich\u001b[0m\n\u001b[1;37m          ^\u001b[0m\n\u001b[1;31mSyntaxError\u001b[0m\u001b[1;31m:\u001b[0m unterminated string literal (detected at line 2)\n"
     ]
    }
   ],
   "source": [
    "print('Wer kennt dieses \\'Anführungszeichen\\'?')\n",
    "print(\"Wer kennt dieses \\\"Anführungszeich\")\n",
    "      #hier ist dieses Beispiel\n",
    "# asdasdas "
   ]
  },
  {
   "cell_type": "code",
   "execution_count": null,
   "id": "b5ced56d-5f5b-4e2a-a0a5-6f80fd54cf57",
   "metadata": {},
   "outputs": [],
   "source": [
    "Wenn man sehr lange Zeichenketten schreiben möchte, dann nimmt man drei Anführungszeichen"
   ]
  },
  {
   "cell_type": "code",
   "execution_count": 11,
   "id": "6870e408",
   "metadata": {},
   "outputs": [
    {
     "name": "stdout",
     "output_type": "stream",
     "text": [
      "\n",
      "In der neuen Zeile kann etwas stehen\n",
      "hier noch etwas\n",
      "\n"
     ]
    }
   ],
   "source": [
    "str_mehrere_Zeilen = \"\"\"\n",
    "In der neuen Zeile kann etwas stehen\n",
    "hier noch etwas\n",
    "\"\"\"\n",
    "print(str_mehrere_Zeilen)"
   ]
  },
  {
   "cell_type": "markdown",
   "id": "0d44c988",
   "metadata": {},
   "source": [
    "Apropos Länge: Wie lange ein String ist, wird oft geprüft"
   ]
  },
  {
   "cell_type": "code",
   "execution_count": 12,
   "id": "5c475535",
   "metadata": {},
   "outputs": [
    {
     "name": "stdout",
     "output_type": "stream",
     "text": [
      "6\n"
     ]
    }
   ],
   "source": [
    "passwort_string = \"123456\"\n",
    "print(len(passwort_string))"
   ]
  },
  {
   "cell_type": "code",
   "execution_count": null,
   "id": "36931f02",
   "metadata": {},
   "outputs": [],
   "source": [
    "In Strings zu suchen ist einfach..."
   ]
  },
  {
   "cell_type": "code",
   "execution_count": 13,
   "id": "fc1e9d84",
   "metadata": {},
   "outputs": [
    {
     "name": "stdout",
     "output_type": "stream",
     "text": [
      "True\n",
      "False\n",
      "True\n"
     ]
    }
   ],
   "source": [
    "Einkaufsliste = \"Milch Butter Eier Brot Butter\"\n",
    "print(\"Butter\" in Einkaufsliste)\n",
    "print(\"Bier\" in Einkaufsliste)\n",
    "print(\"Bier\" not in Einkaufsliste)"
   ]
  },
  {
   "cell_type": "markdown",
   "id": "38fa8a53",
   "metadata": {},
   "source": [
    "Es geht aber auch anders, wenn man z.B. die Position möchte"
   ]
  },
  {
   "cell_type": "code",
   "execution_count": 14,
   "id": "b759f819",
   "metadata": {},
   "outputs": [
    {
     "name": "stdout",
     "output_type": "stream",
     "text": [
      "6\n",
      "-1\n",
      "6\n"
     ]
    },
    {
     "ename": "ValueError",
     "evalue": "substring not found",
     "output_type": "error",
     "traceback": [
      "\u001b[1;31m---------------------------------------------------------------------------\u001b[0m",
      "\u001b[1;31mValueError\u001b[0m                                Traceback (most recent call last)",
      "Cell \u001b[1;32mIn[14], line 5\u001b[0m\n\u001b[0;32m      3\u001b[0m \u001b[38;5;28mprint\u001b[39m(Einkaufsliste\u001b[38;5;241m.\u001b[39mindex(\u001b[38;5;124m\"\u001b[39m\u001b[38;5;124mButter\u001b[39m\u001b[38;5;124m\"\u001b[39m))\n\u001b[0;32m      4\u001b[0m \u001b[38;5;66;03m#Wirft eine Exception. Exceptions schauen wir uns später an\u001b[39;00m\n\u001b[1;32m----> 5\u001b[0m \u001b[38;5;28mprint\u001b[39m(\u001b[43mEinkaufsliste\u001b[49m\u001b[38;5;241;43m.\u001b[39;49m\u001b[43mindex\u001b[49m\u001b[43m(\u001b[49m\u001b[38;5;124;43m\"\u001b[39;49m\u001b[38;5;124;43mBier\u001b[39;49m\u001b[38;5;124;43m\"\u001b[39;49m\u001b[43m)\u001b[49m)\n",
      "\u001b[1;31mValueError\u001b[0m: substring not found"
     ]
    }
   ],
   "source": [
    "print(Einkaufsliste.find(\"Butter\"))\n",
    "print(Einkaufsliste.find(\"Bier\"))\n",
    "print(Einkaufsliste.index(\"Butter\"))\n",
    "#Wirft eine Exception. Exceptions schauen wir uns später an\n",
    "print(Einkaufsliste.index(\"Bier\"))\n"
   ]
  },
  {
   "cell_type": "code",
   "execution_count": null,
   "id": "00fbd837",
   "metadata": {},
   "outputs": [],
   "source": [
    "a = \"Teil 1\"\n",
    "b = \"Teil 2\""
   ]
  },
  {
   "cell_type": "code",
   "execution_count": null,
   "id": "94217433",
   "metadata": {},
   "outputs": [],
   "source": [
    "Strings zu verbinden geht z.B. so:"
   ]
  },
  {
   "cell_type": "code",
   "execution_count": 17,
   "id": "ed5c34e6",
   "metadata": {},
   "outputs": [
    {
     "name": "stdout",
     "output_type": "stream",
     "text": [
      "Viele weitere Methoden findet man hier: https://www.w3schools.com/python/python_strings_methods.asp\n"
     ]
    }
   ],
   "source": [
    "str1 = \"Viele weitere Methoden findet man hier: \"\n",
    "str2 = \"https://www.w3schools.com/python/python_strings_methods.asp\"\n",
    "str3 = str1+str2\n",
    "print(str3)"
   ]
  },
  {
   "cell_type": "markdown",
   "id": "423fd9fd",
   "metadata": {},
   "source": [
    "Wir hatten schon gesehen, dass man mit input() eine Eingabe machen kann. Oft wird diese Eingabe wieder ausgegeben. Das funktioniert dann auch auf verschiedene Weise:"
   ]
  },
  {
   "cell_type": "code",
   "execution_count": 15,
   "id": "ac4c3790",
   "metadata": {},
   "outputs": [
    {
     "name": "stdin",
     "output_type": "stream",
     "text": [
      " Jonas\n"
     ]
    },
    {
     "name": "stdout",
     "output_type": "stream",
     "text": [
      "Hallo Jonas\n",
      "Hallo Jonas\n"
     ]
    }
   ],
   "source": [
    "name = input()\n",
    "print(\"Hallo \"+name)\n",
    "ausgabe = f\"Hallo {name}\"\n",
    "print(ausgabe)"
   ]
  },
  {
   "cell_type": "markdown",
   "id": "9bd7744c",
   "metadata": {},
   "source": [
    "Jetzt folgt nach und nach etwas Voodoo: \n",
    "Man kann jedes Zeichen eines Strings abfragen, da Strings als \"Arrays\" angelegt sind:"
   ]
  },
  {
   "cell_type": "code",
   "execution_count": 19,
   "id": "cc7d5eed",
   "metadata": {},
   "outputs": [
    {
     "name": "stdout",
     "output_type": "stream",
     "text": [
      "V\n",
      "V i e l e\n"
     ]
    }
   ],
   "source": [
    "print(str3[0])\n",
    "print(str3[0],str3[1],str3[2], str3[3], str3[4])"
   ]
  },
  {
   "cell_type": "markdown",
   "id": "ecfa15b2",
   "metadata": {},
   "source": [
    "Jedes Element allein abzufragen, ist vielleicht etwas nervig. Also kann man auch Bereiche abfragen:"
   ]
  },
  {
   "cell_type": "code",
   "execution_count": 20,
   "id": "bed94fb3",
   "metadata": {},
   "outputs": [
    {
     "name": "stdout",
     "output_type": "stream",
     "text": [
      "Viel\n"
     ]
    }
   ],
   "source": [
    "print(str3[0:4])"
   ]
  },
  {
   "cell_type": "markdown",
   "id": "b5432be1",
   "metadata": {},
   "source": [
    "Die ist zu interpretieren als: Beginne beim null-ten Zeichen und gehe bis zum vierten Zeichen (nicht mehr dabei!). Das erste Zeichen mit Index 0 ist der Standard, dieses kann man in der Schreibweise also weglassen:"
   ]
  },
  {
   "cell_type": "code",
   "execution_count": 21,
   "id": "901bb6bb",
   "metadata": {},
   "outputs": [
    {
     "name": "stdout",
     "output_type": "stream",
     "text": [
      "Viel\n"
     ]
    }
   ],
   "source": [
    "print(str3[:4])"
   ]
  },
  {
   "cell_type": "markdown",
   "id": "15fd5e40",
   "metadata": {},
   "source": [
    "Gleiches funktioniert mit dem letzten Zeichen - zu zeigen  bei einem kürzeren String:"
   ]
  },
  {
   "cell_type": "code",
   "execution_count": 27,
   "id": "32fe2b1a",
   "metadata": {},
   "outputs": [
    {
     "name": "stdout",
     "output_type": "stream",
     "text": [
      "BCDE\n",
      "ABCDE\n"
     ]
    }
   ],
   "source": [
    "kurz = \"ABCDE\"\n",
    "print(kurz[1:])\n",
    "print(kurz[:])\n"
   ]
  },
  {
   "cell_type": "markdown",
   "id": "b4697fda",
   "metadata": {},
   "source": [
    "Ebenfalls kann man die Schrittweite angeben. Die Syntax lautet also Start:Ende:Schrittweite "
   ]
  },
  {
   "cell_type": "code",
   "execution_count": 16,
   "id": "162fbb94",
   "metadata": {},
   "outputs": [
    {
     "name": "stdout",
     "output_type": "stream",
     "text": [
      "ACEGI\n"
     ]
    }
   ],
   "source": [
    "lang = \"ABCDEFGHIJKLM\"\n",
    "print(lang[0:10:2])"
   ]
  },
  {
   "cell_type": "markdown",
   "id": "e915081d",
   "metadata": {},
   "source": [
    "Die Standard-Schrittweite ist 1. Demzufolge muss erstmal Ende > Start gelten, sonst passiert nichts:"
   ]
  },
  {
   "cell_type": "code",
   "execution_count": 17,
   "id": "b7dd4193",
   "metadata": {},
   "outputs": [
    {
     "name": "stdout",
     "output_type": "stream",
     "text": [
      "\n"
     ]
    }
   ],
   "source": [
    "print(lang[4:1])"
   ]
  },
  {
   "cell_type": "markdown",
   "id": "b0428a83",
   "metadata": {},
   "source": [
    "Es wird jetzt vielleicht etwas verrückt, aber wunderbar funktioniert das Ganze auch von hinten betrachtet - dann mit negativem Index:\n"
   ]
  },
  {
   "cell_type": "code",
   "execution_count": 31,
   "id": "d21375d4",
   "metadata": {},
   "outputs": [
    {
     "name": "stdout",
     "output_type": "stream",
     "text": [
      "M L K\n"
     ]
    }
   ],
   "source": [
    "print(lang[-1], lang[-2], lang[-3])"
   ]
  },
  {
   "cell_type": "markdown",
   "id": "34c906cd",
   "metadata": {},
   "source": [
    "Und mit dem gleichen Prinzip wie vorher auch mehrere Zeichen:"
   ]
  },
  {
   "cell_type": "code",
   "execution_count": 39,
   "id": "55333e64",
   "metadata": {},
   "outputs": [
    {
     "name": "stdout",
     "output_type": "stream",
     "text": [
      "IJKL\n"
     ]
    }
   ],
   "source": [
    "print(lang[-5:-1])"
   ]
  },
  {
   "cell_type": "markdown",
   "id": "d2d43a4c",
   "metadata": {},
   "source": [
    "Natürlich kann man auch die Schrittweite negativ setzen, dann funktioniert auch das hier:"
   ]
  },
  {
   "cell_type": "code",
   "execution_count": 20,
   "id": "34546b52",
   "metadata": {},
   "outputs": [
    {
     "name": "stdout",
     "output_type": "stream",
     "text": [
      "KJIHGFEDCB\n"
     ]
    }
   ],
   "source": [
    "print(lang[10:0:-1])"
   ]
  },
  {
   "cell_type": "markdown",
   "id": "436bafa7",
   "metadata": {},
   "source": [
    "Einen String aufzuteilen ist die perfekte Überleitung zu Listen"
   ]
  },
  {
   "cell_type": "code",
   "execution_count": 22,
   "id": "cbd1013e",
   "metadata": {},
   "outputs": [
    {
     "name": "stdout",
     "output_type": "stream",
     "text": [
      "['Eins zw', 'i,dr', 'i,ganz vi', 'l', '']\n",
      "Eins zw-i,dr-i,ganz vi-l-\n"
     ]
    }
   ],
   "source": [
    "str = \"Eins zwei,drei,ganz viele\"\n",
    "List = str.split(\"e\")\n",
    "print(List)\n",
    "str2 = \"-\".join(List)\n",
    "print(str2)"
   ]
  },
  {
   "cell_type": "code",
   "execution_count": null,
   "id": "f9a59b19",
   "metadata": {},
   "outputs": [],
   "source": []
  },
  {
   "cell_type": "code",
   "execution_count": null,
   "id": "f364817c-6e4b-410e-81d0-a170ce19b64b",
   "metadata": {},
   "outputs": [],
   "source": []
  }
 ],
 "metadata": {
  "kernelspec": {
   "display_name": "Python 3 (ipykernel)",
   "language": "python",
   "name": "python3"
  },
  "language_info": {
   "codemirror_mode": {
    "name": "ipython",
    "version": 3
   },
   "file_extension": ".py",
   "mimetype": "text/x-python",
   "name": "python",
   "nbconvert_exporter": "python",
   "pygments_lexer": "ipython3",
   "version": "3.10.9"
  }
 },
 "nbformat": 4,
 "nbformat_minor": 5
}
