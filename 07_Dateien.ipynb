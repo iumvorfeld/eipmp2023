{
 "cells": [
  {
   "cell_type": "markdown",
   "id": "11d25e50",
   "metadata": {},
   "source": [
    "# Datei lesen und schreiben"
   ]
  },
  {
   "cell_type": "markdown",
   "id": "5c13fda4",
   "metadata": {},
   "source": [
    "Mit der Kenntnis von Schleifen kann man etwas tiefer in den Umgang mit Dateien einsteigen...\n",
    "Achtung: Es geht hier zunächst um den Inhalt von \"einfachen\" Text-Dateien. Folgende Themen bleiben weiterhin außen vor:\n",
    "a) Dateien verschieben oder löschen. Dafür nutzt man z.B. \"sys(tem)\"-Funktion, die wir noch nicht kennen\n",
    "b) Bilddateien oder ähnlich kann man zwar auch mit einem Texteditor öffen. Sinn machen dafür aber \"Bibliotheken\"\n",
    "\n",
    "Fangen wir mit einem String an, um eine eigene Datei zu erzeugen "
   ]
  },
  {
   "cell_type": "code",
   "execution_count": 1,
   "id": "70fc7d9a",
   "metadata": {},
   "outputs": [
    {
     "name": "stdout",
     "output_type": "stream",
     "text": [
      "Dies ist Zeile 1\n",
      "Hier die zweite Zeile\n",
      "Und eine dritte Zeile\n",
      "\n"
     ]
    }
   ],
   "source": [
    "langer_string = \"\"\"Dies ist Zeile 1\n",
    "Hier die zweite Zeile\n",
    "Und eine dritte Zeile\n",
    "\"\"\"\n",
    "print(langer_string)"
   ]
  },
  {
   "cell_type": "markdown",
   "id": "3b578766",
   "metadata": {},
   "source": [
    "Fangen wir an und schreiben den String in eine Datei:"
   ]
  },
  {
   "cell_type": "code",
   "execution_count": 2,
   "id": "4fdea027",
   "metadata": {},
   "outputs": [],
   "source": [
    "f = open('demo.txt', 'w')\n",
    "f.write(langer_string)\n",
    "f.close()"
   ]
  },
  {
   "cell_type": "markdown",
   "id": "6cd8e6cd",
   "metadata": {},
   "source": [
    "Die Datei können wir gleich wieder einlesen. Einmal als Ganzes mit Hilfe von read()"
   ]
  },
  {
   "cell_type": "code",
   "execution_count": 18,
   "id": "bf35bc37",
   "metadata": {},
   "outputs": [
    {
     "name": "stdout",
     "output_type": "stream",
     "text": [
      "<class 'str'>\n",
      "Dies ist Zeile 1\n",
      "Hier die zweite Zeile\n",
      "Und eine dritte Zeile\n",
      "\n"
     ]
    }
   ],
   "source": [
    "f2 = open(\"demo.txt\",\"r\")\n",
    "file = f2.read()\n",
    "print(type(file))\n",
    "print(file)\n",
    "f2.close()\n"
   ]
  },
  {
   "cell_type": "markdown",
   "id": "0005053d",
   "metadata": {},
   "source": [
    "Man kann read() auch eine Anzahl von Zeichen mitgeben:"
   ]
  },
  {
   "cell_type": "code",
   "execution_count": 11,
   "id": "98b4d94a",
   "metadata": {},
   "outputs": [
    {
     "name": "stdout",
     "output_type": "stream",
     "text": [
      "<class 'str'>\n",
      "\n",
      "Dies ist \n"
     ]
    }
   ],
   "source": [
    "f3 = open(\"demo.txt\",\"r\")\n",
    "file = f3.read(10)\n",
    "print(type(file))\n",
    "print(file)\n",
    "f3.close()"
   ]
  },
  {
   "cell_type": "markdown",
   "id": "fed58f29",
   "metadata": {},
   "source": [
    "Alternativ kann man auch readlines verwenden, um die komplette Datei zu lesen:\n"
   ]
  },
  {
   "cell_type": "code",
   "execution_count": 10,
   "id": "87c2d246",
   "metadata": {},
   "outputs": [
    {
     "name": "stdout",
     "output_type": "stream",
     "text": [
      "<class 'list'>\n",
      "['\\n', 'Dies ist Zeile 1\\n', 'Hier die zweite Zeile\\n', 'Und eine dritte Zeile\\n']\n"
     ]
    }
   ],
   "source": [
    "f4 = open(\"demo.txt\",\"r\")\n",
    "file = f4.readlines()\n",
    "print(type(file))\n",
    "print(file)\n",
    "f4.close()"
   ]
  },
  {
   "cell_type": "markdown",
   "id": "7da8dbf2",
   "metadata": {},
   "source": [
    "Wie wir sehen ist der Unterschied, dass jede Zeile stattdessen ein Listenelement ist. Gelesen wird wieder die gesamte Datei. Möchte man nur einzelne Zeilen einlesen, gibt es readline:"
   ]
  },
  {
   "cell_type": "code",
   "execution_count": 4,
   "id": "1133d233",
   "metadata": {},
   "outputs": [
    {
     "name": "stdout",
     "output_type": "stream",
     "text": [
      "<class 'str'>\n",
      "Dies ist Zeile 1\n",
      "\n",
      "Hier die zweite Zeile\n",
      "\n",
      "Und eine dritte Zeile\n",
      "\n",
      "\n",
      "\n"
     ]
    }
   ],
   "source": [
    "f5 = open(\"demo.txt\",\"r\")\n",
    "line = f5.readline()\n",
    "print(type(line))\n",
    "print(line)\n",
    "line = f5.readline()\n",
    "print(line)\n",
    "line = f5.readline()\n",
    "print(line)\n",
    "line = f5.readline()\n",
    "print(line)\n",
    "line = f5.readline()\n",
    "print(line)\n",
    "f5.close()"
   ]
  },
  {
   "cell_type": "markdown",
   "id": "c0ac5114",
   "metadata": {},
   "source": [
    "Wie man sieht scheinen wir hier zu iterieren. Und jetzt kommt genau der Punkt, warum wir erst for-Schleifen behandelt haben. Es lässt sich auf diese Art und weise ohne readline() durch zeilenweise durch die Datei gehen:"
   ]
  },
  {
   "cell_type": "code",
   "execution_count": 22,
   "id": "5b9ec3ad",
   "metadata": {},
   "outputs": [
    {
     "name": "stdout",
     "output_type": "stream",
     "text": [
      "<class 'str'> Dies ist Zeile 1\n",
      "\n",
      "<class 'str'> Hier die zweite Zeile\n",
      "\n",
      "<class 'str'> Und eine dritte Zeile\n",
      "\n"
     ]
    }
   ],
   "source": [
    "f6 = open(\"demo.txt\",\"r\")\n",
    "for line in f6:\n",
    "    print(type(line), line)\n",
    "f6.close()"
   ]
  },
  {
   "cell_type": "markdown",
   "id": "d18b0224",
   "metadata": {},
   "source": [
    "Ein abschließender Punkt noch zu txt-Dateien (alles weitere im Selbststudium): \n",
    "Oft vergisst man eine Datei wieder zu schließen. Wenn das Python-Programm direkt nach der Verarbeitung der Datei gestoppt wird, dann ist das nicht so schlimm. Grundsätzlich bleibt die Datei aber vom Programm \"blockiert\" solange es läuft. \n",
    "Dies lässt sich mit einer etwas anderen, \"moderneren\" Syntax vermeiden:"
   ]
  },
  {
   "cell_type": "code",
   "execution_count": 6,
   "id": "929214c6",
   "metadata": {},
   "outputs": [
    {
     "name": "stdout",
     "output_type": "stream",
     "text": [
      "Dies ist Zeile 1\n",
      "\n",
      "Hier die zweite Zeile\n",
      "\n",
      "Und eine dritte Zeile\n",
      "\n"
     ]
    },
    {
     "ename": "TypeError",
     "evalue": "'bool' object is not callable",
     "output_type": "error",
     "traceback": [
      "\u001b[1;31m---------------------------------------------------------------------------\u001b[0m",
      "\u001b[1;31mTypeError\u001b[0m                                 Traceback (most recent call last)",
      "Cell \u001b[1;32mIn[6], line 5\u001b[0m\n\u001b[0;32m      3\u001b[0m         \u001b[38;5;28mprint\u001b[39m(l)\n\u001b[0;32m      4\u001b[0m     \u001b[38;5;66;03m#hier ist die Datei noch offen\u001b[39;00m\n\u001b[1;32m----> 5\u001b[0m a \u001b[38;5;241m=\u001b[39m \u001b[43mf7\u001b[49m\u001b[38;5;241;43m.\u001b[39;49m\u001b[43mclosed\u001b[49m\u001b[43m(\u001b[49m\u001b[43m)\u001b[49m\n\u001b[0;32m      6\u001b[0m \u001b[38;5;28mprint\u001b[39m(a)\n",
      "\u001b[1;31mTypeError\u001b[0m: 'bool' object is not callable"
     ]
    }
   ],
   "source": [
    "with open(\"demo.txt\",\"r\") as f7:\n",
    "    for l in f7:\n",
    "        print(l)\n",
    "    #hier ist die Datei noch offen\n",
    "a = f7.closed() ????\n",
    "print(a)\n",
    "#außerhalb des with-Statements nicht mehr"
   ]
  },
  {
   "cell_type": "code",
   "execution_count": null,
   "id": "84e5b871",
   "metadata": {},
   "outputs": [],
   "source": []
  }
 ],
 "metadata": {
  "kernelspec": {
   "display_name": "Python 3 (ipykernel)",
   "language": "python",
   "name": "python3"
  },
  "language_info": {
   "codemirror_mode": {
    "name": "ipython",
    "version": 3
   },
   "file_extension": ".py",
   "mimetype": "text/x-python",
   "name": "python",
   "nbconvert_exporter": "python",
   "pygments_lexer": "ipython3",
   "version": "3.10.9"
  }
 },
 "nbformat": 4,
 "nbformat_minor": 5
}
