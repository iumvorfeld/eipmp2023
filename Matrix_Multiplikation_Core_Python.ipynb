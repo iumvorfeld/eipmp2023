{
 "cells": [
  {
   "cell_type": "code",
   "execution_count": 5,
   "id": "e03c240f-e27f-414b-9085-a4dc7eadce4e",
   "metadata": {},
   "outputs": [
    {
     "name": "stdout",
     "output_type": "stream",
     "text": [
      "<class 'list'>\n"
     ]
    }
   ],
   "source": []
  },
  {
   "cell_type": "code",
   "execution_count": 4,
   "id": "4ca0f5cd-6d9b-411f-8d0a-403e25e8e7ff",
   "metadata": {},
   "outputs": [
    {
     "name": "stdout",
     "output_type": "stream",
     "text": [
      "[4, 16, 2]\n"
     ]
    }
   ],
   "source": [
    "m_1_1 = 2\n",
    "m_1_2 = 5\n",
    "m_1_3 = 7 \n",
    "#...\n",
    "v_1 = 2\n",
    "v_2 = 4\n",
    "v_3 =5\n",
    "ergebnis_1 = m_1_1*v_1+m_2_2*v_2#+..."
   ]
  },
  {
   "cell_type": "code",
   "execution_count": 6,
   "id": "d6820e83-9fd4-4e4f-b254-11b14fbc284e",
   "metadata": {},
   "outputs": [
    {
     "name": "stdout",
     "output_type": "stream",
     "text": [
      "[[2, 5, 7], [8, 9, 10], [1, 2, 3]] [2, 4, 5]\n"
     ]
    }
   ],
   "source": [
    "matrix_zeile_1 = [2,5,7]\n",
    "#oder\n",
    "matrix = [[2,5,7], [8,9,10], [1,2,3]]\n",
    "vektor = [2, 4, 5]\n",
    "print(matrix, vektor)"
   ]
  },
  {
   "cell_type": "code",
   "execution_count": 8,
   "id": "eec0a707-cd8f-4181-b97e-d853bde7b649",
   "metadata": {},
   "outputs": [
    {
     "name": "stdout",
     "output_type": "stream",
     "text": [
      "[59, 102, 25]\n"
     ]
    }
   ],
   "source": [
    "def skalar_3mal3(a, b):\n",
    "    #ich erwarte, dass a und b Listen mit 3 Zahlen-Elementen sind\n",
    "    return a[0]*b[0]+a[1]*b[1]+a[2]*b[2]\n",
    "eins = skalar_3mal3(matrix[0], vektor)\n",
    "zwei = skalar_3mal3(matrix[1], vektor)\n",
    "drei = skalar_3mal3(matrix[2], vektor)\n",
    "ergebnis = [eins, zwei, drei]\n",
    "print(ergebnis)"
   ]
  },
  {
   "cell_type": "code",
   "execution_count": 10,
   "id": "d8cb975c-27ce-45d4-a272-79bd944985a3",
   "metadata": {},
   "outputs": [
    {
     "name": "stdout",
     "output_type": "stream",
     "text": [
      "[[2, 5, 7], [8, 9, 10], [1, 2, 3]]\n"
     ]
    }
   ],
   "source": []
  },
  {
   "cell_type": "code",
   "execution_count": 12,
   "id": "0458cf39-44ea-44d7-9c40-428b5dd8b99b",
   "metadata": {},
   "outputs": [
    {
     "name": "stdout",
     "output_type": "stream",
     "text": [
      "2\n"
     ]
    }
   ],
   "source": [
    "print(matrix[0][0])"
   ]
  },
  {
   "cell_type": "code",
   "execution_count": 13,
   "id": "da5c931c-69b2-4ccd-ae73-3c6a95ab6910",
   "metadata": {},
   "outputs": [
    {
     "name": "stdout",
     "output_type": "stream",
     "text": [
      "[59, 102, 25]\n"
     ]
    }
   ],
   "source": [
    "def matrix_mal_vektor_3d(m, v):\n",
    "    z_1 = m[0][0]*v[0]+m[0][1]*v[1]+m[0][2]*v[2]\n",
    "    z_2 = m[1][0]*v[0]+m[1][1]*v[1]+m[1][2]*v[2]\n",
    "    z_3 = m[2][0]*v[0]+m[2][1]*v[1]+m[2][2]*v[2]\n",
    "    return [z_1, z_2, z_3]\n",
    "print(matrix_mal_vektor_3d(matrix, vektor))"
   ]
  },
  {
   "cell_type": "code",
   "execution_count": 15,
   "id": "7d727291-eeb2-4cc2-afed-d49467ebdc75",
   "metadata": {},
   "outputs": [
    {
     "name": "stdout",
     "output_type": "stream",
     "text": [
      "[59, 102, 25]\n"
     ]
    }
   ],
   "source": [
    "def matrix_mal_vektor_3d(m, v):\n",
    "    #i zeile sein \n",
    "    #j die spalte\n",
    "    ergebnis_vektor = [0,0,0]\n",
    "    for i in range (0,3):\n",
    "        for j in range(0,3):\n",
    "            ergebnis_vektor[i] += matrix[i][j]*vektor[j]\n",
    "    print(ergebnis_vektor)\n",
    "matrix_mal_vektor_3d(matrix, vektor)"
   ]
  },
  {
   "cell_type": "code",
   "execution_count": null,
   "id": "c131cd2a-c012-4651-b54f-a6d8687302b0",
   "metadata": {},
   "outputs": [],
   "source": []
  }
 ],
 "metadata": {
  "kernelspec": {
   "display_name": "Python 3 (ipykernel)",
   "language": "python",
   "name": "python3"
  },
  "language_info": {
   "codemirror_mode": {
    "name": "ipython",
    "version": 3
   },
   "file_extension": ".py",
   "mimetype": "text/x-python",
   "name": "python",
   "nbconvert_exporter": "python",
   "pygments_lexer": "ipython3",
   "version": "3.10.9"
  }
 },
 "nbformat": 4,
 "nbformat_minor": 5
}
