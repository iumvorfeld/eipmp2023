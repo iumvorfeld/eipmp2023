{
 "cells": [
  {
   "cell_type": "markdown",
   "id": "0509ceb9-3a91-479e-a107-a71b5b12d25b",
   "metadata": {},
   "source": [
    "# Numpy"
   ]
  },
  {
   "cell_type": "markdown",
   "id": "ae3768be-3529-4e00-8394-918bc139f3b6",
   "metadata": {},
   "source": [
    "Erstmal der Import-Befehl wie er sich gehört. Weil wir es mittlerweile können sogar mit Exception-Handling (hier eher zum Spaß)"
   ]
  },
  {
   "cell_type": "code",
   "execution_count": 2,
   "id": "fbc6e6fd-e089-46a9-8d1d-629969488f47",
   "metadata": {},
   "outputs": [],
   "source": [
    "try:\n",
    "    import numpy as np\n",
    "except ImportError: \n",
    "    print(\"numpy nicht verfügbar\")"
   ]
  },
  {
   "cell_type": "markdown",
   "id": "34c59264-a159-4191-88a6-462430cfee3a",
   "metadata": {},
   "source": [
    "Vergleichen wir erst einmal \"normale\" Arrays, d.h. Listen mit Numpy-Arrays:"
   ]
  },
  {
   "cell_type": "code",
   "execution_count": 4,
   "id": "23d61f3c-a2f5-4232-90c8-c822ac44f2ca",
   "metadata": {},
   "outputs": [
    {
     "name": "stdout",
     "output_type": "stream",
     "text": [
      "[0.0000e+00 1.0000e+00 2.0000e+00 ... 9.9997e+04 9.9998e+04 9.9999e+04]\n",
      "800984\n",
      "800112\n"
     ]
    }
   ],
   "source": [
    "import sys\n",
    "liste = [float(i) for i in range(0,100000)]\n",
    "#print(liste)\n",
    "npliste = np.array(liste)\n",
    "print(npliste)\n",
    "print(sys.getsizeof(liste))\n",
    "print(sys.getsizeof(npliste))"
   ]
  },
  {
   "cell_type": "markdown",
   "id": "3154e813-8ba6-4927-b868-641bf32453e3",
   "metadata": {},
   "source": [
    "Schauen wir uns noch die Schnelligkeit im Vergleich an. Dazu zunächst zwei Exkurse:"
   ]
  },
  {
   "cell_type": "markdown",
   "id": "0c2ca6b8-386c-4272-a0d3-317661cd8c6d",
   "metadata": {},
   "source": [
    "Exkurs 1: Mit dem time-Modul kann man Laufzeiten messen:"
   ]
  },
  {
   "cell_type": "code",
   "execution_count": 6,
   "id": "0edc44ee-0a91-4073-bbce-73cef0879587",
   "metadata": {},
   "outputs": [
    {
     "name": "stdout",
     "output_type": "stream",
     "text": [
      "1684493849.3202634\n",
      "1576800000\n"
     ]
    }
   ],
   "source": [
    "import time\n",
    "t1 = time.time()\n",
    "print(t1)\n",
    "print(50*365*24*60*60)"
   ]
  },
  {
   "cell_type": "markdown",
   "id": "72b45a6f-8420-40c1-8513-42cb30d5c7ab",
   "metadata": {},
   "source": [
    "Die zip-Funktion:\n",
    "An die zip-Funktion übergibt man zwei \"iterables\". Die Zip-Funktion verknüpft dann das jewiels das i-te Element zu einem Tupel zusammen. Beispiel:"
   ]
  },
  {
   "cell_type": "code",
   "execution_count": 4,
   "id": "9baf8505-da79-4299-85e9-85fa51dcf9f0",
   "metadata": {},
   "outputs": [
    {
     "name": "stdout",
     "output_type": "stream",
     "text": [
      "((1, 'A'), (2, 'B'), (3, 'C'))\n"
     ]
    }
   ],
   "source": [
    "a = [1, 2, 3]\n",
    "b = [\"A\", \"B\", \"C\"]\n",
    "print(tuple(zip(a, b)))"
   ]
  },
  {
   "cell_type": "markdown",
   "id": "76929f5a-2589-4e9d-ba38-bdc9b6147060",
   "metadata": {},
   "source": [
    "Versuchen wir nun auf verschiedene Art und Weise die angelegte Liste möglichst schnell zu multiplizieren:"
   ]
  },
  {
   "cell_type": "code",
   "execution_count": 7,
   "id": "f64ccc6f-79c7-40b2-97c6-e46956049e07",
   "metadata": {},
   "outputs": [
    {
     "name": "stdout",
     "output_type": "stream",
     "text": [
      "Versuch mit map:  0.0459897518157959\n",
      "Versuch mit Schleife:  0.03100109100341797\n",
      "Versuch mit zip:  0.0269927978515625\n"
     ]
    }
   ],
   "source": [
    "#Erster Versuch: Map-Funktion\n",
    "def quadrat(x):\n",
    "    return x*x\n",
    "t1 = time.time()\n",
    "summe_1 = list(map(quadrat, liste))\n",
    "t2 = time.time()\n",
    "print(\"Versuch mit map: \", t2-t1)\n",
    "#zweiter Versuch: \n",
    "liste_ergebnis = liste\n",
    "t1 = time.time()\n",
    "for i in liste:\n",
    "    liste_ergebnis = i*i\n",
    "t2 = time.time()\n",
    "print(\"Versuch mit Schleife: \", t2-t1)\n",
    "#dritter Versuch: zip\n",
    "t1 = time.time()\n",
    "liste_zip = [a*b for a,b in zip(liste, liste)]\n",
    "t2 = time.time()\n",
    "print(\"Versuch mit zip: \", t2-t1)"
   ]
  },
  {
   "cell_type": "code",
   "execution_count": null,
   "id": "7661b5f2-1266-4422-bdfb-075af113c138",
   "metadata": {},
   "outputs": [],
   "source": [
    "Zum Vergleich jetzt mit ndarrays..."
   ]
  },
  {
   "cell_type": "code",
   "execution_count": 8,
   "id": "2f9d6ac9-732e-4f3a-b048-7068b43ac62d",
   "metadata": {},
   "outputs": [
    {
     "name": "stdout",
     "output_type": "stream",
     "text": [
      "[0.00000000e+00 1.00000000e+00 4.00000000e+00 ... 9.99940001e+09\n",
      " 9.99960000e+09 9.99980000e+09] 0.007004976272583008\n"
     ]
    }
   ],
   "source": [
    "t1 = time.time()\n",
    "np_summe = npliste*npliste\n",
    "t2 = time.time()\n",
    "print(np_summe, t2-t1)"
   ]
  },
  {
   "cell_type": "code",
   "execution_count": null,
   "id": "97e52bde-75cd-4c12-8352-7ef7d9a22f02",
   "metadata": {},
   "outputs": [],
   "source": [
    "Kommen wir nun zurück zur Matrix-Multiplikation: "
   ]
  },
  {
   "cell_type": "code",
   "execution_count": 11,
   "id": "42b59d48-8392-473c-abf0-1376f6882cdf",
   "metadata": {},
   "outputs": [
    {
     "name": "stdout",
     "output_type": "stream",
     "text": [
      "[ 59 102  25]\n",
      "2\n"
     ]
    }
   ],
   "source": [
    "arr_matrix = np.array([[2, 5, 7], [8,9,10], [1,2,3]])\n",
    "arr_vektor = np.array([2, 4, 5])\n",
    "#print(arr_matrix, arr_matrix[1, 2], arr_matrix.ndim, arr_vektor, arr_vektor.ndim)\n",
    "print(np.matmul(arr_matrix, arr_vektor))\n",
    "print(arr_matrix[0][0])"
   ]
  },
  {
   "cell_type": "markdown",
   "id": "156de69c-eaaf-4786-8421-90b7b6fc5c4e",
   "metadata": {},
   "source": [
    "Im letzten Codeschnipsel verstecken sich ein- bzw. zweidimensionale Numpy-Arrays."
   ]
  },
  {
   "cell_type": "markdown",
   "id": "b23436ba-8125-4b60-bbf7-6e7f892b82fa",
   "metadata": {},
   "source": [
    "# Scipy"
   ]
  },
  {
   "cell_type": "code",
   "execution_count": 14,
   "id": "26c53c5b-3e6b-449c-94b7-d206fc44e7f0",
   "metadata": {},
   "outputs": [
    {
     "name": "stdout",
     "output_type": "stream",
     "text": [
      "['atomic mass unit-kilogram relationship', 'electron volt-kilogram relationship', 'hartree-kilogram relationship', 'hertz-kilogram relationship', 'inverse meter-kilogram relationship', 'joule-kilogram relationship', 'kelvin-kilogram relationship', 'kilogram-atomic mass unit relationship', 'kilogram-electron volt relationship', 'kilogram-hartree relationship', 'kilogram-hertz relationship', 'kilogram-inverse meter relationship', 'kilogram-joule relationship', 'kilogram-kelvin relationship']\n"
     ]
    }
   ],
   "source": [
    "from scipy import constants\n",
    "\n",
    "#print(dir(constants))\n",
    "print(constants.find(\"kilo\"))"
   ]
  },
  {
   "cell_type": "code",
   "execution_count": 40,
   "id": "595f5147-fed1-48fc-b67a-edc07ea0ac51",
   "metadata": {},
   "outputs": [
    {
     "name": "stdout",
     "output_type": "stream",
     "text": [
      "1.618033988749895\n"
     ]
    }
   ],
   "source": [
    "print(constants.golden_ratio)"
   ]
  },
  {
   "cell_type": "markdown",
   "id": "c7e212a9-b468-473c-ac96-cc9a2ca26ad4",
   "metadata": {},
   "source": [
    "Schauen wir uns nun an, wie wir mit SciPy Lösungen numerisch bestimmen, die wir analytisch nicht lösen können. Dazu schauen wir uns folgende zwei Funktionen an:"
   ]
  },
  {
   "cell_type": "code",
   "execution_count": 4,
   "id": "d308742c-88f1-4237-ab2a-881553ea4811",
   "metadata": {},
   "outputs": [],
   "source": [
    "import math\n",
    "def f1(x):\n",
    "    return x + math.cos(x)\n",
    "def f2(x):\n",
    "    return math.pow(x, 3)+x-1"
   ]
  },
  {
   "cell_type": "markdown",
   "id": "ccc4f811-3af1-4428-814d-7d13bf1bae4f",
   "metadata": {},
   "source": [
    "Damit wir in etwa sehen, wie die Funktionen aussehen, wollen wir diese plotten. Wir erstellen einen Wertebereich, den wir skizzieren wollen. Und: matplotlib betritt die Bühne..."
   ]
  },
  {
   "cell_type": "code",
   "execution_count": 7,
   "id": "d64f0919-af4a-4959-8199-4479553ba8b4",
   "metadata": {},
   "outputs": [
    {
     "name": "stdout",
     "output_type": "stream",
     "text": [
      "[-1.00000000e+00 -9.00000000e-01 -8.00000000e-01 -7.00000000e-01\n",
      " -6.00000000e-01 -5.00000000e-01 -4.00000000e-01 -3.00000000e-01\n",
      " -2.00000000e-01 -1.00000000e-01 -2.22044605e-16  1.00000000e-01\n",
      "  2.00000000e-01  3.00000000e-01  4.00000000e-01  5.00000000e-01\n",
      "  6.00000000e-01  7.00000000e-01  8.00000000e-01  9.00000000e-01]\n",
      "[-0.45969769 -0.27839003 -0.10329329  0.06484219  0.22533561  0.37758256\n",
      "  0.52106099  0.65533649  0.78006658  0.89500417  1.          1.09500417\n",
      "  1.18006658  1.25533649  1.32106099  1.37758256  1.42533561  1.46484219\n",
      "  1.49670671  1.52160997]\n"
     ]
    },
    {
     "data": {
      "image/png": "[encoded data removed]",
      "text/plain": [
       "<Figure size 640x480 with 1 Axes>"
      ]
     },
     "metadata": {},
     "output_type": "display_data"
    }
   ],
   "source": [
    "import matplotlib.pyplot as plt\n",
    "x_werte = np.arange(-1, 1, 0.1)\n",
    "print(x_werte)\n",
    "y_werte_1 = np.array([f1(i) for i in x_werte])\n",
    "print(y_werte_1)\n",
    "y_werte_2 = np.array([f2(i) for i in x_werte])\n",
    "plt.plot(x_werte, y_werte_1, 'bo')\n",
    "plt.plot(x_werte, y_werte_2, 'g*')\n",
    "plt.show()"
   ]
  },
  {
   "cell_type": "markdown",
   "id": "84a750a6-326f-45f5-b19c-cabbf837acb3",
   "metadata": {},
   "source": [
    "Wo sind die Nullstellen der Funktionen? "
   ]
  },
  {
   "cell_type": "code",
   "execution_count": 6,
   "id": "380c5912-fb05-4ed3-bb87-a2f1bde4e32d",
   "metadata": {},
   "outputs": [
    {
     "name": "stdout",
     "output_type": "stream",
     "text": [
      "Help on function plot in module matplotlib.pyplot:\n",
      "\n",
      "plot(*args, scalex=True, scaley=True, data=None, **kwargs)\n",
      "    Plot y versus x as lines and/or markers.\n",
      "    \n",
      "    Call signatures::\n",
      "    \n",
      "        plot([x], y, [fmt], *, data=None, **kwargs)\n",
      "        plot([x], y, [fmt], [x2], y2, [fmt2], ..., **kwargs)\n",
      "    \n",
      "    The coordinates of the points or line nodes are given by *x*, *y*.\n",
      "    \n",
      "    The optional parameter *fmt* is a convenient way for defining basic\n",
      "    formatting like color, marker and linestyle. It's a shortcut string\n",
      "    notation described in the *Notes* section below.\n",
      "    \n",
      "    >>> plot(x, y)        # plot x and y using default line style and color\n",
      "    >>> plot(x, y, 'bo')  # plot x and y using blue circle markers\n",
      "    >>> plot(y)           # plot y using x as index array 0..N-1\n",
      "    >>> plot(y, 'r+')     # ditto, but with red plusses\n",
      "    \n",
      "    You can use `.Line2D` properties as keyword arguments for more\n",
      "    control on the appearance. Line properties and *fmt* can be mixed.\n",
      "    The following two calls yield identical results:\n",
      "    \n",
      "    >>> plot(x, y, 'go--', linewidth=2, markersize=12)\n",
      "    >>> plot(x, y, color='green', marker='o', linestyle='dashed',\n",
      "    ...      linewidth=2, markersize=12)\n",
      "    \n",
      "    When conflicting with *fmt*, keyword arguments take precedence.\n",
      "    \n",
      "    \n",
      "    **Plotting labelled data**\n",
      "    \n",
      "    There's a convenient way for plotting objects with labelled data (i.e.\n",
      "    data that can be accessed by index ``obj['y']``). Instead of giving\n",
      "    the data in *x* and *y*, you can provide the object in the *data*\n",
      "    parameter and just give the labels for *x* and *y*::\n",
      "    \n",
      "    >>> plot('xlabel', 'ylabel', data=obj)\n",
      "    \n",
      "    All indexable objects are supported. This could e.g. be a `dict`, a\n",
      "    `pandas.DataFrame` or a structured numpy array.\n",
      "    \n",
      "    \n",
      "    **Plotting multiple sets of data**\n",
      "    \n",
      "    There are various ways to plot multiple sets of data.\n",
      "    \n",
      "    - The most straight forward way is just to call `plot` multiple times.\n",
      "      Example:\n",
      "    \n",
      "      >>> plot(x1, y1, 'bo')\n",
      "      >>> plot(x2, y2, 'go')\n",
      "    \n",
      "    - If *x* and/or *y* are 2D arrays a separate data set will be drawn\n",
      "      for every column. If both *x* and *y* are 2D, they must have the\n",
      "      same shape. If only one of them is 2D with shape (N, m) the other\n",
      "      must have length N and will be used for every data set m.\n",
      "    \n",
      "      Example:\n",
      "    \n",
      "      >>> x = [1, 2, 3]\n",
      "      >>> y = np.array([[1, 2], [3, 4], [5, 6]])\n",
      "      >>> plot(x, y)\n",
      "    \n",
      "      is equivalent to:\n",
      "    \n",
      "      >>> for col in range(y.shape[1]):\n",
      "      ...     plot(x, y[:, col])\n",
      "    \n",
      "    - The third way is to specify multiple sets of *[x]*, *y*, *[fmt]*\n",
      "      groups::\n",
      "    \n",
      "      >>> plot(x1, y1, 'g^', x2, y2, 'g-')\n",
      "    \n",
      "      In this case, any additional keyword argument applies to all\n",
      "      datasets. Also, this syntax cannot be combined with the *data*\n",
      "      parameter.\n",
      "    \n",
      "    By default, each line is assigned a different style specified by a\n",
      "    'style cycle'. The *fmt* and line property parameters are only\n",
      "    necessary if you want explicit deviations from these defaults.\n",
      "    Alternatively, you can also change the style cycle using\n",
      "    :rc:`axes.prop_cycle`.\n",
      "    \n",
      "    \n",
      "    Parameters\n",
      "    ----------\n",
      "    x, y : array-like or scalar\n",
      "        The horizontal / vertical coordinates of the data points.\n",
      "        *x* values are optional and default to ``range(len(y))``.\n",
      "    \n",
      "        Commonly, these parameters are 1D arrays.\n",
      "    \n",
      "        They can also be scalars, or two-dimensional (in that case, the\n",
      "        columns represent separate data sets).\n",
      "    \n",
      "        These arguments cannot be passed as keywords.\n",
      "    \n",
      "    fmt : str, optional\n",
      "        A format string, e.g. 'ro' for red circles. See the *Notes*\n",
      "        section for a full description of the format strings.\n",
      "    \n",
      "        Format strings are just an abbreviation for quickly setting\n",
      "        basic line properties. All of these and more can also be\n",
      "        controlled by keyword arguments.\n",
      "    \n",
      "        This argument cannot be passed as keyword.\n",
      "    \n",
      "    data : indexable object, optional\n",
      "        An object with labelled data. If given, provide the label names to\n",
      "        plot in *x* and *y*.\n",
      "    \n",
      "        .. note::\n",
      "            Technically there's a slight ambiguity in calls where the\n",
      "            second label is a valid *fmt*. ``plot('n', 'o', data=obj)``\n",
      "            could be ``plt(x, y)`` or ``plt(y, fmt)``. In such cases,\n",
      "            the former interpretation is chosen, but a warning is issued.\n",
      "            You may suppress the warning by adding an empty format string\n",
      "            ``plot('n', 'o', '', data=obj)``.\n",
      "    \n",
      "    Returns\n",
      "    -------\n",
      "    list of `.Line2D`\n",
      "        A list of lines representing the plotted data.\n",
      "    \n",
      "    Other Parameters\n",
      "    ----------------\n",
      "    scalex, scaley : bool, default: True\n",
      "        These parameters determine if the view limits are adapted to the\n",
      "        data limits. The values are passed on to\n",
      "        `~.axes.Axes.autoscale_view`.\n",
      "    \n",
      "    **kwargs : `.Line2D` properties, optional\n",
      "        *kwargs* are used to specify properties like a line label (for\n",
      "        auto legends), linewidth, antialiasing, marker face color.\n",
      "        Example::\n",
      "    \n",
      "        >>> plot([1, 2, 3], [1, 2, 3], 'go-', label='line 1', linewidth=2)\n",
      "        >>> plot([1, 2, 3], [1, 4, 9], 'rs', label='line 2')\n",
      "    \n",
      "        If you specify multiple lines with one plot call, the kwargs apply\n",
      "        to all those lines. In case the label object is iterable, each\n",
      "        element is used as labels for each set of data.\n",
      "    \n",
      "        Here is a list of available `.Line2D` properties:\n",
      "    \n",
      "        Properties:\n",
      "        agg_filter: a filter function, which takes a (m, n, 3) float array and a dpi value, and returns a (m, n, 3) array and two offsets from the bottom left corner of the image\n",
      "        alpha: scalar or None\n",
      "        animated: bool\n",
      "        antialiased or aa: bool\n",
      "        clip_box: `.Bbox`\n",
      "        clip_on: bool\n",
      "        clip_path: Patch or (Path, Transform) or None\n",
      "        color or c: color\n",
      "        dash_capstyle: `.CapStyle` or {'butt', 'projecting', 'round'}\n",
      "        dash_joinstyle: `.JoinStyle` or {'miter', 'round', 'bevel'}\n",
      "        dashes: sequence of floats (on/off ink in points) or (None, None)\n",
      "        data: (2, N) array or two 1D arrays\n",
      "        drawstyle or ds: {'default', 'steps', 'steps-pre', 'steps-mid', 'steps-post'}, default: 'default'\n",
      "        figure: `.Figure`\n",
      "        fillstyle: {'full', 'left', 'right', 'bottom', 'top', 'none'}\n",
      "        gapcolor: color or None\n",
      "        gid: str\n",
      "        in_layout: bool\n",
      "        label: object\n",
      "        linestyle or ls: {'-', '--', '-.', ':', '', (offset, on-off-seq), ...}\n",
      "        linewidth or lw: float\n",
      "        marker: marker style string, `~.path.Path` or `~.markers.MarkerStyle`\n",
      "        markeredgecolor or mec: color\n",
      "        markeredgewidth or mew: float\n",
      "        markerfacecolor or mfc: color\n",
      "        markerfacecoloralt or mfcalt: color\n",
      "        markersize or ms: float\n",
      "        markevery: None or int or (int, int) or slice or list[int] or float or (float, float) or list[bool]\n",
      "        mouseover: bool\n",
      "        path_effects: `.AbstractPathEffect`\n",
      "        picker: float or callable[[Artist, Event], tuple[bool, dict]]\n",
      "        pickradius: unknown\n",
      "        rasterized: bool\n",
      "        sketch_params: (scale: float, length: float, randomness: float)\n",
      "        snap: bool or None\n",
      "        solid_capstyle: `.CapStyle` or {'butt', 'projecting', 'round'}\n",
      "        solid_joinstyle: `.JoinStyle` or {'miter', 'round', 'bevel'}\n",
      "        transform: unknown\n",
      "        url: str\n",
      "        visible: bool\n",
      "        xdata: 1D array\n",
      "        ydata: 1D array\n",
      "        zorder: float\n",
      "    \n",
      "    See Also\n",
      "    --------\n",
      "    scatter : XY scatter plot with markers of varying size and/or color (\n",
      "        sometimes also called bubble chart).\n",
      "    \n",
      "    Notes\n",
      "    -----\n",
      "    **Format Strings**\n",
      "    \n",
      "    A format string consists of a part for color, marker and line::\n",
      "    \n",
      "        fmt = '[marker][line][color]'\n",
      "    \n",
      "    Each of them is optional. If not provided, the value from the style\n",
      "    cycle is used. Exception: If ``line`` is given, but no ``marker``,\n",
      "    the data will be a line without markers.\n",
      "    \n",
      "    Other combinations such as ``[color][marker][line]`` are also\n",
      "    supported, but note that their parsing may be ambiguous.\n",
      "    \n",
      "    **Markers**\n",
      "    \n",
      "    =============   ===============================\n",
      "    character       description\n",
      "    =============   ===============================\n",
      "    ``'.'``         point marker\n",
      "    ``','``         pixel marker\n",
      "    ``'o'``         circle marker\n",
      "    ``'v'``         triangle_down marker\n",
      "    ``'^'``         triangle_up marker\n",
      "    ``'<'``         triangle_left marker\n",
      "    ``'>'``         triangle_right marker\n",
      "    ``'1'``         tri_down marker\n",
      "    ``'2'``         tri_up marker\n",
      "    ``'3'``         tri_left marker\n",
      "    ``'4'``         tri_right marker\n",
      "    ``'8'``         octagon marker\n",
      "    ``'s'``         square marker\n",
      "    ``'p'``         pentagon marker\n",
      "    ``'P'``         plus (filled) marker\n",
      "    ``'*'``         star marker\n",
      "    ``'h'``         hexagon1 marker\n",
      "    ``'H'``         hexagon2 marker\n",
      "    ``'+'``         plus marker\n",
      "    ``'x'``         x marker\n",
      "    ``'X'``         x (filled) marker\n",
      "    ``'D'``         diamond marker\n",
      "    ``'d'``         thin_diamond marker\n",
      "    ``'|'``         vline marker\n",
      "    ``'_'``         hline marker\n",
      "    =============   ===============================\n",
      "    \n",
      "    **Line Styles**\n",
      "    \n",
      "    =============    ===============================\n",
      "    character        description\n",
      "    =============    ===============================\n",
      "    ``'-'``          solid line style\n",
      "    ``'--'``         dashed line style\n",
      "    ``'-.'``         dash-dot line style\n",
      "    ``':'``          dotted line style\n",
      "    =============    ===============================\n",
      "    \n",
      "    Example format strings::\n",
      "    \n",
      "        'b'    # blue markers with default shape\n",
      "        'or'   # red circles\n",
      "        '-g'   # green solid line\n",
      "        '--'   # dashed line with default color\n",
      "        '^k:'  # black triangle_up markers connected by a dotted line\n",
      "    \n",
      "    **Colors**\n",
      "    \n",
      "    The supported color abbreviations are the single letter codes\n",
      "    \n",
      "    =============    ===============================\n",
      "    character        color\n",
      "    =============    ===============================\n",
      "    ``'b'``          blue\n",
      "    ``'g'``          green\n",
      "    ``'r'``          red\n",
      "    ``'c'``          cyan\n",
      "    ``'m'``          magenta\n",
      "    ``'y'``          yellow\n",
      "    ``'k'``          black\n",
      "    ``'w'``          white\n",
      "    =============    ===============================\n",
      "    \n",
      "    and the ``'CN'`` colors that index into the default property cycle.\n",
      "    \n",
      "    If the color is the only part of the format string, you can\n",
      "    additionally use any  `matplotlib.colors` spec, e.g. full names\n",
      "    (``'green'``) or hex strings (``'#008000'``).\n",
      "\n"
     ]
    }
   ],
   "source": [
    "help(plt.plot)"
   ]
  },
  {
   "cell_type": "code",
   "execution_count": 9,
   "id": "03e12046-873a-41b6-87d0-11284aa717b1",
   "metadata": {},
   "outputs": [],
   "source": [
    "# Wir nutzen die root()-Funktion aus scipy.optimize\n",
    "import scipy.optimize as opt\n",
    "#help(opt.root)"
   ]
  },
  {
   "cell_type": "markdown",
   "id": "d5cca014-2d9d-4bed-a17e-c899caa55821",
   "metadata": {},
   "source": [
    "Anmerkung: Bei der Nullstellensuche ist der Startpunkt wichtig... (Zweites Argument)"
   ]
  },
  {
   "cell_type": "code",
   "execution_count": 11,
   "id": "eda9a448-193c-4779-95ac-931c1c83b4cf",
   "metadata": {},
   "outputs": [
    {
     "name": "stdout",
     "output_type": "stream",
     "text": [
      " message: The solution converged.\n",
      " success: True\n",
      "  status: 1\n",
      "     fun: [ 0.000e+00]\n",
      "       x: [-7.391e-01]\n",
      "    nfev: 9\n",
      "    fjac: [[-1.000e+00]]\n",
      "       r: [-1.674e+00]\n",
      "     qtf: [-2.668e-13]\n",
      " message: The solution converged.\n",
      " success: True\n",
      "  status: 1\n",
      "     fun: [ 0.000e+00]\n",
      "       x: [-7.391e-01]\n",
      "    nfev: 11\n",
      "    fjac: [[-1.000e+00]]\n",
      "       r: [-1.674e+00]\n",
      "     qtf: [ 2.578e-13]\n",
      "[0.6823278]\n",
      "[0.6823278]\n"
     ]
    }
   ],
   "source": [
    "n_f1_1 = opt.root(f1, 0) \n",
    "print(n_f1_1)\n",
    "n_f1_2 = opt.root(f1, 1)\n",
    "print(n_f1_2)\n",
    "n_f2_1 = opt.root(f2, 0) \n",
    "print(n_f2_1.x)\n",
    "n_f2_2 = opt.root(f2, 1)\n",
    "print(n_f2_2.x)"
   ]
  },
  {
   "cell_type": "markdown",
   "id": "44f87dd4-4c57-4beb-a4b3-40013ebf9c11",
   "metadata": {},
   "source": [
    "Nutzen wir jetzt die Interpolations-Funktion von Scipy, um eine Funktion zu interpolieren:"
   ]
  },
  {
   "cell_type": "code",
   "execution_count": 60,
   "id": "b990cfb2-d0aa-48de-b5cd-63abd62ad4ff",
   "metadata": {},
   "outputs": [
    {
     "name": "stdout",
     "output_type": "stream",
     "text": [
      "[0, 1, 2, 3, 4] [0, 1, 4, 9, 16]\n",
      "<scipy.interpolate.interpolate.interp1d object at 0x000001CD7970C408>\n",
      "[ 0.1  0.2  0.3  0.4  0.5  0.6  0.7  0.8  0.9  1.   1.3  1.6  1.9  2.2\n",
      "  2.5  2.8  3.1  3.4  3.7  4.   4.5  5.   5.5  6.   6.5  7.   7.5  8.\n",
      "  8.5  9.   9.7 10.4 11.1 11.8 12.5 13.2 13.9 14.6] 0.1 <class 'numpy.float64'>\n"
     ]
    }
   ],
   "source": [
    "#from scipy.interpolate import interp1d\n",
    "#ich importiere lieber so:\n",
    "import scipy.interpolate as intp \n",
    "\n",
    "def quadrat(x):\n",
    "    return x*x\n",
    "x_werte = [i for i in range(0,5)]\n",
    "y_werte = [quadrat(x) for x in x_werte]\n",
    "print(x_werte, y_werte)\n",
    "interp = intp.interp1d(x_werte, y_werte)\n",
    "print(interp)\n",
    "interp_x = np.arange(0.1, 3.9, 0.1)\n",
    "interp_y = interp(interp_x )\n",
    "print(interp_y, interp_y[0], type(interp_y[0]))"
   ]
  },
  {
   "cell_type": "code",
   "execution_count": 53,
   "id": "bd6f77f1-ff62-45a7-929d-174576fbd9d7",
   "metadata": {},
   "outputs": [
    {
     "name": "stdout",
     "output_type": "stream",
     "text": [
      "Help on function plot in module matplotlib.pyplot:\n",
      "\n",
      "plot(*args, scalex=True, scaley=True, data=None, **kwargs)\n",
      "    Plot y versus x as lines and/or markers.\n",
      "    \n",
      "    Call signatures::\n",
      "    \n",
      "        plot([x], y, [fmt], *, data=None, **kwargs)\n",
      "        plot([x], y, [fmt], [x2], y2, [fmt2], ..., **kwargs)\n",
      "    \n",
      "    The coordinates of the points or line nodes are given by *x*, *y*.\n",
      "    \n",
      "    The optional parameter *fmt* is a convenient way for defining basic\n",
      "    formatting like color, marker and linestyle. It's a shortcut string\n",
      "    notation described in the *Notes* section below.\n",
      "    \n",
      "    >>> plot(x, y)        # plot x and y using default line style and color\n",
      "    >>> plot(x, y, 'bo')  # plot x and y using blue circle markers\n",
      "    >>> plot(y)           # plot y using x as index array 0..N-1\n",
      "    >>> plot(y, 'r+')     # ditto, but with red plusses\n",
      "    \n",
      "    You can use `.Line2D` properties as keyword arguments for more\n",
      "    control on the appearance. Line properties and *fmt* can be mixed.\n",
      "    The following two calls yield identical results:\n",
      "    \n",
      "    >>> plot(x, y, 'go--', linewidth=2, markersize=12)\n",
      "    >>> plot(x, y, color='green', marker='o', linestyle='dashed',\n",
      "    ...      linewidth=2, markersize=12)\n",
      "    \n",
      "    When conflicting with *fmt*, keyword arguments take precedence.\n",
      "    \n",
      "    \n",
      "    **Plotting labelled data**\n",
      "    \n",
      "    There's a convenient way for plotting objects with labelled data (i.e.\n",
      "    data that can be accessed by index ``obj['y']``). Instead of giving\n",
      "    the data in *x* and *y*, you can provide the object in the *data*\n",
      "    parameter and just give the labels for *x* and *y*::\n",
      "    \n",
      "    >>> plot('xlabel', 'ylabel', data=obj)\n",
      "    \n",
      "    All indexable objects are supported. This could e.g. be a `dict`, a\n",
      "    `pandas.DataFrame` or a structured numpy array.\n",
      "    \n",
      "    \n",
      "    **Plotting multiple sets of data**\n",
      "    \n",
      "    There are various ways to plot multiple sets of data.\n",
      "    \n",
      "    - The most straight forward way is just to call `plot` multiple times.\n",
      "      Example:\n",
      "    \n",
      "      >>> plot(x1, y1, 'bo')\n",
      "      >>> plot(x2, y2, 'go')\n",
      "    \n",
      "    - If *x* and/or *y* are 2D arrays a separate data set will be drawn\n",
      "      for every column. If both *x* and *y* are 2D, they must have the\n",
      "      same shape. If only one of them is 2D with shape (N, m) the other\n",
      "      must have length N and will be used for every data set m.\n",
      "    \n",
      "      Example:\n",
      "    \n",
      "      >>> x = [1, 2, 3]\n",
      "      >>> y = np.array([[1, 2], [3, 4], [5, 6]])\n",
      "      >>> plot(x, y)\n",
      "    \n",
      "      is equivalent to:\n",
      "    \n",
      "      >>> for col in range(y.shape[1]):\n",
      "      ...     plot(x, y[:, col])\n",
      "    \n",
      "    - The third way is to specify multiple sets of *[x]*, *y*, *[fmt]*\n",
      "      groups::\n",
      "    \n",
      "      >>> plot(x1, y1, 'g^', x2, y2, 'g-')\n",
      "    \n",
      "      In this case, any additional keyword argument applies to all\n",
      "      datasets. Also this syntax cannot be combined with the *data*\n",
      "      parameter.\n",
      "    \n",
      "    By default, each line is assigned a different style specified by a\n",
      "    'style cycle'. The *fmt* and line property parameters are only\n",
      "    necessary if you want explicit deviations from these defaults.\n",
      "    Alternatively, you can also change the style cycle using\n",
      "    :rc:`axes.prop_cycle`.\n",
      "    \n",
      "    \n",
      "    Parameters\n",
      "    ----------\n",
      "    x, y : array-like or scalar\n",
      "        The horizontal / vertical coordinates of the data points.\n",
      "        *x* values are optional and default to ``range(len(y))``.\n",
      "    \n",
      "        Commonly, these parameters are 1D arrays.\n",
      "    \n",
      "        They can also be scalars, or two-dimensional (in that case, the\n",
      "        columns represent separate data sets).\n",
      "    \n",
      "        These arguments cannot be passed as keywords.\n",
      "    \n",
      "    fmt : str, optional\n",
      "        A format string, e.g. 'ro' for red circles. See the *Notes*\n",
      "        section for a full description of the format strings.\n",
      "    \n",
      "        Format strings are just an abbreviation for quickly setting\n",
      "        basic line properties. All of these and more can also be\n",
      "        controlled by keyword arguments.\n",
      "    \n",
      "        This argument cannot be passed as keyword.\n",
      "    \n",
      "    data : indexable object, optional\n",
      "        An object with labelled data. If given, provide the label names to\n",
      "        plot in *x* and *y*.\n",
      "    \n",
      "        .. note::\n",
      "            Technically there's a slight ambiguity in calls where the\n",
      "            second label is a valid *fmt*. ``plot('n', 'o', data=obj)``\n",
      "            could be ``plt(x, y)`` or ``plt(y, fmt)``. In such cases,\n",
      "            the former interpretation is chosen, but a warning is issued.\n",
      "            You may suppress the warning by adding an empty format string\n",
      "            ``plot('n', 'o', '', data=obj)``.\n",
      "    \n",
      "    Returns\n",
      "    -------\n",
      "    list of `.Line2D`\n",
      "        A list of lines representing the plotted data.\n",
      "    \n",
      "    Other Parameters\n",
      "    ----------------\n",
      "    scalex, scaley : bool, default: True\n",
      "        These parameters determine if the view limits are adapted to the\n",
      "        data limits. The values are passed on to `autoscale_view`.\n",
      "    \n",
      "    **kwargs : `.Line2D` properties, optional\n",
      "        *kwargs* are used to specify properties like a line label (for\n",
      "        auto legends), linewidth, antialiasing, marker face color.\n",
      "        Example::\n",
      "    \n",
      "        >>> plot([1, 2, 3], [1, 2, 3], 'go-', label='line 1', linewidth=2)\n",
      "        >>> plot([1, 2, 3], [1, 4, 9], 'rs', label='line 2')\n",
      "    \n",
      "        If you specify multiple lines with one plot call, the kwargs apply\n",
      "        to all those lines. In case the label object is iterable, each\n",
      "        element is used as labels for each set of data.\n",
      "    \n",
      "        Here is a list of available `.Line2D` properties:\n",
      "    \n",
      "        Properties:\n",
      "        agg_filter: a filter function, which takes a (m, n, 3) float array and a dpi value, and returns a (m, n, 3) array\n",
      "        alpha: scalar or None\n",
      "        animated: bool\n",
      "        antialiased or aa: bool\n",
      "        clip_box: `.Bbox`\n",
      "        clip_on: bool\n",
      "        clip_path: Patch or (Path, Transform) or None\n",
      "        color or c: color\n",
      "        dash_capstyle: `.CapStyle` or {'butt', 'projecting', 'round'}\n",
      "        dash_joinstyle: `.JoinStyle` or {'miter', 'round', 'bevel'}\n",
      "        dashes: sequence of floats (on/off ink in points) or (None, None)\n",
      "        data: (2, N) array or two 1D arrays\n",
      "        drawstyle or ds: {'default', 'steps', 'steps-pre', 'steps-mid', 'steps-post'}, default: 'default'\n",
      "        figure: `.Figure`\n",
      "        fillstyle: {'full', 'left', 'right', 'bottom', 'top', 'none'}\n",
      "        gid: str\n",
      "        in_layout: bool\n",
      "        label: object\n",
      "        linestyle or ls: {'-', '--', '-.', ':', '', (offset, on-off-seq), ...}\n",
      "        linewidth or lw: float\n",
      "        marker: marker style string, `~.path.Path` or `~.markers.MarkerStyle`\n",
      "        markeredgecolor or mec: color\n",
      "        markeredgewidth or mew: float\n",
      "        markerfacecolor or mfc: color\n",
      "        markerfacecoloralt or mfcalt: color\n",
      "        markersize or ms: float\n",
      "        markevery: None or int or (int, int) or slice or list[int] or float or (float, float) or list[bool]\n",
      "        path_effects: `.AbstractPathEffect`\n",
      "        picker: float or callable[[Artist, Event], tuple[bool, dict]]\n",
      "        pickradius: float\n",
      "        rasterized: bool\n",
      "        sketch_params: (scale: float, length: float, randomness: float)\n",
      "        snap: bool or None\n",
      "        solid_capstyle: `.CapStyle` or {'butt', 'projecting', 'round'}\n",
      "        solid_joinstyle: `.JoinStyle` or {'miter', 'round', 'bevel'}\n",
      "        transform: unknown\n",
      "        url: str\n",
      "        visible: bool\n",
      "        xdata: 1D array\n",
      "        ydata: 1D array\n",
      "        zorder: float\n",
      "    \n",
      "    See Also\n",
      "    --------\n",
      "    scatter : XY scatter plot with markers of varying size and/or color (\n",
      "        sometimes also called bubble chart).\n",
      "    \n",
      "    Notes\n",
      "    -----\n",
      "    **Format Strings**\n",
      "    \n",
      "    A format string consists of a part for color, marker and line::\n",
      "    \n",
      "        fmt = '[marker][line][color]'\n",
      "    \n",
      "    Each of them is optional. If not provided, the value from the style\n",
      "    cycle is used. Exception: If ``line`` is given, but no ``marker``,\n",
      "    the data will be a line without markers.\n",
      "    \n",
      "    Other combinations such as ``[color][marker][line]`` are also\n",
      "    supported, but note that their parsing may be ambiguous.\n",
      "    \n",
      "    **Markers**\n",
      "    \n",
      "    =============   ===============================\n",
      "    character       description\n",
      "    =============   ===============================\n",
      "    ``'.'``         point marker\n",
      "    ``','``         pixel marker\n",
      "    ``'o'``         circle marker\n",
      "    ``'v'``         triangle_down marker\n",
      "    ``'^'``         triangle_up marker\n",
      "    ``'<'``         triangle_left marker\n",
      "    ``'>'``         triangle_right marker\n",
      "    ``'1'``         tri_down marker\n",
      "    ``'2'``         tri_up marker\n",
      "    ``'3'``         tri_left marker\n",
      "    ``'4'``         tri_right marker\n",
      "    ``'8'``         octagon marker\n",
      "    ``'s'``         square marker\n",
      "    ``'p'``         pentagon marker\n",
      "    ``'P'``         plus (filled) marker\n",
      "    ``'*'``         star marker\n",
      "    ``'h'``         hexagon1 marker\n",
      "    ``'H'``         hexagon2 marker\n",
      "    ``'+'``         plus marker\n",
      "    ``'x'``         x marker\n",
      "    ``'X'``         x (filled) marker\n",
      "    ``'D'``         diamond marker\n",
      "    ``'d'``         thin_diamond marker\n",
      "    ``'|'``         vline marker\n",
      "    ``'_'``         hline marker\n",
      "    =============   ===============================\n",
      "    \n",
      "    **Line Styles**\n",
      "    \n",
      "    =============    ===============================\n",
      "    character        description\n",
      "    =============    ===============================\n",
      "    ``'-'``          solid line style\n",
      "    ``'--'``         dashed line style\n",
      "    ``'-.'``         dash-dot line style\n",
      "    ``':'``          dotted line style\n",
      "    =============    ===============================\n",
      "    \n",
      "    Example format strings::\n",
      "    \n",
      "        'b'    # blue markers with default shape\n",
      "        'or'   # red circles\n",
      "        '-g'   # green solid line\n",
      "        '--'   # dashed line with default color\n",
      "        '^k:'  # black triangle_up markers connected by a dotted line\n",
      "    \n",
      "    **Colors**\n",
      "    \n",
      "    The supported color abbreviations are the single letter codes\n",
      "    \n",
      "    =============    ===============================\n",
      "    character        color\n",
      "    =============    ===============================\n",
      "    ``'b'``          blue\n",
      "    ``'g'``          green\n",
      "    ``'r'``          red\n",
      "    ``'c'``          cyan\n",
      "    ``'m'``          magenta\n",
      "    ``'y'``          yellow\n",
      "    ``'k'``          black\n",
      "    ``'w'``          white\n",
      "    =============    ===============================\n",
      "    \n",
      "    and the ``'CN'`` colors that index into the default property cycle.\n",
      "    \n",
      "    If the color is the only part of the format string, you can\n",
      "    additionally use any  `matplotlib.colors` spec, e.g. full names\n",
      "    (``'green'``) or hex strings (``'#008000'``).\n",
      "\n"
     ]
    }
   ],
   "source": [
    "help(plt.plot)"
   ]
  },
  {
   "cell_type": "code",
   "execution_count": 61,
   "id": "a94967de-cc26-41af-97f4-940fbf6a02ff",
   "metadata": {},
   "outputs": [
    {
     "data": {
      "image/png": "[encoded data removed]",
      "text/plain": [
       "<Figure size 432x288 with 1 Axes>"
      ]
     },
     "metadata": {
      "needs_background": "light"
     },
     "output_type": "display_data"
    }
   ],
   "source": [
    "plt.plot(x_werte, y_werte, '*', interp_x, interp_y, '-')\n",
    "plt.show()"
   ]
  },
  {
   "cell_type": "code",
   "execution_count": 64,
   "id": "a2d8c12f-4903-4503-bee2-6527db7fb9cb",
   "metadata": {},
   "outputs": [],
   "source": [
    "# pandas"
   ]
  },
  {
   "cell_type": "code",
   "execution_count": 13,
   "id": "3b9539f6-4ecd-4971-90a5-2fca8ba1bb92",
   "metadata": {},
   "outputs": [
    {
     "name": "stdout",
     "output_type": "stream",
     "text": [
      "<class 'dict'>\n",
      "  Spalte 1  Spalte 2\n",
      "0        A         1\n",
      "1        B         2\n",
      "2        C         3 <class 'pandas.core.frame.DataFrame'>\n"
     ]
    }
   ],
   "source": [
    "import pandas as pd\n",
    "\n",
    "dataset_1 = {\n",
    "  'Spalte 1': [\"A\", \"B\", \"C\"],\n",
    "  'Spalte 2': [1,2,3]\n",
    "}\n",
    "print(type(dataset_1))\n",
    "frame_1 = pd.DataFrame(dataset_1)\n",
    "print(frame_1, type(frame_1))\n"
   ]
  },
  {
   "cell_type": "markdown",
   "id": "b578ae66-52a7-42f1-af00-dde236df5847",
   "metadata": {},
   "source": [
    "Mit Hilfe des loc-Befehls, kann man Zeilen auslesen:"
   ]
  },
  {
   "cell_type": "code",
   "execution_count": 66,
   "id": "103ecdbe-0f06-42b6-9d84-a0c092e93ae6",
   "metadata": {},
   "outputs": [
    {
     "name": "stdout",
     "output_type": "stream",
     "text": [
      "Spalte 1    A\n",
      "Spalte 2    1\n",
      "Name: 0, dtype: object <class 'pandas.core.frame.DataFrame'>\n"
     ]
    }
   ],
   "source": [
    "print(frame_1.loc[0], type(frame_1.loc[0]))"
   ]
  },
  {
   "cell_type": "markdown",
   "id": "d3f1ab75-7763-4898-813c-0baecc67cf1d",
   "metadata": {},
   "source": [
    "Steigen wir etwas praktischer ein. Wir sehen dabei ein Problem:"
   ]
  },
  {
   "cell_type": "code",
   "execution_count": 76,
   "id": "2e6b1558-d5b7-4378-a097-44a6eb2d6c7a",
   "metadata": {},
   "outputs": [
    {
     "name": "stdout",
     "output_type": "stream",
     "text": [
      "     5.1  3.5  1.4  0.2      Iris-setosa\n",
      "0    4.9  3.0  1.4  0.2      Iris-setosa\n",
      "1    4.7  3.2  1.3  0.2      Iris-setosa\n",
      "2    4.6  3.1  1.5  0.2      Iris-setosa\n",
      "3    5.0  3.6  1.4  0.2      Iris-setosa\n",
      "4    5.4  3.9  1.7  0.4      Iris-setosa\n",
      "5    4.6  3.4  1.4  0.3      Iris-setosa\n",
      "6    5.0  3.4  1.5  0.2      Iris-setosa\n",
      "7    4.4  2.9  1.4  0.2      Iris-setosa\n",
      "8    4.9  3.1  1.5  0.1      Iris-setosa\n",
      "9    5.4  3.7  1.5  0.2      Iris-setosa\n",
      "10   4.8  3.4  1.6  0.2      Iris-setosa\n",
      "11   4.8  3.0  1.4  0.1      Iris-setosa\n",
      "12   4.3  3.0  1.1  0.1      Iris-setosa\n",
      "13   5.8  4.0  1.2  0.2      Iris-setosa\n",
      "14   5.7  4.4  1.5  0.4      Iris-setosa\n",
      "15   5.4  3.9  1.3  0.4      Iris-setosa\n",
      "16   5.1  3.5  1.4  0.3      Iris-setosa\n",
      "17   5.7  3.8  1.7  0.3      Iris-setosa\n",
      "18   5.1  3.8  1.5  0.3      Iris-setosa\n",
      "19   5.4  3.4  1.7  0.2      Iris-setosa\n",
      "20   5.1  3.7  1.5  0.4      Iris-setosa\n",
      "21   4.6  3.6  1.0  0.2      Iris-setosa\n",
      "22   5.1  3.3  1.7  0.5      Iris-setosa\n",
      "23   4.8  3.4  1.9  0.2      Iris-setosa\n",
      "24   5.0  3.0  1.6  0.2      Iris-setosa\n",
      "25   5.0  3.4  1.6  0.4      Iris-setosa\n",
      "26   5.2  3.5  1.5  0.2      Iris-setosa\n",
      "27   5.2  3.4  1.4  0.2      Iris-setosa\n",
      "28   4.7  3.2  1.6  0.2      Iris-setosa\n",
      "29   4.8  3.1  1.6  0.2      Iris-setosa\n",
      "30   5.4  3.4  1.5  0.4      Iris-setosa\n",
      "31   5.2  4.1  1.5  0.1      Iris-setosa\n",
      "32   5.5  4.2  1.4  0.2      Iris-setosa\n",
      "33   4.9  3.1  1.5  0.1      Iris-setosa\n",
      "34   5.0  3.2  1.2  0.2      Iris-setosa\n",
      "35   5.5  3.5  1.3  0.2      Iris-setosa\n",
      "36   4.9  3.1  1.5  0.1      Iris-setosa\n",
      "37   4.4  3.0  1.3  0.2      Iris-setosa\n",
      "38   5.1  3.4  1.5  0.2      Iris-setosa\n",
      "39   5.0  3.5  1.3  0.3      Iris-setosa\n",
      "40   4.5  2.3  1.3  0.3      Iris-setosa\n",
      "41   4.4  3.2  1.3  0.2      Iris-setosa\n",
      "42   5.0  3.5  1.6  0.6      Iris-setosa\n",
      "43   5.1  3.8  1.9  0.4      Iris-setosa\n",
      "44   4.8  3.0  1.4  0.3      Iris-setosa\n",
      "45   5.1  3.8  1.6  0.2      Iris-setosa\n",
      "46   4.6  3.2  1.4  0.2      Iris-setosa\n",
      "47   5.3  3.7  1.5  0.2      Iris-setosa\n",
      "48   5.0  3.3  1.4  0.2      Iris-setosa\n",
      "49   7.0  3.2  4.7  1.4  Iris-versicolor\n",
      "50   6.4  3.2  4.5  1.5  Iris-versicolor\n",
      "51   6.9  3.1  4.9  1.5  Iris-versicolor\n",
      "52   5.5  2.3  4.0  1.3  Iris-versicolor\n",
      "53   6.5  2.8  4.6  1.5  Iris-versicolor\n",
      "54   5.7  2.8  4.5  1.3  Iris-versicolor\n",
      "55   6.3  3.3  4.7  1.6  Iris-versicolor\n",
      "56   4.9  2.4  3.3  1.0  Iris-versicolor\n",
      "57   6.6  2.9  4.6  1.3  Iris-versicolor\n",
      "58   5.2  2.7  3.9  1.4  Iris-versicolor\n",
      "59   5.0  2.0  3.5  1.0  Iris-versicolor\n",
      "60   5.9  3.0  4.2  1.5  Iris-versicolor\n",
      "61   6.0  2.2  4.0  1.0  Iris-versicolor\n",
      "62   6.1  2.9  4.7  1.4  Iris-versicolor\n",
      "63   5.6  2.9  3.6  1.3  Iris-versicolor\n",
      "64   6.7  3.1  4.4  1.4  Iris-versicolor\n",
      "65   5.6  3.0  4.5  1.5  Iris-versicolor\n",
      "66   5.8  2.7  4.1  1.0  Iris-versicolor\n",
      "67   6.2  2.2  4.5  1.5  Iris-versicolor\n",
      "68   5.6  2.5  3.9  1.1  Iris-versicolor\n",
      "69   5.9  3.2  4.8  1.8  Iris-versicolor\n",
      "70   6.1  2.8  4.0  1.3  Iris-versicolor\n",
      "71   6.3  2.5  4.9  1.5  Iris-versicolor\n",
      "72   6.1  2.8  4.7  1.2  Iris-versicolor\n",
      "73   6.4  2.9  4.3  1.3  Iris-versicolor\n",
      "74   6.6  3.0  4.4  1.4  Iris-versicolor\n",
      "75   6.8  2.8  4.8  1.4  Iris-versicolor\n",
      "76   6.7  3.0  5.0  1.7  Iris-versicolor\n",
      "77   6.0  2.9  4.5  1.5  Iris-versicolor\n",
      "78   5.7  2.6  3.5  1.0  Iris-versicolor\n",
      "79   5.5  2.4  3.8  1.1  Iris-versicolor\n",
      "80   5.5  2.4  3.7  1.0  Iris-versicolor\n",
      "81   5.8  2.7  3.9  1.2  Iris-versicolor\n",
      "82   6.0  2.7  5.1  1.6  Iris-versicolor\n",
      "83   5.4  3.0  4.5  1.5  Iris-versicolor\n",
      "84   6.0  3.4  4.5  1.6  Iris-versicolor\n",
      "85   6.7  3.1  4.7  1.5  Iris-versicolor\n",
      "86   6.3  2.3  4.4  1.3  Iris-versicolor\n",
      "87   5.6  3.0  4.1  1.3  Iris-versicolor\n",
      "88   5.5  2.5  4.0  1.3  Iris-versicolor\n",
      "89   5.5  2.6  4.4  1.2  Iris-versicolor\n",
      "90   6.1  3.0  4.6  1.4  Iris-versicolor\n",
      "91   5.8  2.6  4.0  1.2  Iris-versicolor\n",
      "92   5.0  2.3  3.3  1.0  Iris-versicolor\n",
      "93   5.6  2.7  4.2  1.3  Iris-versicolor\n",
      "94   5.7  3.0  4.2  1.2  Iris-versicolor\n",
      "95   5.7  2.9  4.2  1.3  Iris-versicolor\n",
      "96   6.2  2.9  4.3  1.3  Iris-versicolor\n",
      "97   5.1  2.5  3.0  1.1  Iris-versicolor\n",
      "98   5.7  2.8  4.1  1.3  Iris-versicolor\n",
      "99   6.3  3.3  6.0  2.5   Iris-virginica\n",
      "100  5.8  2.7  5.1  1.9   Iris-virginica\n",
      "101  7.1  3.0  5.9  2.1   Iris-virginica\n",
      "102  6.3  2.9  5.6  1.8   Iris-virginica\n",
      "103  6.5  3.0  5.8  2.2   Iris-virginica\n",
      "104  7.6  3.0  6.6  2.1   Iris-virginica\n",
      "105  4.9  2.5  4.5  1.7   Iris-virginica\n",
      "106  7.3  2.9  6.3  1.8   Iris-virginica\n",
      "107  6.7  2.5  5.8  1.8   Iris-virginica\n",
      "108  7.2  3.6  6.1  2.5   Iris-virginica\n",
      "109  6.5  3.2  5.1  2.0   Iris-virginica\n",
      "110  6.4  2.7  5.3  1.9   Iris-virginica\n",
      "111  6.8  3.0  5.5  2.1   Iris-virginica\n",
      "112  5.7  2.5  5.0  2.0   Iris-virginica\n",
      "113  5.8  2.8  5.1  2.4   Iris-virginica\n",
      "114  6.4  3.2  5.3  2.3   Iris-virginica\n",
      "115  6.5  3.0  5.5  1.8   Iris-virginica\n",
      "116  7.7  3.8  6.7  2.2   Iris-virginica\n",
      "117  7.7  2.6  6.9  2.3   Iris-virginica\n",
      "118  6.0  2.2  5.0  1.5   Iris-virginica\n",
      "119  6.9  3.2  5.7  2.3   Iris-virginica\n",
      "120  5.6  2.8  4.9  2.0   Iris-virginica\n",
      "121  7.7  2.8  6.7  2.0   Iris-virginica\n",
      "122  6.3  2.7  4.9  1.8   Iris-virginica\n",
      "123  6.7  3.3  5.7  2.1   Iris-virginica\n",
      "124  7.2  3.2  6.0  1.8   Iris-virginica\n",
      "125  6.2  2.8  4.8  1.8   Iris-virginica\n",
      "126  6.1  3.0  4.9  1.8   Iris-virginica\n",
      "127  6.4  2.8  5.6  2.1   Iris-virginica\n",
      "128  7.2  3.0  5.8  1.6   Iris-virginica\n",
      "129  7.4  2.8  6.1  1.9   Iris-virginica\n",
      "130  7.9  3.8  6.4  2.0   Iris-virginica\n",
      "131  6.4  2.8  5.6  2.2   Iris-virginica\n",
      "132  6.3  2.8  5.1  1.5   Iris-virginica\n",
      "133  6.1  2.6  5.6  1.4   Iris-virginica\n",
      "134  7.7  3.0  6.1  2.3   Iris-virginica\n",
      "135  6.3  3.4  5.6  2.4   Iris-virginica\n",
      "136  6.4  3.1  5.5  1.8   Iris-virginica\n",
      "137  6.0  3.0  4.8  1.8   Iris-virginica\n",
      "138  6.9  3.1  5.4  2.1   Iris-virginica\n",
      "139  6.7  3.1  5.6  2.4   Iris-virginica\n",
      "140  6.9  3.1  5.1  2.3   Iris-virginica\n",
      "141  5.8  2.7  5.1  1.9   Iris-virginica\n",
      "142  6.8  3.2  5.9  2.3   Iris-virginica\n",
      "143  6.7  3.3  5.7  2.5   Iris-virginica\n",
      "144  6.7  3.0  5.2  2.3   Iris-virginica\n",
      "145  6.3  2.5  5.0  1.9   Iris-virginica\n",
      "146  6.5  3.0  5.2  2.0   Iris-virginica\n",
      "147  6.2  3.4  5.4  2.3   Iris-virginica\n",
      "148  5.9  3.0  5.1  1.8   Iris-virginica\n"
     ]
    }
   ],
   "source": [
    "df = pd.read_csv('iris.data')\n",
    "print(df.to_string())"
   ]
  },
  {
   "cell_type": "markdown",
   "id": "5c666194-5173-44c5-8387-3e96f5abb4f1",
   "metadata": {},
   "source": [
    "...der Datensatz enthält keine Überschrift. pandas interpretiert dann standardmäßig die erste Zeile als Überschrift. Das umgehen wir wie folgt:"
   ]
  },
  {
   "cell_type": "code",
   "execution_count": 16,
   "id": "84c45ba6-e96f-4fb9-adda-79aa08ca91ad",
   "metadata": {},
   "outputs": [
    {
     "name": "stdout",
     "output_type": "stream",
     "text": [
      "   Sepal Länge  Sepal Breite  Petal Länge  Petal Breite          Art\n",
      "0          5.1           3.5          1.4           0.2  Iris-setosa\n",
      "1          4.9           3.0          1.4           0.2  Iris-setosa\n",
      "2          4.7           3.2          1.3           0.2  Iris-setosa\n",
      "3          4.6           3.1          1.5           0.2  Iris-setosa\n",
      "4          5.0           3.6          1.4           0.2  Iris-setosa\n",
      "5          5.4           3.9          1.7           0.4  Iris-setosa\n",
      "6          4.6           3.4          1.4           0.3  Iris-setosa\n",
      "7          5.0           3.4          1.5           0.2  Iris-setosa\n",
      "8          4.4           2.9          1.4           0.2  Iris-setosa\n",
      "9          4.9           3.1          1.5           0.1  Iris-setosa\n",
      "0      False\n",
      "1      False\n",
      "2      False\n",
      "3      False\n",
      "4      False\n",
      "       ...  \n",
      "145    False\n",
      "146    False\n",
      "147    False\n",
      "148    False\n",
      "149    False\n",
      "Name: Sepal Länge, Length: 150, dtype: bool\n",
      "     Sepal Länge  Sepal Breite  Petal Länge  Petal Breite             Art\n",
      "131          7.9           3.8          6.4           2.0  Iris-virginica\n"
     ]
    }
   ],
   "source": [
    "df = pd.read_csv('iris.data', header=None)\n",
    "#wir hätten das auch importieren oder in der Datei setzen können\n",
    "spaltennamen = ['Sepal Länge', 'Sepal Breite', 'Petal Länge','Petal Breite', 'Art']\n",
    "df.columns = spaltennamen\n",
    "print(df.head(10))\n",
    "setosa_filter = df[\"Sepal Länge\"] >= 7.9\n",
    "print(setosa_filter)\n",
    "print(df[setosa_filter])"
   ]
  },
  {
   "cell_type": "markdown",
   "id": "9314a9ac-01d1-43f8-ad05-4e3470fe0a35",
   "metadata": {},
   "source": [
    "...es gibt unzählige Analyse-Möglichkeiten. Bester Einstieg mit Info:"
   ]
  },
  {
   "cell_type": "code",
   "execution_count": 17,
   "id": "3635fe19-78b5-41f9-9bf5-0eaf09861c84",
   "metadata": {},
   "outputs": [
    {
     "name": "stdout",
     "output_type": "stream",
     "text": [
      "<class 'pandas.core.frame.DataFrame'>\n",
      "RangeIndex: 150 entries, 0 to 149\n",
      "Data columns (total 5 columns):\n",
      " #   Column        Non-Null Count  Dtype  \n",
      "---  ------        --------------  -----  \n",
      " 0   Sepal Länge   150 non-null    float64\n",
      " 1   Sepal Breite  150 non-null    float64\n",
      " 2   Petal Länge   150 non-null    float64\n",
      " 3   Petal Breite  150 non-null    float64\n",
      " 4   Art           150 non-null    object \n",
      "dtypes: float64(4), object(1)\n",
      "memory usage: 6.0+ KB\n",
      "None\n"
     ]
    }
   ],
   "source": [
    "print(df.info())"
   ]
  },
  {
   "cell_type": "code",
   "execution_count": 85,
   "id": "2e04f921-68d9-4213-996d-7c73c2c103bd",
   "metadata": {},
   "outputs": [
    {
     "data": {
      "text/plain": [
       "<AxesSubplot:>"
      ]
     },
     "execution_count": 85,
     "metadata": {},
     "output_type": "execute_result"
    },
    {
     "data": {
      "image/png": "[encoded data removed]",
      "text/plain": [
       "<Figure size 432x288 with 1 Axes>"
      ]
     },
     "metadata": {
      "needs_background": "light"
     },
     "output_type": "display_data"
    }
   ],
   "source": [
    "df.plot()"
   ]
  },
  {
   "cell_type": "code",
   "execution_count": null,
   "id": "11f77077-3cb9-4aa1-9935-09d1cef025fb",
   "metadata": {},
   "outputs": [],
   "source": []
  }
 ],
 "metadata": {
  "kernelspec": {
   "display_name": "Python 3 (ipykernel)",
   "language": "python",
   "name": "python3"
  },
  "language_info": {
   "codemirror_mode": {
    "name": "ipython",
    "version": 3
   },
   "file_extension": ".py",
   "mimetype": "text/x-python",
   "name": "python",
   "nbconvert_exporter": "python",
   "pygments_lexer": "ipython3",
   "version": "3.10.9"
  }
 },
 "nbformat": 4,
 "nbformat_minor": 5
}
