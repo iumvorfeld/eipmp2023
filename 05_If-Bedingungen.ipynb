{
 "cells": [
  {
   "cell_type": "markdown",
   "id": "6a859428",
   "metadata": {},
   "source": [
    "# If-Bedingungen"
   ]
  },
  {
   "cell_type": "markdown",
   "id": "97737621",
   "metadata": {},
   "source": [
    "Ein schlechtes Beispiel (sieht man nur leider schlecht): Tab und Leerzeichen gemischt..."
   ]
  },
  {
   "cell_type": "code",
   "execution_count": 1,
   "id": "7c1d4a4b",
   "metadata": {},
   "outputs": [
    {
     "name": "stdout",
     "output_type": "stream",
     "text": [
      "a ist größer als 0\n",
      "b ist kleiner gleich 1\n"
     ]
    }
   ],
   "source": [
    "a = 1 \n",
    "b = 1 \n",
    "if a>0:\n",
    "  #Hier jetzt mit zwei Leerzeichen\n",
    "  print(\"a ist größer als 0\")\n",
    "if (b>1):\n",
    "    #Diese Einrückung schlägt mir Jupyter automatisch vor\n",
    "    print(\"b ist größer als 1\")\n",
    "else:\n",
    "    print(\"b ist kleiner gleich 1\")\n"
   ]
  },
  {
   "cell_type": "code",
   "execution_count": null,
   "id": "25ac85e7",
   "metadata": {},
   "outputs": [],
   "source": [
    "Mit der entsprechenden Anzahl von elif.Abfragen ist das Ziel, alle möglichen Fälle abzufragen"
   ]
  },
  {
   "cell_type": "code",
   "execution_count": 2,
   "id": "257f4a5e",
   "metadata": {},
   "outputs": [
    {
     "name": "stdout",
     "output_type": "stream",
     "text": [
      "Heute ist Freitag\n",
      "Es ist Vorlesung\n"
     ]
    }
   ],
   "source": [
    "tag = \"Freitag\"\n",
    "if tag == \"Montag\":\n",
    "    print(\"Heute ist Montag\")\n",
    "elif tag == \"Dienstag\":\n",
    "    print(\"Heute ist Dienstag\")\n",
    "elif tag == \"Mittwoch\":\n",
    "    print(\"Heute ist Mittwoch\")\n",
    "elif tag == \"Donnerstag\":\n",
    "    print(\"Heute ist Donnerstag\")\n",
    "elif tag == \"Freitag\":\n",
    "    print(\"Heute ist Freitag\")\n",
    "    print(\"Es ist Vorlesung\")\n",
    "elif tag == \"Samstag\":\n",
    "    print(\"Heute ist Samstag\")\n",
    "#Wenn wirklich ein richtiger Wochentag angegeben wurde, muss es jetzt nach\n",
    "#Ausschluss-Prinzip der Sonntag sein. Das was übrig bleibt halt...\n",
    "else:\n",
    "    print(\"Sonntag\")"
   ]
  },
  {
   "cell_type": "markdown",
   "id": "e1934a3a",
   "metadata": {},
   "source": [
    "Ein wichtiger Punkt noch: \n",
    "Die Philosophie hinter Python sagt u.a., dass\n",
    "-Einfach ist besser als kompliziert\n",
    "-Schön ist besser als hässlich\n",
    "-Flach ist besser als verschachtelt\n",
    "Daher ist die Frage, ob eine total komplexe if-Abfrage besser ist als etwas mehr Code. Hier würde ich sagen: ja!"
   ]
  },
  {
   "cell_type": "code",
   "execution_count": 1,
   "id": "c09f2ef0",
   "metadata": {},
   "outputs": [
    {
     "name": "stdout",
     "output_type": "stream",
     "text": [
      "Nicht alle sind wahr\n",
      "Nicht alle sind wahr\n"
     ]
    }
   ],
   "source": [
    "a = True\n",
    "b = False\n",
    "c = True\n",
    "#Möglichkeit 1:\n",
    "if(a and b and c):\n",
    "    print(\"Alle sind wahr\")\n",
    "else:\n",
    "    print(\"Nicht alle sind wahr\")\n",
    "#versus\n",
    "if a:\n",
    "    if b:\n",
    "        if c:\n",
    "            print(\"Alle sind wahr\")\n",
    "        else:\n",
    "            print(\"Nicht alle sind wahr\")\n",
    "    else:\n",
    "        print(\"Nicht alle sind wahr\")\n",
    "else:\n",
    "    print(\"Nicht alle sind wahr\")\n",
    "            \n"
   ]
  },
  {
   "cell_type": "code",
   "execution_count": null,
   "id": "4d859a7f",
   "metadata": {},
   "outputs": [],
   "source": []
  }
 ],
 "metadata": {
  "kernelspec": {
   "display_name": "Python 3 (ipykernel)",
   "language": "python",
   "name": "python3"
  },
  "language_info": {
   "codemirror_mode": {
    "name": "ipython",
    "version": 3
   },
   "file_extension": ".py",
   "mimetype": "text/x-python",
   "name": "python",
   "nbconvert_exporter": "python",
   "pygments_lexer": "ipython3",
   "version": "3.10.9"
  }
 },
 "nbformat": 4,
 "nbformat_minor": 5
}
