{
 "cells": [
  {
   "cell_type": "markdown",
   "id": "3f580d07",
   "metadata": {},
   "source": [
    "# Funktionen"
   ]
  },
  {
   "cell_type": "markdown",
   "id": "4876f7b3",
   "metadata": {},
   "source": [
    "Einfache Funktionsdefinitionen"
   ]
  },
  {
   "cell_type": "code",
   "execution_count": 5,
   "id": "358436d6",
   "metadata": {},
   "outputs": [
    {
     "name": "stdout",
     "output_type": "stream",
     "text": [
      "hallo\n",
      "hallo\n",
      "moin\n",
      "moinmoin\n",
      "moin\n",
      "<class 'NoneType'>\n"
     ]
    }
   ],
   "source": [
    "def hallo():\n",
    "    print(\"hallo\")\n",
    "def moin():\n",
    "    print(\"moin\")\n",
    "def moin2():\n",
    "    return \"moin\"\n",
    "def moinmoin():\n",
    "    #Funktionen können auch Funktionen aufrufen\n",
    "    #Das nennt man dann verschachtelt/eingebettet oder \"nested\"\n",
    "    print(moin2()+moin2())\n",
    "    \n",
    "##################################################\n",
    "#Achtung hier geht der Einstieg los\n",
    "print(\"hallo\")\n",
    "hallo() #Aufruf der Funktion\n",
    "moin()\n",
    "moinmoin()\n",
    "print(type(moin()))\n",
    "\n"
   ]
  },
  {
   "cell_type": "code",
   "execution_count": 6,
   "id": "6dad0332-3cc6-45b7-9625-9578730fcf59",
   "metadata": {},
   "outputs": [
    {
     "name": "stdout",
     "output_type": "stream",
     "text": [
      "1\n"
     ]
    }
   ],
   "source": [
    "def funktion_mit_variable():\n",
    "    var_1 = 1\n",
    "    print(var_1)\n",
    "funktion_mit_variable()"
   ]
  },
  {
   "cell_type": "markdown",
   "id": "baff7d62-cb9b-40ad-8e44-a866db927642",
   "metadata": {},
   "source": [
    "Versucht man nun auf var_1 zurückzugreifen, funktioniert dies nicht, da var_1 \"local scope\" in der Funktion ist:"
   ]
  },
  {
   "cell_type": "code",
   "execution_count": 7,
   "id": "db1d2d98-6659-4117-b51b-f02bd4516546",
   "metadata": {},
   "outputs": [
    {
     "ename": "NameError",
     "evalue": "name 'var_1' is not defined",
     "output_type": "error",
     "traceback": [
      "\u001b[1;31m---------------------------------------------------------------------------\u001b[0m",
      "\u001b[1;31mNameError\u001b[0m                                 Traceback (most recent call last)",
      "Cell \u001b[1;32mIn[7], line 1\u001b[0m\n\u001b[1;32m----> 1\u001b[0m \u001b[38;5;28mprint\u001b[39m(\u001b[43mvar_1\u001b[49m)\n",
      "\u001b[1;31mNameError\u001b[0m: name 'var_1' is not defined"
     ]
    }
   ],
   "source": [
    "print(var_1) # Fehler"
   ]
  },
  {
   "cell_type": "markdown",
   "id": "d91c5c57-e549-46d9-9636-faab4db173d8",
   "metadata": {},
   "source": [
    "Natürlich kann man jetzt auch eine global gültige Variable anlegen - diese verändert aber nicht den Wert der lokalen Variable:"
   ]
  },
  {
   "cell_type": "code",
   "execution_count": 6,
   "id": "ec67570e-06e4-4760-97f1-f09babc7863d",
   "metadata": {},
   "outputs": [
    {
     "name": "stdout",
     "output_type": "stream",
     "text": [
      "10\n",
      "1\n"
     ]
    }
   ],
   "source": [
    "var_1 = 10\n",
    "print(var_1)\n",
    "funktion_mit_variable()"
   ]
  },
  {
   "cell_type": "raw",
   "id": "98031492-9444-48ce-b206-b184ff9cbbc4",
   "metadata": {},
   "source": [
    "Einmal zur Verdeutlichung eine \"nested\" Variable:"
   ]
  },
  {
   "cell_type": "code",
   "execution_count": 11,
   "id": "00e5465f-b0b6-4b6e-8aa2-7f07a3c90f78",
   "metadata": {},
   "outputs": [
    {
     "name": "stdout",
     "output_type": "stream",
     "text": [
      "<class 'int'> 2016088228080\n",
      "1\n",
      "<class 'int'> 2016088228368\n"
     ]
    }
   ],
   "source": [
    "def funktion_aussen():\n",
    "    #Scope -> funktion_aussen. nested_variable gibt es nicht. Daher wird diese neu angelegt\n",
    "    nested_variable = 1\n",
    "    print(type(nested_variable), id(nested_variable))\n",
    "    def funktion_innen():\n",
    "        #Scope -> funktion_innen. nested_variable (innen) gibt es nicht. Daher wird diese neu angelegt\n",
    "        nested_variable = 10 #diese hier ist lokal nicht nested\n",
    "        print(type(nested_variable), id(nested_variable))\n",
    "    print(nested_variable)\n",
    "    funktion_innen()\n",
    "funktion_aussen()"
   ]
  },
  {
   "cell_type": "markdown",
   "id": "8441334e-ee35-46c4-a53b-ee80b2ecd2df",
   "metadata": {},
   "source": [
    "Beginnen wir jetzt damit, das nonlocal-Keyword zu verwenden, um Variablen zwischen inneren und äußeren Funktionen beizubehalten"
   ]
  },
  {
   "cell_type": "code",
   "execution_count": 15,
   "id": "a5959aeb-5e1c-4762-ad76-ae9ead5084fe",
   "metadata": {},
   "outputs": [
    {
     "name": "stdout",
     "output_type": "stream",
     "text": [
      "2016088228112\n",
      "2016088228112\n",
      "2016088228144\n",
      "3\n",
      "1\n"
     ]
    }
   ],
   "source": [
    "foobar = 1 #das hier ist die globale\n",
    "def funktion_a():\n",
    "    foobar = 2 \n",
    "    print(id(foobar))\n",
    "    def function_b():\n",
    "        nonlocal foobar\n",
    "        print(id(foobar))\n",
    "        foobar = 3\n",
    "        print(id(foobar))\n",
    "       \n",
    "    function_b()\n",
    "    print(foobar)\n",
    "funktion_a()\n",
    "print(foobar)"
   ]
  },
  {
   "cell_type": "code",
   "execution_count": 14,
   "id": "0ed7c12e-d5fa-48e1-b0fc-5c449284df66",
   "metadata": {},
   "outputs": [
    {
     "name": "stdout",
     "output_type": "stream",
     "text": [
      "Help on built-in function id in module builtins:\n",
      "\n",
      "id(obj, /)\n",
      "    Return the identity of an object.\n",
      "    \n",
      "    This is guaranteed to be unique among simultaneously existing objects.\n",
      "    (CPython uses the object's memory address.)\n",
      "\n"
     ]
    }
   ],
   "source": [
    "help(id)"
   ]
  },
  {
   "cell_type": "markdown",
   "id": "2079488b-99e7-4d0c-8645-7c37f9b50fd4",
   "metadata": {},
   "source": [
    "Erweitern wir den Scope zu global, um globale Variablen ohne \"Kopie\" in einer Funktion zu nutzen"
   ]
  },
  {
   "cell_type": "code",
   "execution_count": 16,
   "id": "77cf2d8c-b3bb-49ec-923b-937c3028e3d0",
   "metadata": {},
   "outputs": [
    {
     "name": "stdout",
     "output_type": "stream",
     "text": [
      "1 2016088228080\n",
      "2 2016088228112\n",
      "1 2016088228080\n",
      "2\n",
      "3\n"
     ]
    }
   ],
   "source": [
    "\n",
    "def funktion_a():\n",
    "    foobar = 2 \n",
    "    print(foobar, id(foobar))\n",
    "    def function_b():\n",
    "        global foobar\n",
    "        print(foobar, id(foobar))\n",
    "        foobar = 3\n",
    "    function_b()\n",
    "    print(foobar)\n",
    "foobar = 1 #das hier ist die globale\n",
    "print(foobar, id(foobar))\n",
    "funktion_a()\n",
    "print(foobar)"
   ]
  },
  {
   "cell_type": "markdown",
   "id": "f0f9ffb6-e542-4afc-9af9-94345dadd4ed",
   "metadata": {},
   "source": [
    "Bereits hier der Hinweis: Lieber gleich daran denken, dass man Variablen gut benennt und so nicht in verschiedenen \"scopes\" Probleme bekommt"
   ]
  },
  {
   "cell_type": "markdown",
   "id": "0f0b7dfd-1dcd-4030-abcd-819f7d405825",
   "metadata": {},
   "source": [
    "Statt mit Hilfe des global-Schlüsselwortes kann man Variablen übergeben:"
   ]
  },
  {
   "cell_type": "code",
   "execution_count": 17,
   "id": "22983a98-36f1-4e6f-9566-a2debcdc8cc7",
   "metadata": {},
   "outputs": [
    {
     "name": "stdout",
     "output_type": "stream",
     "text": [
      "Moin Fred\n"
     ]
    },
    {
     "name": "stdin",
     "output_type": "stream",
     "text": [
      " Martin\n"
     ]
    },
    {
     "name": "stdout",
     "output_type": "stream",
     "text": [
      "Moin Martin\n"
     ]
    }
   ],
   "source": [
    "def begruesse(name):\n",
    "    print(\"Moin \"+name)\n",
    "    #Weiß noch jemand die andere Methode um einen String dynamisch zu ergänzen?\n",
    "begruesse(\"Fred\")\n",
    "name = input()\n",
    "begruesse(name)"
   ]
  },
  {
   "cell_type": "markdown",
   "id": "77c328bb-1586-42e1-995a-d174613a4474",
   "metadata": {},
   "source": [
    "Wenn man die Arugumente mit Namen anspricht, ist die Reihenfolge egal:"
   ]
  },
  {
   "cell_type": "code",
   "execution_count": 15,
   "id": "88eb4f18-b1cc-4543-8b46-520671ce8f48",
   "metadata": {},
   "outputs": [
    {
     "name": "stdout",
     "output_type": "stream",
     "text": [
      "1 2\n",
      "2 1\n"
     ]
    }
   ],
   "source": [
    "def bsp(a, b):\n",
    "    print(a, b)\n",
    "bsp(1, 2)\n",
    "bsp(b=1, a=2)\n",
    "    \n"
   ]
  },
  {
   "cell_type": "markdown",
   "id": "952cf642-2fb8-41d4-8597-c97b17f32d04",
   "metadata": {},
   "source": [
    "Weiterhin kann man Funktionswerte, die einen Standardwert haben auch weglassen. Wichtig ist dabei, dass entweder alle Argumente einen Standardwert haben oder diese am Ende stehen"
   ]
  },
  {
   "cell_type": "code",
   "execution_count": 18,
   "id": "1b2c1f0a-543d-4cff-b395-afa5c3579c3f",
   "metadata": {},
   "outputs": [
    {
     "name": "stdout",
     "output_type": "stream",
     "text": [
      "1 2 1\n",
      "1 2 3\n",
      "1 2 3\n"
     ]
    }
   ],
   "source": [
    "def bsp2(a, b, c=1):\n",
    "    print(a,b,c)\n",
    "bsp2(1,2)\n",
    "def bsp3(a=1, b=2, c=3):\n",
    "    print(a,b,c)\n",
    "bsp3()\n",
    "bsp3(1,2)"
   ]
  },
  {
   "cell_type": "code",
   "execution_count": 19,
   "id": "aad122a3-bf96-41e8-be59-98010183d829",
   "metadata": {},
   "outputs": [
    {
     "ename": "TypeError",
     "evalue": "bsp2() missing 2 required positional arguments: 'a' and 'b'",
     "output_type": "error",
     "traceback": [
      "\u001b[1;31m---------------------------------------------------------------------------\u001b[0m",
      "\u001b[1;31mTypeError\u001b[0m                                 Traceback (most recent call last)",
      "Cell \u001b[1;32mIn[19], line 1\u001b[0m\n\u001b[1;32m----> 1\u001b[0m \u001b[43mbsp2\u001b[49m\u001b[43m(\u001b[49m\u001b[43m)\u001b[49m\n",
      "\u001b[1;31mTypeError\u001b[0m: bsp2() missing 2 required positional arguments: 'a' and 'b'"
     ]
    }
   ],
   "source": [
    "bsp2()"
   ]
  },
  {
   "cell_type": "markdown",
   "id": "4434218f-1b97-4b87-967e-54a04fcd7b96",
   "metadata": {},
   "source": [
    "Funktionen haben meistens Rückgabewerte - einen oder mehrere:"
   ]
  },
  {
   "cell_type": "code",
   "execution_count": 20,
   "id": "d11d218e-1404-4154-b0c2-177493948dc8",
   "metadata": {},
   "outputs": [
    {
     "name": "stdout",
     "output_type": "stream",
     "text": [
      "A\n",
      "A\n"
     ]
    }
   ],
   "source": [
    "def gib_einen_Wert_zueruck():\n",
    "    return \"A\"\n",
    "print(gib_einen_Wert_zueruck())\n",
    "s = gib_einen_Wert_zueruck()\n",
    "print(s)"
   ]
  },
  {
   "cell_type": "markdown",
   "id": "638ff1c3-b223-4385-b3e0-a7425de6fbcd",
   "metadata": {},
   "source": [
    "Verdeutlichen wir die Aufgabe des return-Statements und verstecken etwas Code..."
   ]
  },
  {
   "cell_type": "code",
   "execution_count": 21,
   "id": "c50f6833-0c63-40bc-8321-4cf3090be43e",
   "metadata": {},
   "outputs": [
    {
     "name": "stdout",
     "output_type": "stream",
     "text": [
      "hallo\n"
     ]
    },
    {
     "data": {
      "text/plain": [
       "1"
      ]
     },
     "execution_count": 21,
     "metadata": {},
     "output_type": "execute_result"
    }
   ],
   "source": [
    "def code_nach_return():\n",
    "    print(\"hallo\")\n",
    "    return 1 \n",
    "    print(\"world\")\n",
    "code_nach_return()"
   ]
  },
  {
   "cell_type": "code",
   "execution_count": null,
   "id": "e1a50138-4c4f-487a-a27e-79a762ba9d11",
   "metadata": {},
   "outputs": [],
   "source": [
    "Memo: Wenn Zeit ist: Listenveränderung in Funktion..."
   ]
  },
  {
   "cell_type": "markdown",
   "id": "57009b1b-d121-4d93-84d8-6ca3c4e10020",
   "metadata": {},
   "source": [
    "# Die Map-Funktion"
   ]
  },
  {
   "cell_type": "code",
   "execution_count": 24,
   "id": "86ede3d4-e9a4-431d-840e-f7183835aaba",
   "metadata": {},
   "outputs": [
    {
     "name": "stdout",
     "output_type": "stream",
     "text": [
      "Anja 4\n",
      "Bernd 5\n",
      "Claudia 7\n"
     ]
    },
    {
     "data": {
      "text/plain": [
       "'\\nbsp_liste = [i for i in range(10)]\\nfunk_tupel = map(bestimme_laenge, bsp_tupel)\\nprint(bsp_tupel, funk_tupel, tuple(funk_tupel))\\nfunk_liste = map(quadrat, bsp_liste)\\nprint(bsp_liste, funk_liste, list(funk_liste))\\n'"
      ]
     },
     "execution_count": 24,
     "metadata": {},
     "output_type": "execute_result"
    }
   ],
   "source": [
    "def bestimme_laenge(x):\n",
    "    return len(x)\n",
    "def quadrat(x):\n",
    "    return x*x\n",
    "bsp_tupel = (\"Anja\", \"Bernd\", \"Claudia\")\n",
    "for b in bsp_tupel:\n",
    "    print(b, len(b))\n",
    "\n",
    "\n",
    "\"\"\"\n",
    "bsp_liste = [i for i in range(10)]\n",
    "funk_tupel = map(bestimme_laenge, bsp_tupel)\n",
    "print(bsp_tupel, funk_tupel, tuple(funk_tupel))\n",
    "funk_liste = map(quadrat, bsp_liste)\n",
    "print(bsp_liste, funk_liste, list(funk_liste))\n",
    "\"\"\""
   ]
  },
  {
   "cell_type": "code",
   "execution_count": 29,
   "id": "04ad7de9-558d-4528-8e5e-51fcc9bade1b",
   "metadata": {},
   "outputs": [
    {
     "name": "stdout",
     "output_type": "stream",
     "text": [
      "W\n",
      "e\n",
      "i\n",
      "h\n",
      "n\n",
      "a\n",
      "c\n",
      "h\n",
      "t\n",
      "s\n",
      "m\n",
      "a\n",
      "n\n",
      "n\n",
      "['W', 'e', 'i', 'h', 'n', 'a', 'c', 'h', 't', 's', 'm', 'a', 'n', 'n']\n"
     ]
    }
   ],
   "source": [
    "Name =\"Weihnachtsmann\"\n",
    "l = len(Name)\n",
    "i = 0\n",
    "Liste = []\n",
    "while i < l:\n",
    "    print(Name[i])\n",
    "    Liste.append(Name[i])\n",
    "    i=i+1\n",
    "\n",
    "print(Liste)"
   ]
  },
  {
   "cell_type": "code",
   "execution_count": null,
   "id": "d2a3b90c-dd6d-4abf-a84b-a4ce6edab428",
   "metadata": {},
   "outputs": [],
   "source": []
  },
  {
   "cell_type": "markdown",
   "id": "a4528133-339b-412b-a07b-a37a7f8c26c4",
   "metadata": {},
   "source": [
    "Docstrings zum Dokumentieren der Funktion:"
   ]
  },
  {
   "cell_type": "code",
   "execution_count": 30,
   "id": "0fb77324-d37b-482e-ab34-fc74ef8fb362",
   "metadata": {},
   "outputs": [
    {
     "name": "stdout",
     "output_type": "stream",
     "text": [
      "Help on function undokumentierte_Funktion in module __main__:\n",
      "\n",
      "undokumentierte_Funktion()\n",
      "\n",
      "Help on function dokumentierte_Funktion in module __main__:\n",
      "\n",
      "dokumentierte_Funktion()\n",
      "    Diese Funktion gibt 42 zurück\n",
      "    Nutze die Funktion um blablabla\n",
      "\n"
     ]
    }
   ],
   "source": [
    "def undokumentierte_Funktion():\n",
    "    return 21\n",
    "def dokumentierte_Funktion():\n",
    "    \"\"\"Diese Funktion gibt 42 zurück\n",
    "    Nutze die Funktion um blablabla\n",
    "    \"\"\"\n",
    "    return 42\n",
    "help(undokumentierte_Funktion)\n",
    "help(dokumentierte_Funktion)"
   ]
  },
  {
   "cell_type": "markdown",
   "id": "c21161bd-1589-4581-8612-a8e6952bd8f7",
   "metadata": {},
   "source": [
    "# Beispiel Gaussche Summen:"
   ]
  },
  {
   "cell_type": "markdown",
   "id": "4292cc3f-c47a-4d66-aa5a-1deeb29f77c7",
   "metadata": {},
   "source": [
    "Fangen wir mit Benutzung der Formel an"
   ]
  },
  {
   "cell_type": "code",
   "execution_count": 31,
   "id": "3e603069-be22-45bb-a967-5a3a802dc9d4",
   "metadata": {},
   "outputs": [
    {
     "name": "stdout",
     "output_type": "stream",
     "text": [
      "5050\n"
     ]
    }
   ],
   "source": [
    "def gaussche_summe_formel(n):\n",
    "    return (n*n+n)//2\n",
    "summe = gaussche_summe_formel(100)\n",
    "print(summe)"
   ]
  },
  {
   "cell_type": "markdown",
   "id": "c51f10b0-d211-436b-ab79-93edc18f878c",
   "metadata": {},
   "source": [
    "Wenn man die Formel nicht kennt, geht es z.B. mit einer while-Schleife:"
   ]
  },
  {
   "cell_type": "code",
   "execution_count": 32,
   "id": "4bbd4146-78ff-4966-bf2e-8d6a37d0ec51",
   "metadata": {},
   "outputs": [
    {
     "name": "stdout",
     "output_type": "stream",
     "text": [
      "1 1\n",
      "2 3\n",
      "3 6\n",
      "4 10\n",
      "5 15\n",
      "6 21\n",
      "7 28\n",
      "8 36\n",
      "9 45\n",
      "10 55\n",
      "11 66\n",
      "12 78\n",
      "13 91\n",
      "14 105\n",
      "15 120\n",
      "16 136\n",
      "17 153\n",
      "18 171\n",
      "19 190\n",
      "20 210\n",
      "21 231\n",
      "22 253\n",
      "23 276\n",
      "24 300\n",
      "25 325\n",
      "26 351\n",
      "27 378\n",
      "28 406\n",
      "29 435\n",
      "30 465\n",
      "31 496\n",
      "32 528\n",
      "33 561\n",
      "34 595\n",
      "35 630\n",
      "36 666\n",
      "37 703\n",
      "38 741\n",
      "39 780\n",
      "40 820\n",
      "41 861\n",
      "42 903\n",
      "43 946\n",
      "44 990\n",
      "45 1035\n",
      "46 1081\n",
      "47 1128\n",
      "48 1176\n",
      "49 1225\n",
      "50 1275\n",
      "51 1326\n",
      "52 1378\n",
      "53 1431\n",
      "54 1485\n",
      "55 1540\n",
      "56 1596\n",
      "57 1653\n",
      "58 1711\n",
      "59 1770\n",
      "60 1830\n",
      "61 1891\n",
      "62 1953\n",
      "63 2016\n",
      "64 2080\n",
      "65 2145\n",
      "66 2211\n",
      "67 2278\n",
      "68 2346\n",
      "69 2415\n",
      "70 2485\n",
      "71 2556\n",
      "72 2628\n",
      "73 2701\n",
      "74 2775\n",
      "75 2850\n",
      "76 2926\n",
      "77 3003\n",
      "78 3081\n",
      "79 3160\n",
      "80 3240\n",
      "81 3321\n",
      "82 3403\n",
      "83 3486\n",
      "84 3570\n",
      "85 3655\n",
      "86 3741\n",
      "87 3828\n",
      "88 3916\n",
      "89 4005\n",
      "90 4095\n",
      "91 4186\n",
      "92 4278\n",
      "93 4371\n",
      "94 4465\n",
      "95 4560\n",
      "96 4656\n",
      "97 4753\n",
      "98 4851\n",
      "99 4950\n",
      "100 5050\n"
     ]
    }
   ],
   "source": [
    "n = 100 \n",
    "summe = 0\n",
    "aktueller_Wert = 1\n",
    "while aktueller_Wert <= n:\n",
    "    summe = suaktueller_Wert = aktueller_Wert + 1\n",
    "    mme + aktueller_Wert\n",
    "    print(aktueller_Wert, summe)\n",
    "    \n",
    "    "
   ]
  },
  {
   "cell_type": "markdown",
   "id": "427f1c36-3425-42ad-ae6a-a00e724bf44d",
   "metadata": {},
   "source": [
    "So und jetzt das Ganze als funktionale Variante:"
   ]
  },
  {
   "cell_type": "code",
   "execution_count": 24,
   "id": "afb00b5e-8288-4f71-b90a-fea522d048bc",
   "metadata": {},
   "outputs": [
    {
     "name": "stdout",
     "output_type": "stream",
     "text": [
      "5050\n"
     ]
    }
   ],
   "source": [
    "def gaussche_summe_funktional(n):\n",
    "    if n == 1:\n",
    "        return 1\n",
    "    else: \n",
    "        return n+gaussche_summe_funktional(n-1)\n",
    "summe = gaussche_summe_funktional(100)\n",
    "print(summe)"
   ]
  },
  {
   "cell_type": "markdown",
   "id": "eb277a0e-0f9e-4aca-a796-e51b6aa6d526",
   "metadata": {},
   "source": [
    "Dahinter versteckt sich ein 100facher verschachtelter Aufruf der Funktion"
   ]
  }
 ],
 "metadata": {
  "kernelspec": {
   "display_name": "Python 3 (ipykernel)",
   "language": "python",
   "name": "python3"
  },
  "language_info": {
   "codemirror_mode": {
    "name": "ipython",
    "version": 3
   },
   "file_extension": ".py",
   "mimetype": "text/x-python",
   "name": "python",
   "nbconvert_exporter": "python",
   "pygments_lexer": "ipython3",
   "version": "3.10.9"
  }
 },
 "nbformat": 4,
 "nbformat_minor": 5
}
