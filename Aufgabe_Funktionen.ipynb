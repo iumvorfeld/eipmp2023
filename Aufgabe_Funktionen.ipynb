{
 "cells": [
  {
   "cell_type": "markdown",
   "id": "4a4fd5b7-48f2-4257-8f7b-e2ba084d6ee9",
   "metadata": {},
   "source": [
    "# Fakultät mit Schleife"
   ]
  },
  {
   "cell_type": "code",
   "execution_count": 6,
   "id": "7b5cf8f3-1057-4745-ba2d-5d346de289a4",
   "metadata": {},
   "outputs": [
    {
     "name": "stdin",
     "output_type": "stream",
     "text": [
      "Grenze eingeben:  5\n"
     ]
    },
    {
     "name": "stdout",
     "output_type": "stream",
     "text": [
      "1 1\n",
      "2 2\n",
      "3 6\n",
      "4 24\n",
      "5 120\n"
     ]
    }
   ],
   "source": [
    "n = int(input(\"Grenze eingeben: \"))\n",
    "summe = 1\n",
    "for i in range(1,n+1):\n",
    "    summe = summe * i\n",
    "    print(i, summe)\n"
   ]
  },
  {
   "cell_type": "code",
   "execution_count": null,
   "id": "64744d3b-d674-41b8-b176-086a0072ad54",
   "metadata": {},
   "outputs": [],
   "source": [
    "def fakultaet(n):\n",
    "    if n == 1:\n",
    "        return 1\n",
    "    else: \n",
    "        return n*fakultaet(n-1)\n",
    "summe = fakultaet(0)\n",
    "print(summe)"
   ]
  },
  {
   "cell_type": "code",
   "execution_count": 4,
   "id": "9b94e7a7-83d6-413a-bd0e-2ddd85e16d58",
   "metadata": {},
   "outputs": [
    {
     "name": "stdout",
     "output_type": "stream",
     "text": [
      "M\n",
      "a\n",
      "r\n",
      "t\n",
      "i\n",
      "n\n",
      "nitraM\n"
     ]
    }
   ],
   "source": [
    "name = \"Martin\"\n",
    "rueck = \"\"\n",
    "for i in range(0, len(name)):\n",
    "    print(name[i])\n",
    "    rueck = name[i]+rueck\n",
    "print(rueck)"
   ]
  },
  {
   "cell_type": "code",
   "execution_count": 12,
   "id": "77b7b20a-abd6-4fb1-ab0a-fc0e2f922e5c",
   "metadata": {},
   "outputs": [
    {
     "name": "stdout",
     "output_type": "stream",
     "text": [
      "n\n",
      "i\n",
      "t\n",
      "r\n",
      "a\n",
      "M\n"
     ]
    }
   ],
   "source": [
    "letztes_zeichen = len(name)\n",
    "start = 0\n",
    "while start < letztes_zeichen:\n",
    "    print(name[letztes_zeichen-1])\n",
    "    letztes_zeichen = letztes_zeichen -1 "
   ]
  },
  {
   "cell_type": "code",
   "execution_count": 23,
   "id": "7db09999-a167-4ad2-a42f-854c4d2aa0af",
   "metadata": {},
   "outputs": [
    {
     "name": "stdout",
     "output_type": "stream",
     "text": [
      "0\n",
      "xaM\n"
     ]
    }
   ],
   "source": [
    "Liste = [\"M\",\"a\",\"x\"]\n",
    "leer = []\n",
    "print(len(leer))\n",
    "\n",
    "def rueckwaerts(Liste):\n",
    "    if len(Liste)>0:\n",
    "        #letztes_zeichen = Liste.pop()\n",
    "        letztes_zeichen = Liste[len(Liste)-1]\n",
    "        del Liste[len(Liste)-1]\n",
    "        return letztes_zeichen + rueckwaerts(Liste)\n",
    "    else:\n",
    "        return \"\"\n",
    "print(rueckwaerts(Liste))\n"
   ]
  },
  {
   "cell_type": "code",
   "execution_count": null,
   "id": "8d738e3c-d0c7-422b-8df0-45bd2bc94500",
   "metadata": {},
   "outputs": [],
   "source": []
  },
  {
   "cell_type": "code",
   "execution_count": null,
   "id": "6f93ea5f-9a22-4e29-9d37-23c6c6b887a3",
   "metadata": {},
   "outputs": [],
   "source": []
  }
 ],
 "metadata": {
  "kernelspec": {
   "display_name": "Python 3 (ipykernel)",
   "language": "python",
   "name": "python3"
  },
  "language_info": {
   "codemirror_mode": {
    "name": "ipython",
    "version": 3
   },
   "file_extension": ".py",
   "mimetype": "text/x-python",
   "name": "python",
   "nbconvert_exporter": "python",
   "pygments_lexer": "ipython3",
   "version": "3.10.9"
  }
 },
 "nbformat": 4,
 "nbformat_minor": 5
}
