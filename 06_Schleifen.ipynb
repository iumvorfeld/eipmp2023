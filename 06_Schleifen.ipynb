{
 "cells": [
  {
   "cell_type": "markdown",
   "id": "f5474b4e",
   "metadata": {},
   "source": [
    "# While - Schleife"
   ]
  },
  {
   "cell_type": "markdown",
   "id": "c6182bfd",
   "metadata": {},
   "source": [
    "Ok legen wir mit einem einfachen Beispiel los: Rückwärts zählen"
   ]
  },
  {
   "cell_type": "code",
   "execution_count": 1,
   "id": "6bb3d808",
   "metadata": {},
   "outputs": [
    {
     "name": "stdout",
     "output_type": "stream",
     "text": [
      "9\n",
      "8\n",
      "7\n",
      "6\n",
      "5\n",
      "4\n",
      "3\n",
      "2\n",
      "1\n",
      "0\n",
      "10\n",
      "9\n",
      "8\n",
      "7\n",
      "6\n",
      "5\n",
      "4\n",
      "3\n",
      "2\n",
      "1\n"
     ]
    }
   ],
   "source": [
    "a = 10\n",
    "#Eine Ausführung\n",
    "while a > 0:\n",
    "    a-= 1\n",
    "    print(a)\n",
    "#Die zweite Ausführung.\n",
    "a= 10 \n",
    "while a > 0:\n",
    "    print(a)\n",
    "    a-=1\n",
    "#Was ist der Unterschied?\n",
    "    "
   ]
  },
  {
   "cell_type": "markdown",
   "id": "e0e465b3",
   "metadata": {},
   "source": [
    "Im Skript stand etwas von else-Statement. Das bauen wir noch einmal ein. Dazu noch die Info: Die \"ConditioN\" muss nicht unbedingt eine Zahl sein..."
   ]
  },
  {
   "cell_type": "code",
   "execution_count": 4,
   "id": "c79aee20",
   "metadata": {},
   "outputs": [
    {
     "name": "stdout",
     "output_type": "stream",
     "text": [
      "Hallo \n",
      "Hallo Du\n",
      "Hallo DuDu\n",
      "Hallo DuDuDu\n",
      "Hallo DuDuDuDu\n",
      "Hallo DuDuDuDuDu\n",
      "Hallo DuDuDuDuDuDu\n",
      "Hallo Sie\n"
     ]
    }
   ],
   "source": [
    "s = \"Hallo \"\n",
    "while len(s)<20:\n",
    "    print(s)\n",
    "    s = s + \"Du\"\n",
    "else:\n",
    "    print(\"Hallo Sie\")"
   ]
  },
  {
   "cell_type": "markdown",
   "id": "3a0d8233",
   "metadata": {},
   "source": [
    "Fragen zur while-Schleife?"
   ]
  },
  {
   "cell_type": "markdown",
   "id": "dc3ad3c3",
   "metadata": {},
   "source": [
    "# For Schleife"
   ]
  },
  {
   "cell_type": "markdown",
   "id": "f451db5b",
   "metadata": {},
   "source": [
    "Analog wie bei einer while-Schleife kann man auch bei einer for-Schleife Zahlen auszugeben, Dazu benutzt man range(...). Um es vorweg zu nehmen: range(...) ist eine Funktion. Wie man mit Funktionen arbeitet bzw. diese definiert, behandeln wir später detailierter.\n",
    "Oft sieht man range(10) oder range(0,10). Die Funktion kann wie folgt angesprochen werden: range(start, stop, step), wobei start und step optional sind. start ist dann = 0, step = 1. Beispiele:"
   ]
  },
  {
   "cell_type": "code",
   "execution_count": 7,
   "id": "d0b906cf",
   "metadata": {},
   "outputs": [
    {
     "name": "stdout",
     "output_type": "stream",
     "text": [
      "0\n",
      "1\n",
      "2\n",
      "3\n",
      "4\n",
      "5\n",
      "6\n",
      "7\n",
      "8\n",
      "9\n"
     ]
    }
   ],
   "source": [
    "for i in range(10):\n",
    "    print(i)"
   ]
  },
  {
   "cell_type": "code",
   "execution_count": 9,
   "id": "de9a5a15",
   "metadata": {},
   "outputs": [
    {
     "name": "stdout",
     "output_type": "stream",
     "text": [
      "0\n",
      "1\n",
      "2\n",
      "3\n",
      "4\n",
      "5\n",
      "6\n",
      "7\n",
      "8\n",
      "9\n"
     ]
    }
   ],
   "source": [
    "for i in range(0,10):\n",
    "    print(i)"
   ]
  },
  {
   "cell_type": "code",
   "execution_count": 11,
   "id": "63b3f78f",
   "metadata": {},
   "outputs": [
    {
     "name": "stdout",
     "output_type": "stream",
     "text": [
      "0\n",
      "2\n",
      "4\n",
      "6\n",
      "8\n"
     ]
    }
   ],
   "source": [
    "for i in range(0,10,2):\n",
    "    print(i)"
   ]
  },
  {
   "cell_type": "code",
   "execution_count": 1,
   "id": "92ab95d5",
   "metadata": {},
   "outputs": [
    {
     "ename": "TypeError",
     "evalue": "range() takes no keyword arguments",
     "output_type": "error",
     "traceback": [
      "\u001b[1;31m---------------------------------------------------------------------------\u001b[0m",
      "\u001b[1;31mTypeError\u001b[0m                                 Traceback (most recent call last)",
      "Cell \u001b[1;32mIn[1], line 2\u001b[0m\n\u001b[0;32m      1\u001b[0m \u001b[38;5;66;03m#was so nicht funktioniert ist start weglassen, step aber nicht...\u001b[39;00m\n\u001b[1;32m----> 2\u001b[0m \u001b[38;5;28;01mfor\u001b[39;00m i \u001b[38;5;129;01min\u001b[39;00m \u001b[38;5;28;43mrange\u001b[39;49m\u001b[43m(\u001b[49m\u001b[38;5;241;43m10\u001b[39;49m\u001b[43m,\u001b[49m\u001b[43mstep\u001b[49m\u001b[38;5;241;43m=\u001b[39;49m\u001b[38;5;241;43m2\u001b[39;49m\u001b[43m)\u001b[49m:\n\u001b[0;32m      3\u001b[0m     \u001b[38;5;28mprint\u001b[39m(i)\n",
      "\u001b[1;31mTypeError\u001b[0m: range() takes no keyword arguments"
     ]
    }
   ],
   "source": [
    "#was so nicht funktioniert ist start weglassen, step aber nicht...\n",
    "for i in range(10):\n",
    "    print(i)"
   ]
  },
  {
   "cell_type": "markdown",
   "id": "e2209183",
   "metadata": {},
   "source": [
    "#Zählen wir jetzt noch rückwärts:\n",
    "for i in range(9,0,-1):\n",
    "    print(i)"
   ]
  },
  {
   "cell_type": "markdown",
   "id": "67640e9b",
   "metadata": {},
   "source": [
    "For-Schleife mit einem Iterator, wie im Script gezeigt. Beachte: Hier ein Tupel als Eingabe:"
   ]
  },
  {
   "cell_type": "code",
   "execution_count": 4,
   "id": "518bd975",
   "metadata": {},
   "outputs": [
    {
     "name": "stdout",
     "output_type": "stream",
     "text": [
      "<tuple_iterator object at 0x000001AA9175AA08> <class 'tuple_iterator'>\n",
      "1 <class 'int'>\n",
      "2 <class 'int'>\n",
      "3 <class 'int'>\n",
      "5 <class 'int'>\n"
     ]
    }
   ],
   "source": [
    "t = (1,2,3,5)\n",
    "it = iter(t)\n",
    "print(it, type(it))\n",
    "for i in it:\n",
    "    print(i, type(i))"
   ]
  },
  {
   "cell_type": "markdown",
   "id": "d2763d49",
   "metadata": {},
   "source": [
    "Die Syntax mit dem Iterator sieht man aber eher selten. Häufig ist der direkte Aufruf der for-Schleife:"
   ]
  },
  {
   "cell_type": "code",
   "execution_count": 5,
   "id": "7775966d",
   "metadata": {},
   "outputs": [
    {
     "name": "stdout",
     "output_type": "stream",
     "text": [
      "1\n",
      "2\n",
      "3\n",
      "4\n",
      "5\n"
     ]
    }
   ],
   "source": [
    "liste = [1,2,3,4,5]\n",
    "for l in liste:\n",
    "    print(l)"
   ]
  },
  {
   "cell_type": "markdown",
   "id": "4b40235c",
   "metadata": {},
   "source": [
    "Man kann sich natürlich auch die Schleife wieder mit anderen mitteln bauen:"
   ]
  },
  {
   "cell_type": "code",
   "execution_count": 6,
   "id": "7317d350",
   "metadata": {},
   "outputs": [
    {
     "name": "stdout",
     "output_type": "stream",
     "text": [
      "1\n",
      "2\n",
      "3\n",
      "4\n",
      "5\n"
     ]
    }
   ],
   "source": [
    "liste = [1,2,3,4,5]\n",
    "lang = len(liste)\n",
    "for i in range(0,lang):\n",
    "    print(liste[i])"
   ]
  },
  {
   "cell_type": "code",
   "execution_count": null,
   "id": "c7a74dab",
   "metadata": {},
   "outputs": [],
   "source": [
    "Gehen wir nun auf das \"break\"-Statement ein, um eine Schleife zu verlassen..."
   ]
  },
  {
   "cell_type": "code",
   "execution_count": 9,
   "id": "08bb1307",
   "metadata": {},
   "outputs": [
    {
     "name": "stdout",
     "output_type": "stream",
     "text": [
      "A\n",
      "B\n",
      "C\n",
      "D\n",
      "E ist dabei\n"
     ]
    }
   ],
   "source": [
    "#Der praktische Sinn des Beispiels sei einmal dahingestellt\n",
    "liste = [\"A\", \"B\", \"C\", \"D\", \"E\", \"F\", \"G\"]\n",
    "for l in liste:\n",
    "    \n",
    "    if l==\"E\":\n",
    "        print(\"E ist dabei\")\n",
    "        break;\n",
    "    print(l)"
   ]
  },
  {
   "cell_type": "markdown",
   "id": "35e3a4f7",
   "metadata": {},
   "source": [
    "Und einmal das gleiche Statement mit \"continue\" statt \"break\":"
   ]
  },
  {
   "cell_type": "code",
   "execution_count": 10,
   "id": "dfab4fb6",
   "metadata": {},
   "outputs": [
    {
     "name": "stdout",
     "output_type": "stream",
     "text": [
      "A\n",
      "B\n",
      "C\n",
      "D\n",
      "E ist dabei\n",
      "F\n",
      "G\n"
     ]
    }
   ],
   "source": [
    "#Der praktische Sinn des Beispiels sei einmal dahingestellt\n",
    "liste = [\"A\", \"B\", \"C\", \"D\", \"E\", \"F\", \"G\"]\n",
    "for l in liste:\n",
    "    \n",
    "    if l==\"E\":\n",
    "        print(\"E ist dabei\")\n",
    "        continue;\n",
    "    print(l)"
   ]
  },
  {
   "cell_type": "markdown",
   "id": "f24535b0",
   "metadata": {},
   "source": [
    "Wie man sieht, wird hier nur der restliche Schleifenblock bei \"E\" übersprungen. Ansonsten läuft dei Schleife weiter..."
   ]
  },
  {
   "cell_type": "code",
   "execution_count": 4,
   "id": "ddfb04e4",
   "metadata": {},
   "outputs": [
    {
     "name": "stdout",
     "output_type": "stream",
     "text": [
      "i ist kleiner 10\n"
     ]
    }
   ],
   "source": [
    "i = 9\n",
    "if i < 10:\n",
    "    print(\"i ist kleiner 10\")\n",
    "else:\n",
    "    pass"
   ]
  },
  {
   "cell_type": "code",
   "execution_count": null,
   "id": "56a99f26-8d25-400a-9b58-3354e05afc3c",
   "metadata": {},
   "outputs": [],
   "source": []
  }
 ],
 "metadata": {
  "kernelspec": {
   "display_name": "Python 3 (ipykernel)",
   "language": "python",
   "name": "python3"
  },
  "language_info": {
   "codemirror_mode": {
    "name": "ipython",
    "version": 3
   },
   "file_extension": ".py",
   "mimetype": "text/x-python",
   "name": "python",
   "nbconvert_exporter": "python",
   "pygments_lexer": "ipython3",
   "version": "3.10.9"
  }
 },
 "nbformat": 4,
 "nbformat_minor": 5
}
