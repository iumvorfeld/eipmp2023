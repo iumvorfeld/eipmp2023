{
 "cells": [
  {
   "cell_type": "markdown",
   "id": "88160fe2-83a0-4b51-ab41-8f065e661523",
   "metadata": {},
   "source": [
    "# Exceptions"
   ]
  },
  {
   "cell_type": "code",
   "execution_count": null,
   "id": "4e8044f3-9a71-4a0f-ab76-21c75534a7a3",
   "metadata": {},
   "outputs": [],
   "source": [
    "Ich hätte erwartet, dass math.floor einen ValueError wirft. Es ist aber ein TypeError"
   ]
  },
  {
   "cell_type": "code",
   "execution_count": 7,
   "id": "05302475-7539-4ce8-bf9f-26b37c4f7a7a",
   "metadata": {},
   "outputs": [
    {
     "ename": "TypeError",
     "evalue": "must be real number, not str",
     "output_type": "error",
     "traceback": [
      "\u001b[1;31m---------------------------------------------------------------------------\u001b[0m",
      "\u001b[1;31mTypeError\u001b[0m                                 Traceback (most recent call last)",
      "Cell \u001b[1;32mIn[7], line 3\u001b[0m\n\u001b[0;32m      1\u001b[0m \u001b[38;5;28;01mimport\u001b[39;00m \u001b[38;5;21;01mmath\u001b[39;00m\n\u001b[0;32m      2\u001b[0m \u001b[38;5;66;03m#help(math.floor)\u001b[39;00m\n\u001b[1;32m----> 3\u001b[0m \u001b[43mmath\u001b[49m\u001b[38;5;241;43m.\u001b[39;49m\u001b[43mfloor\u001b[49m\u001b[43m(\u001b[49m\u001b[38;5;124;43m\"\u001b[39;49m\u001b[38;5;124;43mb\u001b[39;49m\u001b[38;5;124;43m\"\u001b[39;49m\u001b[43m)\u001b[49m\n\u001b[0;32m      4\u001b[0m \u001b[38;5;28mprint\u001b[39m(\u001b[38;5;124m\"\u001b[39m\u001b[38;5;124mtest\u001b[39m\u001b[38;5;124m\"\u001b[39m)\n",
      "\u001b[1;31mTypeError\u001b[0m: must be real number, not str"
     ]
    }
   ],
   "source": [
    "import math\n",
    "#help(math.floor)\n",
    "math.floor(\"b\")\n",
    "print(\"test\")"
   ]
  },
  {
   "cell_type": "code",
   "execution_count": 6,
   "id": "890274f9-285a-497b-9df9-2a1afa22aab6",
   "metadata": {},
   "outputs": [
    {
     "name": "stdout",
     "output_type": "stream",
     "text": [
      "Falschen Datentyp erwischt\n",
      "test\n"
     ]
    }
   ],
   "source": [
    "try:\n",
    "    math.floor(\"b\")\n",
    "#Semigut: Exception ohne Typ abfangen\n",
    "except:\n",
    "    print(\"Falschen Datentyp erwischt\")\n",
    "print(\"test\")"
   ]
  },
  {
   "cell_type": "code",
   "execution_count": null,
   "id": "8cfeb67b-898b-4284-8b89-478ca0bded5d",
   "metadata": {},
   "outputs": [],
   "source": [
    "Erinnert ihr euch noch daran, dass index(..) einen Fehler geworfen hat? Das kann man jetzt umgehen:"
   ]
  },
  {
   "cell_type": "code",
   "execution_count": 12,
   "id": "f25800a6-861a-4e88-8c7d-1131aec9ae3d",
   "metadata": {},
   "outputs": [
    {
     "name": "stdout",
     "output_type": "stream",
     "text": [
      "Wert nicht vorhanden\n"
     ]
    }
   ],
   "source": [
    "Tupel = (1,2,3)\n",
    "try:\n",
    "    print(Tupel.index(\"B\"))\n",
    "    print(math.floor(\"b\"))\n",
    "except ValueError:\n",
    "    print(\"Wert nicht vorhanden\")\n",
    "except TypeError:\n",
    "    print(\"Falscher Typ eingegeben\")"
   ]
  },
  {
   "cell_type": "code",
   "execution_count": null,
   "id": "876ab756-d4b6-493c-a198-76904048cc3d",
   "metadata": {},
   "outputs": [],
   "source": [
    "Selbst Exceptions generieren:"
   ]
  },
  {
   "cell_type": "code",
   "execution_count": 14,
   "id": "a016aae3-8a65-4564-b952-a28b56d8ba7c",
   "metadata": {},
   "outputs": [
    {
     "name": "stdout",
     "output_type": "stream",
     "text": [
      "Fehler\n"
     ]
    }
   ],
   "source": [
    "def fakultaet_berechnen(x):\n",
    "    if x > 0:\n",
    "        pass # Code hatten wir schon. Kann man hier einfügen\n",
    "    else:\n",
    "        raise ValueError(\"Fakultät nur für positive Werte definiert\")\n",
    "try:\n",
    "    fakultaet_berechnen(0)\n",
    "except ValueError:\n",
    "    print(\"Fehler\")"
   ]
  },
  {
   "cell_type": "markdown",
   "id": "489b2bff-7730-44af-83c9-5c7e80675243",
   "metadata": {},
   "source": [
    "# Logging"
   ]
  },
  {
   "cell_type": "code",
   "execution_count": 2,
   "id": "fd150fc7-1b8c-455c-b0ca-3a292fe137ff",
   "metadata": {},
   "outputs": [],
   "source": [
    "import logging\n",
    "logging.basicConfig(filename = \"log.txt\", filemode = \"a\", level=logging.DEBUG)\n",
    "logging.debug(\"Debug\")\n",
    "logging.info(\"Info\")\n",
    "logging.warning(\"Warning\")\n",
    "logging.error(\"Error\")\n",
    "logging.critical(\"Critital\")\n",
    "#Beenden für Dateifreigabe\n",
    "logging.shutdown()"
   ]
  },
  {
   "cell_type": "code",
   "execution_count": 1,
   "id": "8a287a94-be34-4571-a2cd-1fdab70d83e2",
   "metadata": {},
   "outputs": [
    {
     "name": "stdin",
     "output_type": "stream",
     "text": [
      " 4\n"
     ]
    }
   ],
   "source": [
    "import logging\n",
    "import time\n",
    "logging.basicConfig(filename = \"log2.txt\", filemode = \"w\", level=logging.CRITICAL)\n",
    "logging.info(\"Programm gestartet\")\n",
    "def quadrat(x):\n",
    "    logging.debug(\"Funktion wurde aufgerufen\")\n",
    "    return x*x\n",
    "zahl = int(input())\n",
    "if zahl>5:\n",
    "    logging.debug(\"Erste If-Abfrage aufgerufen\")\n",
    "    print(quadrat(zahl))\n",
    "else:\n",
    "    logging.critical(\"Kritischer Fehler hier wollte ich nicht hin\")\n",
    "logging.info(\"Programm beendet\")\n",
    "logging.shutdown()"
   ]
  },
  {
   "cell_type": "markdown",
   "id": "6a41ec99-71a1-44cf-b22d-d9b99aea7d6e",
   "metadata": {},
   "source": [
    "#### "
   ]
  }
 ],
 "metadata": {
  "kernelspec": {
   "display_name": "Python 3 (ipykernel)",
   "language": "python",
   "name": "python3"
  },
  "language_info": {
   "codemirror_mode": {
    "name": "ipython",
    "version": 3
   },
   "file_extension": ".py",
   "mimetype": "text/x-python",
   "name": "python",
   "nbconvert_exporter": "python",
   "pygments_lexer": "ipython3",
   "version": "3.10.9"
  }
 },
 "nbformat": 4,
 "nbformat_minor": 5
}
