{
 "cells": [
  {
   "cell_type": "markdown",
   "id": "a51ea622",
   "metadata": {},
   "source": [
    "# Let's go"
   ]
  },
  {
   "cell_type": "markdown",
   "id": "eb5c358f",
   "metadata": {},
   "source": [
    "Wir hatten schon in den vorherigen Beispielen gesehen, dass ein einfaches gleich die Wertzuweisung meint:"
   ]
  },
  {
   "cell_type": "code",
   "execution_count": null,
   "id": "9014295c",
   "metadata": {},
   "outputs": [],
   "source": [
    "a = 5"
   ]
  },
  {
   "cell_type": "markdown",
   "id": "87baf024",
   "metadata": {},
   "source": [
    "Das einfache gleich kann man zwar als Gleichung betrachten, weist aber a den Wert 5 zu. Man kann das Gleich auch etwas vielseitiger nutzen:"
   ]
  },
  {
   "cell_type": "code",
   "execution_count": 2,
   "id": "dc1be4b9",
   "metadata": {},
   "outputs": [
    {
     "name": "stdout",
     "output_type": "stream",
     "text": [
      "5 5 5 5\n",
      "2 3\n"
     ]
    }
   ],
   "source": [
    "a = b = c = d = 5\n",
    "print(a,b,c,d)\n",
    "a, b = 2, 3\n",
    "print(a,b)\n",
    "a = 2\n",
    "b = 3 "
   ]
  },
  {
   "cell_type": "markdown",
   "id": "73592d8d",
   "metadata": {},
   "source": [
    "Wirklich vergleichen - also ob a und b den gleichen Wert enthalten - erfolt mit einem doppelten gleich. Das Ergebnis dabei ist vom Typ Bool:"
   ]
  },
  {
   "cell_type": "code",
   "execution_count": 3,
   "id": "95c40d8d",
   "metadata": {},
   "outputs": [
    {
     "name": "stdout",
     "output_type": "stream",
     "text": [
      "True\n",
      "False\n"
     ]
    }
   ],
   "source": [
    "a = 5 \n",
    "b = 5\n",
    "print(a == b)\n",
    "c = 4\n",
    "print(a == c)"
   ]
  },
  {
   "cell_type": "markdown",
   "id": "0e777588",
   "metadata": {},
   "source": [
    "Ebenso kann man natürlich prüfen, ob eine Variable größer / kleiner  (-gleich) oder ungleich der anderen ist:"
   ]
  },
  {
   "cell_type": "code",
   "execution_count": null,
   "id": "8d0241c0",
   "metadata": {},
   "outputs": [
    {
     "name": "stdout",
     "output_type": "stream",
     "text": [
      "True False True True True False\n"
     ]
    }
   ],
   "source": [
    "a = 3\n",
    "b = 2\n",
    "c = 3\n",
    "print(a>b, a<b, a>=c, a<=c, a!=b, a!=c)"
   ]
  },
  {
   "cell_type": "markdown",
   "id": "11eb1112",
   "metadata": {},
   "source": [
    "Widmen wir uns nun wieder mehr mehr mathematisch aussehenden Operatoren:"
   ]
  },
  {
   "cell_type": "code",
   "execution_count": 5,
   "id": "bdda7053",
   "metadata": {},
   "outputs": [
    {
     "name": "stdout",
     "output_type": "stream",
     "text": [
      "6 8 0.6666666666666666 0 4 0\n"
     ]
    }
   ],
   "source": [
    "print(2*3, 2**3, 2/3, 2//3, 2+2, 2-2)"
   ]
  },
  {
   "cell_type": "markdown",
   "id": "e9bee04a",
   "metadata": {},
   "source": [
    "Spannender bzw. gut zu überlegen ist, wenn komplexe Formen mit Operatoren aufgebaut werden:"
   ]
  },
  {
   "cell_type": "code",
   "execution_count": 6,
   "id": "b2b112cc",
   "metadata": {},
   "outputs": [
    {
     "name": "stdout",
     "output_type": "stream",
     "text": [
      "0 54\n"
     ]
    }
   ],
   "source": [
    "a = 2**3-2*4\n",
    "b = 2*3**(2+1)\n",
    "print(a, b)"
   ]
  },
  {
   "cell_type": "markdown",
   "id": "9b835945",
   "metadata": {},
   "source": [
    "Hausaufgabe: Verinnerlichen!\n",
    "\n",
    "Nächster Punkt im Programm: Modulo. Bekannt?"
   ]
  },
  {
   "cell_type": "code",
   "execution_count": 2,
   "id": "a8fa39f5",
   "metadata": {},
   "outputs": [
    {
     "name": "stdout",
     "output_type": "stream",
     "text": [
      "1\n",
      "4\n"
     ]
    }
   ],
   "source": [
    "print(9//5)\n",
    "print(9%5)"
   ]
  },
  {
   "cell_type": "markdown",
   "id": "204c6a2f",
   "metadata": {},
   "source": [
    "Einige weitere Operatoren beziehen sich auf die Binärdarstellung von Zahlen. \n",
    "\n",
    "Binärsystem bekannt? Ja ? Nein ? Vielleicht? \n",
    "\n",
    "Mit >> und << werden Binärzahlen ge-shift-et. Beispiel: 8 >> 1 ergibt 4, denn \n",
    "1000 eine Stelle nach rechts verschoben ergibt 0100. Genauso ergibt 2 << 2 gleich 8..."
   ]
  },
  {
   "cell_type": "code",
   "execution_count": 10,
   "id": "4e7d9109",
   "metadata": {},
   "outputs": [
    {
     "name": "stdout",
     "output_type": "stream",
     "text": [
      "4\n",
      "8\n"
     ]
    }
   ],
   "source": [
    "print(8>>1)\n",
    "print(2<<2)"
   ]
  },
  {
   "cell_type": "code",
   "execution_count": null,
   "id": "4d49736e-c307-4257-b786-d6c19251d2b5",
   "metadata": {},
   "outputs": [],
   "source": [
    "8 ist binär  1 0 0 0 --> eine Stelle nach rechts 0 1 0 0 \n",
    "2 ist binär 0 0 1 0 --> zwei stellen nach links 1 0 0 0 "
   ]
  },
  {
   "cell_type": "markdown",
   "id": "466cdc36",
   "metadata": {},
   "source": [
    "Kurzer Exkurs: Wer Probleme mit der Findung von Binärzahlen hat, kann Zahlen auch umwandeln:"
   ]
  },
  {
   "cell_type": "code",
   "execution_count": 3,
   "id": "9c9b871b",
   "metadata": {},
   "outputs": [
    {
     "name": "stdout",
     "output_type": "stream",
     "text": [
      "101 <class 'str'>\n",
      "0b101 <class 'str'>\n"
     ]
    }
   ],
   "source": [
    "a = 5 \n",
    "bin_a = format(a, 'b')\n",
    "print(bin_a, type(bin_a))\n",
    "#ebenso in etwas anderer Darstellung:\n",
    "print(bin(a), type(bin(a)))"
   ]
  },
  {
   "cell_type": "markdown",
   "id": "c5844448",
   "metadata": {},
   "source": [
    "Ebenso kann man auch binäre Rechenoperationen wie AND, OR, XOR durchführen:"
   ]
  },
  {
   "cell_type": "code",
   "execution_count": 15,
   "id": "8ec78d14",
   "metadata": {},
   "outputs": [
    {
     "name": "stdout",
     "output_type": "stream",
     "text": [
      "2\n",
      "1\n",
      "3\n"
     ]
    }
   ],
   "source": [
    "print(2&3)\n",
    "print(2^3)\n",
    "print(2|3)"
   ]
  },
  {
   "cell_type": "markdown",
   "id": "45c2bae5-9606-4130-aaa5-4cd8535d4b4c",
   "metadata": {},
   "source": [
    "& -> BITWISE (binär) AND \n",
    "2 (Dezimalsystem) >  10 (binär)\n",
    "3 (Dezimalsystem) > 11 (binär)\n",
    "Bitwise AND \n",
    "    10\n",
    "AND 11 \n",
    "    10\n",
    "    \n",
    "Bitwise XOR \n",
    "    10\n",
    "AND 11 \n",
    "    01   \n",
    "    "
   ]
  },
  {
   "cell_type": "markdown",
   "id": "28abb855",
   "metadata": {},
   "source": [
    "Klar? :)"
   ]
  },
  {
   "cell_type": "code",
   "execution_count": 4,
   "id": "c3be0172-a94f-4e15-a7f2-2e1f92018e34",
   "metadata": {},
   "outputs": [
    {
     "name": "stdout",
     "output_type": "stream",
     "text": [
      "3 4\n",
      "4 3\n"
     ]
    }
   ],
   "source": [
    "x = 3\n",
    "y = 4\n",
    "print(x, y)\n",
    "# Python hat Abkürzungen\n",
    "x, y = y, x\n",
    "print(x,y)\n",
    "\n",
    "x = 3\n",
    "y = 4\n",
    "#wir sichern die 3\n",
    "z = x \n",
    "x = y # x = 4 , y = 4\n",
    "y = z\n"
   ]
  },
  {
   "cell_type": "code",
   "execution_count": 5,
   "id": "06565390-6da1-496f-b1a1-b57f1e7bc487",
   "metadata": {},
   "outputs": [
    {
     "ename": "IndentationError",
     "evalue": "expected an indented block after 'if' statement on line 1 (818584670.py, line 2)",
     "output_type": "error",
     "traceback": [
      "\u001b[1;36m  Cell \u001b[1;32mIn[5], line 2\u001b[1;36m\u001b[0m\n\u001b[1;33m    print(\"Jhallo\")\u001b[0m\n\u001b[1;37m    ^\u001b[0m\n\u001b[1;31mIndentationError\u001b[0m\u001b[1;31m:\u001b[0m expected an indented block after 'if' statement on line 1\n"
     ]
    }
   ],
   "source": [
    "if 1<2:\n",
    "print(\"Jhallo\")"
   ]
  },
  {
   "cell_type": "code",
   "execution_count": null,
   "id": "2820fcd0-17f6-458a-b6c8-ac840b37cbd8",
   "metadata": {},
   "outputs": [],
   "source": []
  }
 ],
 "metadata": {
  "kernelspec": {
   "display_name": "Python 3 (ipykernel)",
   "language": "python",
   "name": "python3"
  },
  "language_info": {
   "codemirror_mode": {
    "name": "ipython",
    "version": 3
   },
   "file_extension": ".py",
   "mimetype": "text/x-python",
   "name": "python",
   "nbconvert_exporter": "python",
   "pygments_lexer": "ipython3",
   "version": "3.10.9"
  }
 },
 "nbformat": 4,
 "nbformat_minor": 5
}
