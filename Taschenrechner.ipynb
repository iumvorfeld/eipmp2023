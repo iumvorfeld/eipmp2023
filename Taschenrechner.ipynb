{
 "cells": [
  {
   "cell_type": "code",
   "execution_count": null,
   "id": "65917616-9a75-46af-8f54-7c09782c49ef",
   "metadata": {},
   "outputs": [],
   "source": []
  },
  {
   "cell_type": "code",
   "execution_count": null,
   "id": "175b8a69-f89f-47d4-adbf-082c4a3055c8",
   "metadata": {},
   "outputs": [
    {
     "name": "stdout",
     "output_type": "stream",
     "text": [
      "Bitte eingeben:\n",
      "(a)ddieren\n",
      "(s)ubtrahieren\n",
      "(d)ividieren\n",
      "(m)ultiplizieren\n",
      "(q)uit\n",
      "\n"
     ]
    },
    {
     "name": "stdin",
     "output_type": "stream",
     "text": [
      "Bitte wählen:  d\n",
      "Dividend eingeben:  2\n",
      "Divisor eingeben:  1\n"
     ]
    },
    {
     "name": "stdout",
     "output_type": "stream",
     "text": [
      "2/1 = 2.0\n",
      "Bitte eingeben:\n",
      "(a)ddieren\n",
      "(s)ubtrahieren\n",
      "(d)ividieren\n",
      "(m)ultiplizieren\n",
      "(q)uit\n",
      "\n"
     ]
    },
    {
     "name": "stdin",
     "output_type": "stream",
     "text": [
      "Bitte wählen:  d\n",
      "Dividend eingeben:  1\n",
      "Divisor eingeben:  0\n"
     ]
    },
    {
     "name": "stdout",
     "output_type": "stream",
     "text": [
      "Division durch 0 - böse!!!\n",
      "Bitte eingeben:\n",
      "(a)ddieren\n",
      "(s)ubtrahieren\n",
      "(d)ividieren\n",
      "(m)ultiplizieren\n",
      "(q)uit\n",
      "\n"
     ]
    }
   ],
   "source": [
    "gueltige_Eingabe = (\"a\", \"s\", \"d\", \"m\", \"q\")\n",
    "info = \"\"\"Bitte eingeben:\n",
    "(a)ddieren\n",
    "(s)ubtrahieren\n",
    "(d)ividieren\n",
    "(m)ultiplizieren\n",
    "(q)uit\n",
    "\"\"\"\n",
    "eingabe = \"irgendwas\"\n",
    "#ich prüfe direkt die Eingabe. Vielleicht wäre das indirekt besser\n",
    "while eingabe !=\"q\":\n",
    "    print(info)\n",
    "    eingabe = input(\"Bitte wählen: \")\n",
    "    #Falls jemand Großbuchstaben eingibt, lassen wir das gelten\n",
    "    #Weitere Idee für Prüfung: Nur das erste Zeichen abgleichen?\n",
    "    eingabe = eingabe.lower()\n",
    "    if eingabe not in gueltige_Eingabe:\n",
    "        print(\"Eingabe nicht verstanden\")\n",
    "        continue\n",
    "    if eingabe == \"a\":\n",
    "        pass\n",
    "    elif eingabe == \"s\":\n",
    "        pass\n",
    "    elif eingabe == \"d\":\n",
    "        dividend = int(input(\"Dividend eingeben: \"))\n",
    "        divisor = int(input(\"Divisor eingeben: \"))\n",
    "        if divisor == 0:\n",
    "            print(\"Division durch 0 - böse!!!\")\n",
    "            continue\n",
    "        else:\n",
    "            ergebnis = dividend / divisor\n",
    "            print(f\"{dividend}/{divisor} = {ergebnis}\")\n",
    "    elif eingabe == \"m\":\n",
    "        pass\n",
    "    else:\n",
    "        print(\"Abbruch angefordert. Programm beendet...\")\n",
    "        \n",
    "        \n",
    "    "
   ]
  },
  {
   "cell_type": "code",
   "execution_count": null,
   "id": "5026f9b5-ec31-45b8-9c98-70390865f148",
   "metadata": {},
   "outputs": [],
   "source": []
  }
 ],
 "metadata": {
  "kernelspec": {
   "display_name": "Python 3 (ipykernel)",
   "language": "python",
   "name": "python3"
  },
  "language_info": {
   "codemirror_mode": {
    "name": "ipython",
    "version": 3
   },
   "file_extension": ".py",
   "mimetype": "text/x-python",
   "name": "python",
   "nbconvert_exporter": "python",
   "pygments_lexer": "ipython3",
   "version": "3.10.9"
  }
 },
 "nbformat": 4,
 "nbformat_minor": 5
}
