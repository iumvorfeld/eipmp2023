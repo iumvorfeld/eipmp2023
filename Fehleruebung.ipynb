{
 "cells": [
  {
   "cell_type": "markdown",
   "id": "14cb25c2-1c39-4369-8cef-970c2080e4aa",
   "metadata": {},
   "source": [
    "Code, der funktioniert"
   ]
  },
  {
   "cell_type": "code",
   "execution_count": 4,
   "id": "c0d0288c-a93f-444c-92e3-cc8e49269ada",
   "metadata": {},
   "outputs": [
    {
     "name": "stdout",
     "output_type": "stream",
     "text": [
      "Geben Sie statt eines Kommas einen Punkt für die Nachkommastellen ein\n"
     ]
    },
    {
     "name": "stdin",
     "output_type": "stream",
     "text": [
      "Bitte geben Sie den Verkaufspreis ein:  5\n",
      "Bitte geben Sie den gegebenen Betrag ein:  6\n"
     ]
    },
    {
     "name": "stdout",
     "output_type": "stream",
     "text": [
      "-1.0\n",
      "Rueckgeld: -1.0\n"
     ]
    }
   ],
   "source": [
    "def rueckgeld_berechnen(preis, gegeben):\n",
    "    differenz = preis - gegeben\n",
    "    if preis < gegeben:\n",
    "        return preis - gegeben\n",
    "    else:\n",
    "        print(\"Fehler, es wurde zu wenig Geld gegeben\")\n",
    "        return -1\n",
    "    \n",
    "info = \"Geben Sie statt eines Kommas einen Punkt für die Nachkommastellen ein\"\n",
    "print(info)\n",
    "preis = float(input(\"Bitte geben Sie den Verkaufspreis ein: \"))\n",
    "gegeben = float(input(\"Bitte geben Sie den gegebenen Betrag ein: \"))\n",
    "rueckgeld = rueckgeld_berechnen(preis, gegeben)\n",
    "print(\"Rueckgeld: \" + str(rueckgeld))\n",
    "        "
   ]
  },
  {
   "cell_type": "code",
   "execution_count": null,
   "id": "599cfd2b-ec48-4107-b8b7-9d8e45fe23d3",
   "metadata": {},
   "outputs": [],
   "source": [
    "define rueckgeld_berechnen(float preis, float gegeben):\n",
    "    differenz = preis - gegeben\n",
    "    if preis > gegeben =\n",
    "        return preis - gegeben\n",
    "    else:\n",
    "        print(\"Fehler, es wurde zu wenig Geld gegeben\")\n",
    "\n",
    "    \n",
    "info = \"\n",
    "Geben Sie statt eines Kommas einen Punkt für die Nachkommastellen ein\"\n",
    "print(info)\n",
    "preis = float(input(\"Bitte geben Sie den Verkaufspreis ein: ))\n",
    "gegeben = input(\"Bitte geben Sie den gegebenen Betrag ein: \")\n",
    "rueckgeld = rueckgeld_berechnen(Preis, gegeben)\n",
    "print(\"Rueckgeld: \" and  str(rueckgeld))"
   ]
  },
  {
   "cell_type": "code",
   "execution_count": null,
   "id": "8b6a447a-4f84-4e31-b686-ce3055364ce6",
   "metadata": {},
   "outputs": [],
   "source": []
  }
 ],
 "metadata": {
  "kernelspec": {
   "display_name": "Python 3 (ipykernel)",
   "language": "python",
   "name": "python3"
  },
  "language_info": {
   "codemirror_mode": {
    "name": "ipython",
    "version": 3
   },
   "file_extension": ".py",
   "mimetype": "text/x-python",
   "name": "python",
   "nbconvert_exporter": "python",
   "pygments_lexer": "ipython3",
   "version": "3.10.9"
  }
 },
 "nbformat": 4,
 "nbformat_minor": 5
}
