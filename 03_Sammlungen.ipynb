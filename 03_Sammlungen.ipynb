{
 "cells": [
  {
   "cell_type": "markdown",
   "id": "97904c2f",
   "metadata": {},
   "source": [
    "# Tupel"
   ]
  },
  {
   "cell_type": "code",
   "execution_count": 1,
   "id": "2fe928f2",
   "metadata": {},
   "outputs": [
    {
     "name": "stdout",
     "output_type": "stream",
     "text": [
      "<class 'tuple'>\n"
     ]
    }
   ],
   "source": [
    "ISO_Einheiten = (\"Sekunde\", \"Meter\", \"Ampere\", \"Candela\", \"MOL\", \"Kilogramm\", \"Kelvin\")\n",
    "print(type(ISO_Einheiten))"
   ]
  },
  {
   "cell_type": "markdown",
   "id": "dc8e397f",
   "metadata": {},
   "source": [
    "Für ein Tupel ist es möglich, einzelne Elemente auszuwählen. Das erste Element hat immer den Index 0"
   ]
  },
  {
   "cell_type": "code",
   "execution_count": 2,
   "id": "d0096f59",
   "metadata": {},
   "outputs": [
    {
     "name": "stdout",
     "output_type": "stream",
     "text": [
      "('Sekunde', 'Meter')\n"
     ]
    }
   ],
   "source": [
    "print(ISO_Einheiten[0:2])"
   ]
  },
  {
   "cell_type": "markdown",
   "id": "2fe2089e",
   "metadata": {},
   "source": [
    "Treiben wir auch hier wieder etwas Schabernack:"
   ]
  },
  {
   "cell_type": "code",
   "execution_count": 3,
   "id": "5856b33a",
   "metadata": {},
   "outputs": [
    {
     "name": "stdout",
     "output_type": "stream",
     "text": [
      "Kilogramm\n"
     ]
    }
   ],
   "source": [
    "print(ISO_Einheiten[-2])"
   ]
  },
  {
   "cell_type": "markdown",
   "id": "557ccdc6",
   "metadata": {},
   "source": [
    "Sortieren funktioniert indirekt dadurch, dass das Tupel in eine Liste konvertiert wird:"
   ]
  },
  {
   "cell_type": "code",
   "execution_count": 4,
   "id": "29b7c89d",
   "metadata": {},
   "outputs": [
    {
     "name": "stdout",
     "output_type": "stream",
     "text": [
      "['Ampere', 'Candela', 'Kelvin', 'Kilogramm', 'MOL', 'Meter', 'Sekunde'] <class 'list'>\n",
      "('Ampere', 'Candela', 'Kelvin', 'Kilogramm', 'MOL', 'Meter', 'Sekunde') <class 'tuple'>\n"
     ]
    }
   ],
   "source": [
    "ISO_sortiert = sorted(ISO_Einheiten)\n",
    "print(ISO_sortiert, type(ISO_sortiert))\n",
    "ISO_sortiert_wieder_Tupel = tuple(ISO_sortiert)\n",
    "print(ISO_sortiert_wieder_Tupel, type(ISO_sortiert_wieder_Tupel))"
   ]
  },
  {
   "cell_type": "markdown",
   "id": "3e2b9453-769e-4464-89b6-1c7951ed1ff2",
   "metadata": {},
   "source": [
    "Doppelte Werte in einem Tupel sind kein Problem:"
   ]
  },
  {
   "cell_type": "code",
   "execution_count": 3,
   "id": "024c8f40",
   "metadata": {},
   "outputs": [
    {
     "name": "stdout",
     "output_type": "stream",
     "text": [
      "('A', 'B', 'A')\n"
     ]
    }
   ],
   "source": [
    "Doppelte_Werte = (\"A\",\"B\",\"A\")\n",
    "print(Doppelte_Werte)"
   ]
  },
  {
   "cell_type": "code",
   "execution_count": null,
   "id": "8b2d76b2",
   "metadata": {},
   "outputs": [],
   "source": [
    "Das geht in keinem Fall, weil nicht veränderbar (immutal):"
   ]
  },
  {
   "cell_type": "code",
   "execution_count": 4,
   "id": "b30ff09f",
   "metadata": {},
   "outputs": [
    {
     "ename": "AttributeError",
     "evalue": "'tuple' object has no attribute 'append'",
     "output_type": "error",
     "traceback": [
      "\u001b[1;31m---------------------------------------------------------------------------\u001b[0m",
      "\u001b[1;31mAttributeError\u001b[0m                            Traceback (most recent call last)",
      "Cell \u001b[1;32mIn[4], line 1\u001b[0m\n\u001b[1;32m----> 1\u001b[0m \u001b[43mDoppelte_Werte\u001b[49m\u001b[38;5;241;43m.\u001b[39;49m\u001b[43mappend\u001b[49m(\u001b[38;5;124m\"\u001b[39m\u001b[38;5;124mD\u001b[39m\u001b[38;5;124m\"\u001b[39m)\n",
      "\u001b[1;31mAttributeError\u001b[0m: 'tuple' object has no attribute 'append'"
     ]
    }
   ],
   "source": [
    "Doppelte_Werte.append(\"D\")"
   ]
  },
  {
   "cell_type": "code",
   "execution_count": null,
   "id": "6278438b",
   "metadata": {},
   "outputs": [],
   "source": [
    "Tupel und andere Sammlungen haben kein Find-Attribut:"
   ]
  },
  {
   "cell_type": "code",
   "execution_count": 5,
   "id": "5aa42c50",
   "metadata": {},
   "outputs": [
    {
     "ename": "AttributeError",
     "evalue": "'tuple' object has no attribute 'find'",
     "output_type": "error",
     "traceback": [
      "\u001b[1;31m---------------------------------------------------------------------------\u001b[0m",
      "\u001b[1;31mAttributeError\u001b[0m                            Traceback (most recent call last)",
      "Cell \u001b[1;32mIn[5], line 1\u001b[0m\n\u001b[1;32m----> 1\u001b[0m \u001b[43mDoppelte_Werte\u001b[49m\u001b[38;5;241;43m.\u001b[39;49m\u001b[43mfind\u001b[49m(\u001b[38;5;124m\"\u001b[39m\u001b[38;5;124mA\u001b[39m\u001b[38;5;124m\"\u001b[39m)\n",
      "\u001b[1;31mAttributeError\u001b[0m: 'tuple' object has no attribute 'find'"
     ]
    }
   ],
   "source": [
    "Doppelte_Werte.find(\"A\")"
   ]
  },
  {
   "cell_type": "code",
   "execution_count": null,
   "id": "1c6217c9",
   "metadata": {},
   "outputs": [],
   "source": [
    "Das hier funktioniert. Wie wir weiter benutzen: Später"
   ]
  },
  {
   "cell_type": "code",
   "execution_count": 6,
   "id": "9dccf967",
   "metadata": {},
   "outputs": [
    {
     "data": {
      "text/plain": [
       "True"
      ]
     },
     "execution_count": 6,
     "metadata": {},
     "output_type": "execute_result"
    }
   ],
   "source": [
    "\"A\" in Doppelte_Werte"
   ]
  },
  {
   "cell_type": "markdown",
   "id": "f5c61344",
   "metadata": {},
   "source": [
    "Ebenfalls kann man den Index abfragen - bekommt aber auch hier eine Fehlermeldung, wenn der Wert nicht Tupel vorhanden ist: "
   ]
  },
  {
   "cell_type": "code",
   "execution_count": 7,
   "id": "aba8442c",
   "metadata": {},
   "outputs": [
    {
     "name": "stdout",
     "output_type": "stream",
     "text": [
      "0\n"
     ]
    },
    {
     "ename": "ValueError",
     "evalue": "tuple.index(x): x not in tuple",
     "output_type": "error",
     "traceback": [
      "\u001b[1;31m---------------------------------------------------------------------------\u001b[0m",
      "\u001b[1;31mValueError\u001b[0m                                Traceback (most recent call last)",
      "Cell \u001b[1;32mIn[7], line 2\u001b[0m\n\u001b[0;32m      1\u001b[0m \u001b[38;5;28mprint\u001b[39m(Doppelte_Werte\u001b[38;5;241m.\u001b[39mindex(\u001b[38;5;124m\"\u001b[39m\u001b[38;5;124mA\u001b[39m\u001b[38;5;124m\"\u001b[39m))\n\u001b[1;32m----> 2\u001b[0m \u001b[38;5;28mprint\u001b[39m(\u001b[43mDoppelte_Werte\u001b[49m\u001b[38;5;241;43m.\u001b[39;49m\u001b[43mindex\u001b[49m\u001b[43m(\u001b[49m\u001b[38;5;124;43m\"\u001b[39;49m\u001b[38;5;124;43ma\u001b[39;49m\u001b[38;5;124;43m\"\u001b[39;49m\u001b[43m)\u001b[49m)\n",
      "\u001b[1;31mValueError\u001b[0m: tuple.index(x): x not in tuple"
     ]
    }
   ],
   "source": [
    "print(Doppelte_Werte.index(\"A\"))\n",
    "print(Doppelte_Werte.index(\"a\"))"
   ]
  },
  {
   "cell_type": "markdown",
   "id": "54b2621b",
   "metadata": {},
   "source": [
    "# Listen"
   ]
  },
  {
   "cell_type": "markdown",
   "id": "313edd9f",
   "metadata": {},
   "source": [
    "Listen waren das mit der eckigen Klammer:"
   ]
  },
  {
   "cell_type": "code",
   "execution_count": 8,
   "id": "a0542546",
   "metadata": {},
   "outputs": [
    {
     "name": "stdout",
     "output_type": "stream",
     "text": [
      "[1, 'String', (1, 2), 1] <class 'list'>\n",
      "(1, 2) <class 'tuple'>\n"
     ]
    }
   ],
   "source": [
    "Liste = [1, \"String\", (1,2), 1]\n",
    "print(Liste, type(Liste))\n",
    "print(Liste[2], type(Liste[2])) "
   ]
  },
  {
   "cell_type": "markdown",
   "id": "3ea4817c",
   "metadata": {},
   "source": [
    "Was haben wir gesehen?\n",
    "* In Listen können Werte mehrfach vorkommen\n",
    "* Es können verschiedene Datentypen vorkommen\n",
    "* Ein Element ist ein Tupel. Es spricht also nichts dagegen z.B. auch Listen von Listen von Listen anzulegen ;)\n"
   ]
  },
  {
   "cell_type": "code",
   "execution_count": null,
   "id": "0f6bf9ab",
   "metadata": {},
   "outputs": [],
   "source": [
    "Listen kann man sortieren:"
   ]
  },
  {
   "cell_type": "code",
   "execution_count": 10,
   "id": "3e02b289",
   "metadata": {},
   "outputs": [
    {
     "name": "stdout",
     "output_type": "stream",
     "text": [
      "[8, 6, 4, 2, 1, 1] <class 'list'>\n"
     ]
    }
   ],
   "source": [
    "L = [1,2,4,6,8,1]\n",
    "L2 = sorted(L, reverse = True)\n",
    "print(L2, type(L2))"
   ]
  },
  {
   "cell_type": "markdown",
   "id": "58bc060c",
   "metadata": {},
   "source": [
    "Listen sind mutable - also veränderbar. So ist es auf verschiedene Art und weisen möglich Elemente zu verändern anzufügen oder zu löschen:"
   ]
  },
  {
   "cell_type": "code",
   "execution_count": 3,
   "id": "bb78a240",
   "metadata": {},
   "outputs": [
    {
     "name": "stdout",
     "output_type": "stream",
     "text": [
      "['A', 'B', 'C']\n",
      "['A', 'B', 'C', 'D']\n",
      "D ['A', 'B', 'C']\n"
     ]
    }
   ],
   "source": [
    "Liste = [\"A\",\"B\",\"C\"]\n",
    "print(Liste)\n",
    "Liste.append(\"D\")\n",
    "print(Liste)\n",
    "Abgeschnittenes_Element = Liste.pop()\n",
    "print(Abgeschnittenes_Element, Liste)"
   ]
  },
  {
   "cell_type": "markdown",
   "id": "f02bda17",
   "metadata": {},
   "source": [
    "pop() löscht also das letzte Element. Man kann auch ein oder mehrere Elemente gezielt löschen:"
   ]
  },
  {
   "cell_type": "code",
   "execution_count": 4,
   "id": "f7389afc",
   "metadata": {},
   "outputs": [
    {
     "name": "stdout",
     "output_type": "stream",
     "text": [
      "['A', 'C', 'D', 'E']\n",
      "['A', 'D', 'E']\n"
     ]
    }
   ],
   "source": [
    "Liste = [\"A\",\"B\",\"C\",\"D\",\"E\"]\n",
    "del Liste[1]\n",
    "print(Liste)\n",
    "Liste = [\"A\",\"B\",\"C\",\"D\",\"E\"]\n",
    "del Liste[1:3]\n",
    "print(Liste)"
   ]
  },
  {
   "cell_type": "markdown",
   "id": "0c2bda16",
   "metadata": {},
   "source": [
    "Einfügen und bearbeiten als Beispiele:"
   ]
  },
  {
   "cell_type": "code",
   "execution_count": 11,
   "id": "cb582ce8",
   "metadata": {},
   "outputs": [
    {
     "name": "stdout",
     "output_type": "stream",
     "text": [
      "['A', 'X', 'Y', 'C', 'D', 'E']\n"
     ]
    }
   ],
   "source": [
    "Liste = [\"A\",\"B\",\"C\",\"D\",\"E\"]\n",
    "Liste.insert(1,\"X\")\n",
    "Liste[2]=\"Y\"\n",
    "print(Liste)"
   ]
  },
  {
   "cell_type": "markdown",
   "id": "579c9158",
   "metadata": {},
   "source": [
    "Löschen noch mit einer Besonderheit - es wird nur das erste Vorkommen gelöscht:"
   ]
  },
  {
   "cell_type": "code",
   "execution_count": 12,
   "id": "496efaa6",
   "metadata": {},
   "outputs": [
    {
     "name": "stdout",
     "output_type": "stream",
     "text": [
      "['A', 'C', 'B', 'E']\n"
     ]
    }
   ],
   "source": [
    "Liste = [\"A\",\"B\",\"C\",\"B\",\"E\"]\n",
    "Liste.remove(\"B\")\n",
    "print(Liste)"
   ]
  },
  {
   "cell_type": "markdown",
   "id": "c3a99154",
   "metadata": {},
   "source": [
    "...mehr coole Listenoperationen: Selbststudium!"
   ]
  },
  {
   "cell_type": "markdown",
   "id": "7fa2d83d",
   "metadata": {},
   "source": [
    "# Sets"
   ]
  },
  {
   "cell_type": "markdown",
   "id": "c46a5413",
   "metadata": {},
   "source": [
    "Sets gehen so: "
   ]
  },
  {
   "cell_type": "code",
   "execution_count": null,
   "id": "4fd9c3a6",
   "metadata": {},
   "outputs": [],
   "source": [
    "EinSet = {1, 2, \"A\"}"
   ]
  },
  {
   "cell_type": "markdown",
   "id": "078207b9",
   "metadata": {},
   "source": [
    "Man kann ein Set auch aus einer Liste heraus generieren lassen oder mit einem leeren Set starten und Daten anfügen:"
   ]
  },
  {
   "cell_type": "code",
   "execution_count": 14,
   "id": "feeed090",
   "metadata": {},
   "outputs": [
    {
     "name": "stdout",
     "output_type": "stream",
     "text": [
      "{1, 2, 3, 4, 5} <class 'set'>\n",
      "{'B', 'A'} <class 'set'>\n"
     ]
    }
   ],
   "source": [
    "NochEinSet = set([1,2,3,4,5])\n",
    "print(NochEinSet, type(NochEinSet))\n",
    "SetAB = set()\n",
    "SetAB.add(\"A\")\n",
    "SetAB.add(\"B\")\n",
    "print(SetAB, type(SetAB))"
   ]
  },
  {
   "cell_type": "markdown",
   "id": "a18ecdce",
   "metadata": {},
   "source": [
    "Sets sind also mutable - veränderbar. Folgende Dinge gehen nicht:\n",
    "* Doppelte Elemente (werden ignoriert)\n",
    "* Listen als Argumente - denn: Sets bilden im Hintergrund einen Hashwert was dann nicht funktioniert"
   ]
  },
  {
   "cell_type": "code",
   "execution_count": 16,
   "id": "15703b9c",
   "metadata": {},
   "outputs": [
    {
     "name": "stdout",
     "output_type": "stream",
     "text": [
      "{'B', 'A'}\n",
      "{'B', 'A'}\n",
      "True\n"
     ]
    }
   ],
   "source": [
    "Set_Doppel_A = {\"A\",\"B\",\"A\"}\n",
    "print(Set_Doppel_A)\n",
    "Set_Doppel_A.add(\"A\")\n",
    "print(Set_Doppel_A)\n",
    "print(\"A\" in Set_Doppel_A)\n",
    "# print(Set_Doppel_A[0])\n",
    "Set_Fehler_1 = {1,2,(1,3)}"
   ]
  },
  {
   "cell_type": "markdown",
   "id": "39211203",
   "metadata": {},
   "source": [
    "# Dictionary"
   ]
  },
  {
   "cell_type": "markdown",
   "id": "e06b2a41",
   "metadata": {},
   "source": [
    "Dictionaries werden mit einer geschweiften Klammer gebildet. Im Vergleich zum Set ist hier ein Doppelpunkt zu finden.\n",
    "Die Syntax lautet: \"Key:Value\""
   ]
  },
  {
   "cell_type": "code",
   "execution_count": 8,
   "id": "df16009f",
   "metadata": {},
   "outputs": [
    {
     "name": "stdout",
     "output_type": "stream",
     "text": [
      "{'Alice': 'Hamburg', 'Bob': 'München', 'Claudia': 'Berlin'} \n",
      " Hamburg München None\n"
     ]
    }
   ],
   "source": [
    "Wohnorte = {\"Alice\":\"Hamburg\", \"Bob\":\"München\", \"Claudia\":\"Berlin\"}\n",
    "print(Wohnorte,\"\\n\", Wohnorte[\"Alice\"], Wohnorte.get(\"Bob\"), Wohnorte.get(\"Detlef\"))\n",
    "\n"
   ]
  },
  {
   "cell_type": "markdown",
   "id": "c607e759",
   "metadata": {},
   "source": [
    "Wie man sieht, bekommt man ein None falls der Key nicht vorhanden ist. Was passiert bei doppelten Einträgen?"
   ]
  },
  {
   "cell_type": "code",
   "execution_count": 18,
   "id": "b830251c",
   "metadata": {},
   "outputs": [
    {
     "name": "stdout",
     "output_type": "stream",
     "text": [
      "{'Alice': 'Doppelthausen', 'Bob': 'München', 'Claudia': 'Berlin'} \n",
      " Doppelthausen\n"
     ]
    }
   ],
   "source": [
    "Wohnorte = {\"Alice\":\"Hamburg\", \"Bob\":\"München\", \"Claudia\":\"Berlin\", \"Alice\":\"Doppelthausen\"}\n",
    "print(Wohnorte,\"\\n\", Wohnorte[\"Alice\"])"
   ]
  },
  {
   "cell_type": "markdown",
   "id": "1d85522e-401b-4149-92f2-3d0d4e8f3308",
   "metadata": {},
   "source": [
    "Bei Doppeleinträgen wird also der letzte Eintrag festgehalten. \n",
    "Gleiches erreicht man auch, wenn der Eintrag überschrieben wird:"
   ]
  },
  {
   "cell_type": "code",
   "execution_count": 19,
   "id": "3e2a9181",
   "metadata": {},
   "outputs": [
    {
     "name": "stdout",
     "output_type": "stream",
     "text": [
      "{'Alice': 'Hannover', 'Bob': 'München', 'Claudia': 'Berlin'}\n"
     ]
    }
   ],
   "source": [
    "Wohnorte[\"Alice\"]=\"Hannover\"\n",
    "print(Wohnorte)"
   ]
  },
  {
   "cell_type": "markdown",
   "id": "445e25c3",
   "metadata": {},
   "source": [
    "Man muss sich also keine Sorgen über doppelte Elemente machen sondern nur, ob man ggf. noch benötigte Informationen überschreibt..."
   ]
  },
  {
   "cell_type": "markdown",
   "id": "f4e4c6e7",
   "metadata": {},
   "source": [
    "Zum Abschluss der Dictionaries noch etwas Spezielles. \n",
    "Bisher: Suche und Steuerung über den Key - dafür war der Key da. \n",
    "Fragestellung: Kann man den Key auch über die Values finden? \n",
    "Am Beispiel gedacht: Wer wohnt alles in Berlin?\n",
    "Antwort: Ja man kann und dafür gibt es verschiedene Möglichkeiten. \n",
    "Aber: Dies war nicht so ganz im Sinne des Erfinders ;) \n",
    "Die Umsetzung erfolgt als Übungsaufgabe wenn wir etwas mehr über Statements und co. wissen..."
   ]
  },
  {
   "cell_type": "code",
   "execution_count": 20,
   "id": "040e830d-f5f2-40b9-adac-b8bff29a49b9",
   "metadata": {},
   "outputs": [
    {
     "name": "stdout",
     "output_type": "stream",
     "text": [
      "{'Hannover': ['Mika', 'Jonas']}\n"
     ]
    }
   ],
   "source": [
    "bla = {\"Hannover\": [\"Mika\", \"Jonas\"]}\n",
    "print(bla)\n"
   ]
  },
  {
   "cell_type": "code",
   "execution_count": 21,
   "id": "0a681b17-6db8-4c6b-9bc2-4958b93e2c52",
   "metadata": {},
   "outputs": [
    {
     "name": "stdout",
     "output_type": "stream",
     "text": [
      "['Mika', 'Jonas']\n"
     ]
    }
   ],
   "source": [
    "Leute_aus_Hannover = bla[\"Hannover\"]\n",
    "print(Leute_aus_Hannover)"
   ]
  },
  {
   "cell_type": "code",
   "execution_count": null,
   "id": "7c136334-6ca0-40b2-88ab-5dcdee9e95fd",
   "metadata": {},
   "outputs": [],
   "source": []
  },
  {
   "cell_type": "code",
   "execution_count": 22,
   "id": "4e9d2e7e-1beb-45cd-a487-6b6c568bea8e",
   "metadata": {},
   "outputs": [],
   "source": [
    "bla[\"Hannover\"].append(\"Martin\")"
   ]
  },
  {
   "cell_type": "code",
   "execution_count": 23,
   "id": "431277a6-e605-4b99-b773-b2f2b9d56f42",
   "metadata": {},
   "outputs": [
    {
     "name": "stdout",
     "output_type": "stream",
     "text": [
      "{'Hannover': ['Mika', 'Jonas', 'Martin']}\n"
     ]
    }
   ],
   "source": [
    "print(bla)"
   ]
  },
  {
   "cell_type": "code",
   "execution_count": null,
   "id": "5c0e83e2-af25-44ac-ba02-085ea9f4c7ab",
   "metadata": {},
   "outputs": [],
   "source": []
  }
 ],
 "metadata": {
  "kernelspec": {
   "display_name": "Python 3 (ipykernel)",
   "language": "python",
   "name": "python3"
  },
  "language_info": {
   "codemirror_mode": {
    "name": "ipython",
    "version": 3
   },
   "file_extension": ".py",
   "mimetype": "text/x-python",
   "name": "python",
   "nbconvert_exporter": "python",
   "pygments_lexer": "ipython3",
   "version": "3.10.9"
  }
 },
 "nbformat": 4,
 "nbformat_minor": 5
}
